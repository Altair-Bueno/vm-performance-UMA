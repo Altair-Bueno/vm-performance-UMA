{
 "cells": [
  {
   "cell_type": "markdown",
   "source": [
    "# VM performance"
   ],
   "metadata": {
    "collapsed": false,
    "pycharm": {
     "name": "#%% md\n"
    }
   }
  },
  {
   "cell_type": "code",
   "execution_count": 1,
   "outputs": [],
   "source": [
    "import polars as pl\n",
    "\n",
    "from src import util"
   ],
   "metadata": {
    "collapsed": false,
    "pycharm": {
     "name": "#%%\n"
    }
   }
  },
  {
   "cell_type": "markdown",
   "source": [
    "# Loading the data"
   ],
   "metadata": {
    "collapsed": false,
    "pycharm": {
     "name": "#%% md\n"
    }
   }
  },
  {
   "cell_type": "markdown",
   "source": [
    "## Host machine"
   ],
   "metadata": {
    "collapsed": false,
    "pycharm": {
     "name": "#%% md\n"
    }
   }
  },
  {
   "cell_type": "code",
   "execution_count": 2,
   "outputs": [
    {
     "data": {
      "text/plain": "shape: (60, 19)\n┌─────────┬─────────┬──────────┬────────────┬─────┬────────────┬────────────┬────────────┬─────────┐\n│ name    ┆ command ┆ task_clo ┆ cpus_utili ┆ ... ┆ branches_s ┆ branch_mis ┆ branch_mis ┆ total   │\n│ ---     ┆ ---     ┆ ck       ┆ zed        ┆     ┆ peed       ┆ ses        ┆ ses_percen ┆ ---     │\n│ str     ┆ str     ┆ ---      ┆ ---        ┆     ┆ ---        ┆ ---        ┆ tage       ┆ str     │\n│         ┆         ┆ str      ┆ str        ┆     ┆ str        ┆ str        ┆ ---        ┆         │\n│         ┆         ┆          ┆            ┆     ┆            ┆            ┆ str        ┆         │\n╞═════════╪═════════╪══════════╪════════════╪═════╪════════════╪════════════╪════════════╪═════════╡\n│ ddcopy  ┆ '/mater ┆ 19.04616 ┆ 0.080      ┆ ... ┆ 930.220    ┆ 135907     ┆ 0.77       ┆ 0.23908 │\n│         ┆ ial/ben ┆ 2        ┆            ┆     ┆            ┆            ┆            ┆ 1550    │\n│         ┆ chmarks ┆          ┆            ┆     ┆            ┆            ┆            ┆         │\n│         ┆ /codes/ ┆          ┆            ┆     ┆            ┆            ┆            ┆         │\n│         ┆ ddco... ┆          ┆            ┆     ┆            ┆            ┆            ┆         │\n├╌╌╌╌╌╌╌╌╌┼╌╌╌╌╌╌╌╌╌┼╌╌╌╌╌╌╌╌╌╌┼╌╌╌╌╌╌╌╌╌╌╌╌┼╌╌╌╌╌┼╌╌╌╌╌╌╌╌╌╌╌╌┼╌╌╌╌╌╌╌╌╌╌╌╌┼╌╌╌╌╌╌╌╌╌╌╌╌┼╌╌╌╌╌╌╌╌╌┤\n│ ddcopy  ┆ '/mater ┆ 33.55497 ┆ 0.137      ┆ ... ┆ 527.687    ┆ 130070     ┆ 0.73       ┆ 0.24440 │\n│         ┆ ial/ben ┆ 4        ┆            ┆     ┆            ┆            ┆            ┆ 8060    │\n│         ┆ chmarks ┆          ┆            ┆     ┆            ┆            ┆            ┆         │\n│         ┆ /codes/ ┆          ┆            ┆     ┆            ┆            ┆            ┆         │\n│         ┆ ddco... ┆          ┆            ┆     ┆            ┆            ┆            ┆         │\n├╌╌╌╌╌╌╌╌╌┼╌╌╌╌╌╌╌╌╌┼╌╌╌╌╌╌╌╌╌╌┼╌╌╌╌╌╌╌╌╌╌╌╌┼╌╌╌╌╌┼╌╌╌╌╌╌╌╌╌╌╌╌┼╌╌╌╌╌╌╌╌╌╌╌╌┼╌╌╌╌╌╌╌╌╌╌╌╌┼╌╌╌╌╌╌╌╌╌┤\n│ ddcopy  ┆ '/mater ┆ 22.86124 ┆ 0.096      ┆ ... ┆ 781.778    ┆ 138689     ┆ 0.78       ┆ 0.23929 │\n│         ┆ ial/ben ┆ 0        ┆            ┆     ┆            ┆            ┆            ┆ 6416    │\n│         ┆ chmarks ┆          ┆            ┆     ┆            ┆            ┆            ┆         │\n│         ┆ /codes/ ┆          ┆            ┆     ┆            ┆            ┆            ┆         │\n│         ┆ ddco... ┆          ┆            ┆     ┆            ┆            ┆            ┆         │\n├╌╌╌╌╌╌╌╌╌┼╌╌╌╌╌╌╌╌╌┼╌╌╌╌╌╌╌╌╌╌┼╌╌╌╌╌╌╌╌╌╌╌╌┼╌╌╌╌╌┼╌╌╌╌╌╌╌╌╌╌╌╌┼╌╌╌╌╌╌╌╌╌╌╌╌┼╌╌╌╌╌╌╌╌╌╌╌╌┼╌╌╌╌╌╌╌╌╌┤\n│ ddcopy  ┆ '/mater ┆ 36.33705 ┆ 0.147      ┆ ... ┆ 486.726    ┆ 125335     ┆ 0.71       ┆ 0.24679 │\n│         ┆ ial/ben ┆ 2        ┆            ┆     ┆            ┆            ┆            ┆ 1225    │\n│         ┆ chmarks ┆          ┆            ┆     ┆            ┆            ┆            ┆         │\n│         ┆ /codes/ ┆          ┆            ┆     ┆            ┆            ┆            ┆         │\n│         ┆ ddco... ┆          ┆            ┆     ┆            ┆            ┆            ┆         │\n├╌╌╌╌╌╌╌╌╌┼╌╌╌╌╌╌╌╌╌┼╌╌╌╌╌╌╌╌╌╌┼╌╌╌╌╌╌╌╌╌╌╌╌┼╌╌╌╌╌┼╌╌╌╌╌╌╌╌╌╌╌╌┼╌╌╌╌╌╌╌╌╌╌╌╌┼╌╌╌╌╌╌╌╌╌╌╌╌┼╌╌╌╌╌╌╌╌╌┤\n│ ...     ┆ ...     ┆ ...      ┆ ...        ┆ ... ┆ ...        ┆ ...        ┆ ...        ┆ ...     │\n├╌╌╌╌╌╌╌╌╌┼╌╌╌╌╌╌╌╌╌┼╌╌╌╌╌╌╌╌╌╌┼╌╌╌╌╌╌╌╌╌╌╌╌┼╌╌╌╌╌┼╌╌╌╌╌╌╌╌╌╌╌╌┼╌╌╌╌╌╌╌╌╌╌╌╌┼╌╌╌╌╌╌╌╌╌╌╌╌┼╌╌╌╌╌╌╌╌╌┤\n│ sleep10 ┆ 'sleep  ┆ 0.563138 ┆ 0.000      ┆ ... ┆ 289.639    ┆ 7608       ┆ 4.66       ┆ 10.0009 │\n│         ┆ 10'     ┆          ┆            ┆     ┆            ┆            ┆            ┆ 93908   │\n├╌╌╌╌╌╌╌╌╌┼╌╌╌╌╌╌╌╌╌┼╌╌╌╌╌╌╌╌╌╌┼╌╌╌╌╌╌╌╌╌╌╌╌┼╌╌╌╌╌┼╌╌╌╌╌╌╌╌╌╌╌╌┼╌╌╌╌╌╌╌╌╌╌╌╌┼╌╌╌╌╌╌╌╌╌╌╌╌┼╌╌╌╌╌╌╌╌╌┤\n│ sleep10 ┆ 'sleep  ┆ 0.545441 ┆ 0.000      ┆ ... ┆ 300.016    ┆ 7576       ┆ 4.63       ┆ 10.0009 │\n│         ┆ 10'     ┆          ┆            ┆     ┆            ┆            ┆            ┆ 72291   │\n├╌╌╌╌╌╌╌╌╌┼╌╌╌╌╌╌╌╌╌┼╌╌╌╌╌╌╌╌╌╌┼╌╌╌╌╌╌╌╌╌╌╌╌┼╌╌╌╌╌┼╌╌╌╌╌╌╌╌╌╌╌╌┼╌╌╌╌╌╌╌╌╌╌╌╌┼╌╌╌╌╌╌╌╌╌╌╌╌┼╌╌╌╌╌╌╌╌╌┤\n│ sleep10 ┆ 'sleep  ┆ 0.569013 ┆ 0.000      ┆ ... ┆ 289.296    ┆ 7663       ┆ 4.66       ┆ 10.0010 │\n│         ┆ 10'     ┆          ┆            ┆     ┆            ┆            ┆            ┆ 00446   │\n├╌╌╌╌╌╌╌╌╌┼╌╌╌╌╌╌╌╌╌┼╌╌╌╌╌╌╌╌╌╌┼╌╌╌╌╌╌╌╌╌╌╌╌┼╌╌╌╌╌┼╌╌╌╌╌╌╌╌╌╌╌╌┼╌╌╌╌╌╌╌╌╌╌╌╌┼╌╌╌╌╌╌╌╌╌╌╌╌┼╌╌╌╌╌╌╌╌╌┤\n│ sleep10 ┆ 'sleep  ┆ 0.552971 ┆ 0.000      ┆ ... ┆ 290.614    ┆ 7603       ┆ 4.73       ┆ 10.0009 │\n│         ┆ 10'     ┆          ┆            ┆     ┆            ┆            ┆            ┆ 81169   │\n└─────────┴─────────┴──────────┴────────────┴─────┴────────────┴────────────┴────────────┴─────────┘",
      "text/html": "<div>\n<style scoped>\n    .dataframe tbody tr th:only-of-type {\n        vertical-align: middle;\n    }\n\n    .dataframe tbody tr th {\n        vertical-align: top;\n    }\n\n    .dataframe thead th {\n        text-align: right;\n    }\n\n    .dataframe td {\n        white-space: pre;\n    }\n\n    .dataframe td {\n        padding-top: 0;\n    }\n\n    .dataframe td {\n        padding-bottom: 0;\n    }\n\n    .dataframe td {\n        line-height: 95%;\n    }\n</style>\n<table border=\"1\" class=\"dataframe\" >\n<small>shape: (60, 19)</small>\n<thead>\n<tr>\n<th>\nname\n</th>\n<th>\ncommand\n</th>\n<th>\ntask_clock\n</th>\n<th>\ncpus_utilized\n</th>\n<th>\ncontext_switches\n</th>\n<th>\ncontext_switches_speed\n</th>\n<th>\ncpu_migrations\n</th>\n<th>\ncpu_migrations_speed\n</th>\n<th>\npage_faults\n</th>\n<th>\npage_faults_speed\n</th>\n<th>\ncycles\n</th>\n<th>\ncycles_hz\n</th>\n<th>\ninstructions\n</th>\n<th>\nins_per_cycle\n</th>\n<th>\nbranches\n</th>\n<th>\nbranches_speed\n</th>\n<th>\nbranch_misses\n</th>\n<th>\nbranch_misses_percentage\n</th>\n<th>\ntotal\n</th>\n</tr>\n<tr>\n<td>\nstr\n</td>\n<td>\nstr\n</td>\n<td>\nstr\n</td>\n<td>\nstr\n</td>\n<td>\nstr\n</td>\n<td>\nstr\n</td>\n<td>\nstr\n</td>\n<td>\nstr\n</td>\n<td>\nstr\n</td>\n<td>\nstr\n</td>\n<td>\nstr\n</td>\n<td>\nstr\n</td>\n<td>\nstr\n</td>\n<td>\nstr\n</td>\n<td>\nstr\n</td>\n<td>\nstr\n</td>\n<td>\nstr\n</td>\n<td>\nstr\n</td>\n<td>\nstr\n</td>\n</tr>\n</thead>\n<tbody>\n<tr>\n<td>\n\"ddcopy\"\n</td>\n<td>\n\"'/material/ben...\n</td>\n<td>\n\"19.046162\"\n</td>\n<td>\n\"0.080\"\n</td>\n<td>\n\"103\"\n</td>\n<td>\n\"0.005\"\n</td>\n<td>\n\"4\"\n</td>\n<td>\n\"0.210\"\n</td>\n<td>\n\"404\"\n</td>\n<td>\n\"0.021\"\n</td>\n<td>\n\"61151079\"\n</td>\n<td>\n\"3.211\"\n</td>\n<td>\n\"78043867\"\n</td>\n<td>\n\"1.28\"\n</td>\n<td>\n\"17717117\"\n</td>\n<td>\n\"930.220\"\n</td>\n<td>\n\"135907\"\n</td>\n<td>\n\"0.77\"\n</td>\n<td>\n\"0.239081550\"\n</td>\n</tr>\n<tr>\n<td>\n\"ddcopy\"\n</td>\n<td>\n\"'/material/ben...\n</td>\n<td>\n\"33.554974\"\n</td>\n<td>\n\"0.137\"\n</td>\n<td>\n\"109\"\n</td>\n<td>\n\"0.003\"\n</td>\n<td>\n\"1\"\n</td>\n<td>\n\"0.030\"\n</td>\n<td>\n\"403\"\n</td>\n<td>\n\"0.012\"\n</td>\n<td>\n\"54452921\"\n</td>\n<td>\n\"1.623\"\n</td>\n<td>\n\"77989038\"\n</td>\n<td>\n\"1.43\"\n</td>\n<td>\n\"17706508\"\n</td>\n<td>\n\"527.687\"\n</td>\n<td>\n\"130070\"\n</td>\n<td>\n\"0.73\"\n</td>\n<td>\n\"0.244408060\"\n</td>\n</tr>\n<tr>\n<td>\n\"ddcopy\"\n</td>\n<td>\n\"'/material/ben...\n</td>\n<td>\n\"22.861240\"\n</td>\n<td>\n\"0.096\"\n</td>\n<td>\n\"109\"\n</td>\n<td>\n\"0.005\"\n</td>\n<td>\n\"0\"\n</td>\n<td>\n\"0.000\"\n</td>\n<td>\n\"403\"\n</td>\n<td>\n\"0.018\"\n</td>\n<td>\n\"58845698\"\n</td>\n<td>\n\"2.574\"\n</td>\n<td>\n\"79268294\"\n</td>\n<td>\n\"1.35\"\n</td>\n<td>\n\"17872425\"\n</td>\n<td>\n\"781.778\"\n</td>\n<td>\n\"138689\"\n</td>\n<td>\n\"0.78\"\n</td>\n<td>\n\"0.239296416\"\n</td>\n</tr>\n<tr>\n<td>\n\"ddcopy\"\n</td>\n<td>\n\"'/material/ben...\n</td>\n<td>\n\"36.337052\"\n</td>\n<td>\n\"0.147\"\n</td>\n<td>\n\"108\"\n</td>\n<td>\n\"0.003\"\n</td>\n<td>\n\"2\"\n</td>\n<td>\n\"0.055\"\n</td>\n<td>\n\"406\"\n</td>\n<td>\n\"0.011\"\n</td>\n<td>\n\"50255354\"\n</td>\n<td>\n\"1.383\"\n</td>\n<td>\n\"77917256\"\n</td>\n<td>\n\"1.55\"\n</td>\n<td>\n\"17686187\"\n</td>\n<td>\n\"486.726\"\n</td>\n<td>\n\"125335\"\n</td>\n<td>\n\"0.71\"\n</td>\n<td>\n\"0.246791225\"\n</td>\n</tr>\n<tr>\n<td>\n\"ddcopy\"\n</td>\n<td>\n\"'/material/ben...\n</td>\n<td>\n\"26.524522\"\n</td>\n<td>\n\"0.107\"\n</td>\n<td>\n\"107\"\n</td>\n<td>\n\"0.004\"\n</td>\n<td>\n\"0\"\n</td>\n<td>\n\"0.000\"\n</td>\n<td>\n\"407\"\n</td>\n<td>\n\"0.015\"\n</td>\n<td>\n\"53214672\"\n</td>\n<td>\n\"2.006\"\n</td>\n<td>\n\"77745140\"\n</td>\n<td>\n\"1.46\"\n</td>\n<td>\n\"17656974\"\n</td>\n<td>\n\"665.685\"\n</td>\n<td>\n\"123429\"\n</td>\n<td>\n\"0.70\"\n</td>\n<td>\n\"0.248132255\"\n</td>\n</tr>\n<tr>\n<td>\n\"ddcopy\"\n</td>\n<td>\n\"'/material/ben...\n</td>\n<td>\n\"25.510604\"\n</td>\n<td>\n\"0.110\"\n</td>\n<td>\n\"107\"\n</td>\n<td>\n\"0.004\"\n</td>\n<td>\n\"2\"\n</td>\n<td>\n\"0.078\"\n</td>\n<td>\n\"401\"\n</td>\n<td>\n\"0.016\"\n</td>\n<td>\n\"52659697\"\n</td>\n<td>\n\"2.064\"\n</td>\n<td>\n\"79414049\"\n</td>\n<td>\n\"1.51\"\n</td>\n<td>\n\"17893481\"\n</td>\n<td>\n\"701.413\"\n</td>\n<td>\n\"122668\"\n</td>\n<td>\n\"0.69\"\n</td>\n<td>\n\"0.232203499\"\n</td>\n</tr>\n<tr>\n<td>\n\"ddcopy\"\n</td>\n<td>\n\"'/material/ben...\n</td>\n<td>\n\"38.707955\"\n</td>\n<td>\n\"0.156\"\n</td>\n<td>\n\"108\"\n</td>\n<td>\n\"0.003\"\n</td>\n<td>\n\"0\"\n</td>\n<td>\n\"0.000\"\n</td>\n<td>\n\"409\"\n</td>\n<td>\n\"0.011\"\n</td>\n<td>\n\"52182616\"\n</td>\n<td>\n\"1.348\"\n</td>\n<td>\n\"79426971\"\n</td>\n<td>\n\"1.52\"\n</td>\n<td>\n\"17902951\"\n</td>\n<td>\n\"462.513\"\n</td>\n<td>\n\"138835\"\n</td>\n<td>\n\"0.78\"\n</td>\n<td>\n\"0.248920542\"\n</td>\n</tr>\n<tr>\n<td>\n\"ddcopy\"\n</td>\n<td>\n\"'/material/ben...\n</td>\n<td>\n\"32.388299\"\n</td>\n<td>\n\"0.134\"\n</td>\n<td>\n\"107\"\n</td>\n<td>\n\"0.003\"\n</td>\n<td>\n\"0\"\n</td>\n<td>\n\"0.000\"\n</td>\n<td>\n\"404\"\n</td>\n<td>\n\"0.012\"\n</td>\n<td>\n\"52381150\"\n</td>\n<td>\n\"1.617\"\n</td>\n<td>\n\"79367095\"\n</td>\n<td>\n\"1.52\"\n</td>\n<td>\n\"17890682\"\n</td>\n<td>\n\"552.381\"\n</td>\n<td>\n\"138838\"\n</td>\n<td>\n\"0.78\"\n</td>\n<td>\n\"0.241456037\"\n</td>\n</tr>\n<tr>\n<td>\n\"ddcopy\"\n</td>\n<td>\n\"'/material/ben...\n</td>\n<td>\n\"33.807970\"\n</td>\n<td>\n\"0.132\"\n</td>\n<td>\n\"109\"\n</td>\n<td>\n\"0.003\"\n</td>\n<td>\n\"2\"\n</td>\n<td>\n\"0.059\"\n</td>\n<td>\n\"405\"\n</td>\n<td>\n\"0.012\"\n</td>\n<td>\n\"50978446\"\n</td>\n<td>\n\"1.508\"\n</td>\n<td>\n\"77795757\"\n</td>\n<td>\n\"1.53\"\n</td>\n<td>\n\"17672332\"\n</td>\n<td>\n\"522.727\"\n</td>\n<td>\n\"125146\"\n</td>\n<td>\n\"0.71\"\n</td>\n<td>\n\"0.256707280\"\n</td>\n</tr>\n<tr>\n<td>\n\"ddcopy\"\n</td>\n<td>\n\"'/material/ben...\n</td>\n<td>\n\"28.874204\"\n</td>\n<td>\n\"0.121\"\n</td>\n<td>\n\"108\"\n</td>\n<td>\n\"0.004\"\n</td>\n<td>\n\"1\"\n</td>\n<td>\n\"0.035\"\n</td>\n<td>\n\"407\"\n</td>\n<td>\n\"0.014\"\n</td>\n<td>\n\"52867407\"\n</td>\n<td>\n\"1.831\"\n</td>\n<td>\n\"77773128\"\n</td>\n<td>\n\"1.47\"\n</td>\n<td>\n\"17663203\"\n</td>\n<td>\n\"611.730\"\n</td>\n<td>\n\"126889\"\n</td>\n<td>\n\"0.72\"\n</td>\n<td>\n\"0.238509574\"\n</td>\n</tr>\n<tr>\n<td>\n\"forkwait\"\n</td>\n<td>\n\"'/material/ben...\n</td>\n<td>\n\"12048.538009\"\n</td>\n<td>\n\"0.781\"\n</td>\n<td>\n\"51249\"\n</td>\n<td>\n\"0.004\"\n</td>\n<td>\n\"23689\"\n</td>\n<td>\n\"0.002\"\n</td>\n<td>\n\"1150056\"\n</td>\n<td>\n\"0.095\"\n</td>\n<td>\n\"15161157817\"\n</td>\n<td>\n\"1.258\"\n</td>\n<td>\n\"12059057925\"\n</td>\n<td>\n\"0.80\"\n</td>\n<td>\n\"2263994011\"\n</td>\n<td>\n\"187.906\"\n</td>\n<td>\n\"76946121\"\n</td>\n<td>\n\"3.40\"\n</td>\n<td>\n\"15.426859456\"\n</td>\n</tr>\n<tr>\n<td>\n\"forkwait\"\n</td>\n<td>\n\"'/material/ben...\n</td>\n<td>\n\"12133.344102\"\n</td>\n<td>\n\"0.789\"\n</td>\n<td>\n\"51152\"\n</td>\n<td>\n\"0.004\"\n</td>\n<td>\n\"22442\"\n</td>\n<td>\n\"0.002\"\n</td>\n<td>\n\"1100052\"\n</td>\n<td>\n\"0.091\"\n</td>\n<td>\n\"14745321234\"\n</td>\n<td>\n\"1.215\"\n</td>\n<td>\n\"11630235164\"\n</td>\n<td>\n\"0.79\"\n</td>\n<td>\n\"2182400292\"\n</td>\n<td>\n\"179.868\"\n</td>\n<td>\n\"77719725\"\n</td>\n<td>\n\"3.56\"\n</td>\n<td>\n\"15.369879397\"\n</td>\n</tr>\n<tr>\n<td>\n...\n</td>\n<td>\n...\n</td>\n<td>\n...\n</td>\n<td>\n...\n</td>\n<td>\n...\n</td>\n<td>\n...\n</td>\n<td>\n...\n</td>\n<td>\n...\n</td>\n<td>\n...\n</td>\n<td>\n...\n</td>\n<td>\n...\n</td>\n<td>\n...\n</td>\n<td>\n...\n</td>\n<td>\n...\n</td>\n<td>\n...\n</td>\n<td>\n...\n</td>\n<td>\n...\n</td>\n<td>\n...\n</td>\n<td>\n...\n</td>\n</tr>\n<tr>\n<td>\n\"sleep5\"\n</td>\n<td>\n\"'sleep 5'\"\n</td>\n<td>\n\"0.569836\"\n</td>\n<td>\n\"0.000\"\n</td>\n<td>\n\"1\"\n</td>\n<td>\n\"0.002\"\n</td>\n<td>\n\"0\"\n</td>\n<td>\n\"0.000\"\n</td>\n<td>\n\"60\"\n</td>\n<td>\n\"0.105\"\n</td>\n<td>\n\"1209408\"\n</td>\n<td>\n\"2.122\"\n</td>\n<td>\n\"847081\"\n</td>\n<td>\n\"0.70\"\n</td>\n<td>\n\"165665\"\n</td>\n<td>\n\"290.724\"\n</td>\n<td>\n\"7602\"\n</td>\n<td>\n\"4.59\"\n</td>\n<td>\n\"5.001000727\"\n</td>\n</tr>\n<tr>\n<td>\n\"sleep5\"\n</td>\n<td>\n\"'sleep 5'\"\n</td>\n<td>\n\"0.561501\"\n</td>\n<td>\n\"0.000\"\n</td>\n<td>\n\"1\"\n</td>\n<td>\n\"0.002\"\n</td>\n<td>\n\"0\"\n</td>\n<td>\n\"0.000\"\n</td>\n<td>\n\"59\"\n</td>\n<td>\n\"0.105\"\n</td>\n<td>\n\"1182775\"\n</td>\n<td>\n\"2.106\"\n</td>\n<td>\n\"843497\"\n</td>\n<td>\n\"0.71\"\n</td>\n<td>\n\"164061\"\n</td>\n<td>\n\"292.183\"\n</td>\n<td>\n\"7666\"\n</td>\n<td>\n\"4.67\"\n</td>\n<td>\n\"5.000997960\"\n</td>\n</tr>\n<tr>\n<td>\n\"sleep10\"\n</td>\n<td>\n\"'sleep 10'\"\n</td>\n<td>\n\"0.579592\"\n</td>\n<td>\n\"0.000\"\n</td>\n<td>\n\"1\"\n</td>\n<td>\n\"0.002\"\n</td>\n<td>\n\"0\"\n</td>\n<td>\n\"0.000\"\n</td>\n<td>\n\"59\"\n</td>\n<td>\n\"0.102\"\n</td>\n<td>\n\"1225579\"\n</td>\n<td>\n\"2.115\"\n</td>\n<td>\n\"833467\"\n</td>\n<td>\n\"0.68\"\n</td>\n<td>\n\"163213\"\n</td>\n<td>\n\"281.600\"\n</td>\n<td>\n\"7686\"\n</td>\n<td>\n\"4.71\"\n</td>\n<td>\n\"10.001012858\"\n</td>\n</tr>\n<tr>\n<td>\n\"sleep10\"\n</td>\n<td>\n\"'sleep 10'\"\n</td>\n<td>\n\"0.560157\"\n</td>\n<td>\n\"0.000\"\n</td>\n<td>\n\"1\"\n</td>\n<td>\n\"0.002\"\n</td>\n<td>\n\"0\"\n</td>\n<td>\n\"0.000\"\n</td>\n<td>\n\"59\"\n</td>\n<td>\n\"0.105\"\n</td>\n<td>\n\"1190362\"\n</td>\n<td>\n\"2.125\"\n</td>\n<td>\n\"842882\"\n</td>\n<td>\n\"0.71\"\n</td>\n<td>\n\"164524\"\n</td>\n<td>\n\"293.711\"\n</td>\n<td>\n\"7656\"\n</td>\n<td>\n\"4.65\"\n</td>\n<td>\n\"10.001013209\"\n</td>\n</tr>\n<tr>\n<td>\n\"sleep10\"\n</td>\n<td>\n\"'sleep 10'\"\n</td>\n<td>\n\"0.600972\"\n</td>\n<td>\n\"0.000\"\n</td>\n<td>\n\"1\"\n</td>\n<td>\n\"0.002\"\n</td>\n<td>\n\"0\"\n</td>\n<td>\n\"0.000\"\n</td>\n<td>\n\"60\"\n</td>\n<td>\n\"0.100\"\n</td>\n<td>\n\"1219070\"\n</td>\n<td>\n\"2.028\"\n</td>\n<td>\n\"836324\"\n</td>\n<td>\n\"0.69\"\n</td>\n<td>\n\"164011\"\n</td>\n<td>\n\"272.910\"\n</td>\n<td>\n\"7847\"\n</td>\n<td>\n\"4.78\"\n</td>\n<td>\n\"10.001032526\"\n</td>\n</tr>\n<tr>\n<td>\n\"sleep10\"\n</td>\n<td>\n\"'sleep 10'\"\n</td>\n<td>\n\"0.585792\"\n</td>\n<td>\n\"0.000\"\n</td>\n<td>\n\"1\"\n</td>\n<td>\n\"0.002\"\n</td>\n<td>\n\"0\"\n</td>\n<td>\n\"0.000\"\n</td>\n<td>\n\"60\"\n</td>\n<td>\n\"0.102\"\n</td>\n<td>\n\"1194742\"\n</td>\n<td>\n\"2.040\"\n</td>\n<td>\n\"842969\"\n</td>\n<td>\n\"0.71\"\n</td>\n<td>\n\"165141\"\n</td>\n<td>\n\"281.911\"\n</td>\n<td>\n\"7656\"\n</td>\n<td>\n\"4.64\"\n</td>\n<td>\n\"10.001022493\"\n</td>\n</tr>\n<tr>\n<td>\n\"sleep10\"\n</td>\n<td>\n\"'sleep 10'\"\n</td>\n<td>\n\"0.578347\"\n</td>\n<td>\n\"0.000\"\n</td>\n<td>\n\"1\"\n</td>\n<td>\n\"0.002\"\n</td>\n<td>\n\"0\"\n</td>\n<td>\n\"0.000\"\n</td>\n<td>\n\"59\"\n</td>\n<td>\n\"0.102\"\n</td>\n<td>\n\"1169527\"\n</td>\n<td>\n\"2.022\"\n</td>\n<td>\n\"836714\"\n</td>\n<td>\n\"0.72\"\n</td>\n<td>\n\"163575\"\n</td>\n<td>\n\"282.832\"\n</td>\n<td>\n\"7662\"\n</td>\n<td>\n\"4.68\"\n</td>\n<td>\n\"10.001009144\"\n</td>\n</tr>\n<tr>\n<td>\n\"sleep10\"\n</td>\n<td>\n\"'sleep 10'\"\n</td>\n<td>\n\"0.542616\"\n</td>\n<td>\n\"0.000\"\n</td>\n<td>\n\"1\"\n</td>\n<td>\n\"0.002\"\n</td>\n<td>\n\"0\"\n</td>\n<td>\n\"0.000\"\n</td>\n<td>\n\"60\"\n</td>\n<td>\n\"0.111\"\n</td>\n<td>\n\"1180568\"\n</td>\n<td>\n\"2.176\"\n</td>\n<td>\n\"830651\"\n</td>\n<td>\n\"0.70\"\n</td>\n<td>\n\"163091\"\n</td>\n<td>\n\"300.564\"\n</td>\n<td>\n\"7625\"\n</td>\n<td>\n\"4.68\"\n</td>\n<td>\n\"10.000917999\"\n</td>\n</tr>\n<tr>\n<td>\n\"sleep10\"\n</td>\n<td>\n\"'sleep 10'\"\n</td>\n<td>\n\"0.563138\"\n</td>\n<td>\n\"0.000\"\n</td>\n<td>\n\"1\"\n</td>\n<td>\n\"0.002\"\n</td>\n<td>\n\"0\"\n</td>\n<td>\n\"0.000\"\n</td>\n<td>\n\"59\"\n</td>\n<td>\n\"0.105\"\n</td>\n<td>\n\"1201251\"\n</td>\n<td>\n\"2.133\"\n</td>\n<td>\n\"830892\"\n</td>\n<td>\n\"0.69\"\n</td>\n<td>\n\"163107\"\n</td>\n<td>\n\"289.639\"\n</td>\n<td>\n\"7608\"\n</td>\n<td>\n\"4.66\"\n</td>\n<td>\n\"10.000993908\"\n</td>\n</tr>\n<tr>\n<td>\n\"sleep10\"\n</td>\n<td>\n\"'sleep 10'\"\n</td>\n<td>\n\"0.545441\"\n</td>\n<td>\n\"0.000\"\n</td>\n<td>\n\"1\"\n</td>\n<td>\n\"0.002\"\n</td>\n<td>\n\"0\"\n</td>\n<td>\n\"0.000\"\n</td>\n<td>\n\"61\"\n</td>\n<td>\n\"0.112\"\n</td>\n<td>\n\"1170007\"\n</td>\n<td>\n\"2.145\"\n</td>\n<td>\n\"834720\"\n</td>\n<td>\n\"0.71\"\n</td>\n<td>\n\"163641\"\n</td>\n<td>\n\"300.016\"\n</td>\n<td>\n\"7576\"\n</td>\n<td>\n\"4.63\"\n</td>\n<td>\n\"10.000972291\"\n</td>\n</tr>\n<tr>\n<td>\n\"sleep10\"\n</td>\n<td>\n\"'sleep 10'\"\n</td>\n<td>\n\"0.569013\"\n</td>\n<td>\n\"0.000\"\n</td>\n<td>\n\"1\"\n</td>\n<td>\n\"0.002\"\n</td>\n<td>\n\"0\"\n</td>\n<td>\n\"0.000\"\n</td>\n<td>\n\"59\"\n</td>\n<td>\n\"0.104\"\n</td>\n<td>\n\"1194870\"\n</td>\n<td>\n\"2.100\"\n</td>\n<td>\n\"843071\"\n</td>\n<td>\n\"0.71\"\n</td>\n<td>\n\"164613\"\n</td>\n<td>\n\"289.296\"\n</td>\n<td>\n\"7663\"\n</td>\n<td>\n\"4.66\"\n</td>\n<td>\n\"10.001000446\"\n</td>\n</tr>\n<tr>\n<td>\n\"sleep10\"\n</td>\n<td>\n\"'sleep 10'\"\n</td>\n<td>\n\"0.552971\"\n</td>\n<td>\n\"0.000\"\n</td>\n<td>\n\"1\"\n</td>\n<td>\n\"0.002\"\n</td>\n<td>\n\"0\"\n</td>\n<td>\n\"0.000\"\n</td>\n<td>\n\"59\"\n</td>\n<td>\n\"0.107\"\n</td>\n<td>\n\"1170156\"\n</td>\n<td>\n\"2.116\"\n</td>\n<td>\n\"817765\"\n</td>\n<td>\n\"0.70\"\n</td>\n<td>\n\"160701\"\n</td>\n<td>\n\"290.614\"\n</td>\n<td>\n\"7603\"\n</td>\n<td>\n\"4.73\"\n</td>\n<td>\n\"10.000981169\"\n</td>\n</tr>\n</tbody>\n</table>\n</div>"
     },
     "execution_count": 2,
     "metadata": {},
     "output_type": "execute_result"
    }
   ],
   "source": [
    "with open('data/host_bench.json') as file:\n",
    "    extracted = util.extract(file)\n",
    "    raw_host_df = pl.from_dicts(extracted)\n",
    "raw_host_df"
   ],
   "metadata": {
    "collapsed": false,
    "pycharm": {
     "name": "#%%\n"
    }
   }
  },
  {
   "cell_type": "code",
   "execution_count": 3,
   "outputs": [
    {
     "data": {
      "text/plain": "shape: (60, 19)\n┌─────────┬─────────┬──────────┬────────────┬─────┬────────────┬────────────┬────────────┬─────────┐\n│ name    ┆ command ┆ task_clo ┆ cpus_utili ┆ ... ┆ branches_s ┆ branch_mis ┆ branch_mis ┆ total   │\n│ ---     ┆ ---     ┆ ck       ┆ zed        ┆     ┆ peed       ┆ ses        ┆ ses_percen ┆ ---     │\n│ str     ┆ str     ┆ ---      ┆ ---        ┆     ┆ ---        ┆ ---        ┆ tage       ┆ f64     │\n│         ┆         ┆ f64      ┆ f64        ┆     ┆ f64        ┆ f64        ┆ ---        ┆         │\n│         ┆         ┆          ┆            ┆     ┆            ┆            ┆ f64        ┆         │\n╞═════════╪═════════╪══════════╪════════════╪═════╪════════════╪════════════╪════════════╪═════════╡\n│ ddcopy  ┆ '/mater ┆ 19.04616 ┆ 0.08       ┆ ... ┆ 930.22     ┆ 135907.0   ┆ 0.77       ┆ 0.23908 │\n│         ┆ ial/ben ┆ 2        ┆            ┆     ┆            ┆            ┆            ┆ 2       │\n│         ┆ chmarks ┆          ┆            ┆     ┆            ┆            ┆            ┆         │\n│         ┆ /codes/ ┆          ┆            ┆     ┆            ┆            ┆            ┆         │\n│         ┆ ddco... ┆          ┆            ┆     ┆            ┆            ┆            ┆         │\n├╌╌╌╌╌╌╌╌╌┼╌╌╌╌╌╌╌╌╌┼╌╌╌╌╌╌╌╌╌╌┼╌╌╌╌╌╌╌╌╌╌╌╌┼╌╌╌╌╌┼╌╌╌╌╌╌╌╌╌╌╌╌┼╌╌╌╌╌╌╌╌╌╌╌╌┼╌╌╌╌╌╌╌╌╌╌╌╌┼╌╌╌╌╌╌╌╌╌┤\n│ ddcopy  ┆ '/mater ┆ 33.55497 ┆ 0.137      ┆ ... ┆ 527.687    ┆ 130070.0   ┆ 0.73       ┆ 0.24440 │\n│         ┆ ial/ben ┆ 4        ┆            ┆     ┆            ┆            ┆            ┆ 8       │\n│         ┆ chmarks ┆          ┆            ┆     ┆            ┆            ┆            ┆         │\n│         ┆ /codes/ ┆          ┆            ┆     ┆            ┆            ┆            ┆         │\n│         ┆ ddco... ┆          ┆            ┆     ┆            ┆            ┆            ┆         │\n├╌╌╌╌╌╌╌╌╌┼╌╌╌╌╌╌╌╌╌┼╌╌╌╌╌╌╌╌╌╌┼╌╌╌╌╌╌╌╌╌╌╌╌┼╌╌╌╌╌┼╌╌╌╌╌╌╌╌╌╌╌╌┼╌╌╌╌╌╌╌╌╌╌╌╌┼╌╌╌╌╌╌╌╌╌╌╌╌┼╌╌╌╌╌╌╌╌╌┤\n│ ddcopy  ┆ '/mater ┆ 22.86124 ┆ 0.096      ┆ ... ┆ 781.778    ┆ 138689.0   ┆ 0.78       ┆ 0.23929 │\n│         ┆ ial/ben ┆          ┆            ┆     ┆            ┆            ┆            ┆ 6       │\n│         ┆ chmarks ┆          ┆            ┆     ┆            ┆            ┆            ┆         │\n│         ┆ /codes/ ┆          ┆            ┆     ┆            ┆            ┆            ┆         │\n│         ┆ ddco... ┆          ┆            ┆     ┆            ┆            ┆            ┆         │\n├╌╌╌╌╌╌╌╌╌┼╌╌╌╌╌╌╌╌╌┼╌╌╌╌╌╌╌╌╌╌┼╌╌╌╌╌╌╌╌╌╌╌╌┼╌╌╌╌╌┼╌╌╌╌╌╌╌╌╌╌╌╌┼╌╌╌╌╌╌╌╌╌╌╌╌┼╌╌╌╌╌╌╌╌╌╌╌╌┼╌╌╌╌╌╌╌╌╌┤\n│ ddcopy  ┆ '/mater ┆ 36.33705 ┆ 0.147      ┆ ... ┆ 486.726    ┆ 125335.0   ┆ 0.71       ┆ 0.24679 │\n│         ┆ ial/ben ┆ 2        ┆            ┆     ┆            ┆            ┆            ┆ 1       │\n│         ┆ chmarks ┆          ┆            ┆     ┆            ┆            ┆            ┆         │\n│         ┆ /codes/ ┆          ┆            ┆     ┆            ┆            ┆            ┆         │\n│         ┆ ddco... ┆          ┆            ┆     ┆            ┆            ┆            ┆         │\n├╌╌╌╌╌╌╌╌╌┼╌╌╌╌╌╌╌╌╌┼╌╌╌╌╌╌╌╌╌╌┼╌╌╌╌╌╌╌╌╌╌╌╌┼╌╌╌╌╌┼╌╌╌╌╌╌╌╌╌╌╌╌┼╌╌╌╌╌╌╌╌╌╌╌╌┼╌╌╌╌╌╌╌╌╌╌╌╌┼╌╌╌╌╌╌╌╌╌┤\n│ ...     ┆ ...     ┆ ...      ┆ ...        ┆ ... ┆ ...        ┆ ...        ┆ ...        ┆ ...     │\n├╌╌╌╌╌╌╌╌╌┼╌╌╌╌╌╌╌╌╌┼╌╌╌╌╌╌╌╌╌╌┼╌╌╌╌╌╌╌╌╌╌╌╌┼╌╌╌╌╌┼╌╌╌╌╌╌╌╌╌╌╌╌┼╌╌╌╌╌╌╌╌╌╌╌╌┼╌╌╌╌╌╌╌╌╌╌╌╌┼╌╌╌╌╌╌╌╌╌┤\n│ sleep10 ┆ 'sleep  ┆ 0.563138 ┆ 0.0        ┆ ... ┆ 289.639    ┆ 7608.0     ┆ 4.66       ┆ 10.0009 │\n│         ┆ 10'     ┆          ┆            ┆     ┆            ┆            ┆            ┆ 94      │\n├╌╌╌╌╌╌╌╌╌┼╌╌╌╌╌╌╌╌╌┼╌╌╌╌╌╌╌╌╌╌┼╌╌╌╌╌╌╌╌╌╌╌╌┼╌╌╌╌╌┼╌╌╌╌╌╌╌╌╌╌╌╌┼╌╌╌╌╌╌╌╌╌╌╌╌┼╌╌╌╌╌╌╌╌╌╌╌╌┼╌╌╌╌╌╌╌╌╌┤\n│ sleep10 ┆ 'sleep  ┆ 0.545441 ┆ 0.0        ┆ ... ┆ 300.016    ┆ 7576.0     ┆ 4.63       ┆ 10.0009 │\n│         ┆ 10'     ┆          ┆            ┆     ┆            ┆            ┆            ┆ 72      │\n├╌╌╌╌╌╌╌╌╌┼╌╌╌╌╌╌╌╌╌┼╌╌╌╌╌╌╌╌╌╌┼╌╌╌╌╌╌╌╌╌╌╌╌┼╌╌╌╌╌┼╌╌╌╌╌╌╌╌╌╌╌╌┼╌╌╌╌╌╌╌╌╌╌╌╌┼╌╌╌╌╌╌╌╌╌╌╌╌┼╌╌╌╌╌╌╌╌╌┤\n│ sleep10 ┆ 'sleep  ┆ 0.569013 ┆ 0.0        ┆ ... ┆ 289.296    ┆ 7663.0     ┆ 4.66       ┆ 10.001  │\n│         ┆ 10'     ┆          ┆            ┆     ┆            ┆            ┆            ┆         │\n├╌╌╌╌╌╌╌╌╌┼╌╌╌╌╌╌╌╌╌┼╌╌╌╌╌╌╌╌╌╌┼╌╌╌╌╌╌╌╌╌╌╌╌┼╌╌╌╌╌┼╌╌╌╌╌╌╌╌╌╌╌╌┼╌╌╌╌╌╌╌╌╌╌╌╌┼╌╌╌╌╌╌╌╌╌╌╌╌┼╌╌╌╌╌╌╌╌╌┤\n│ sleep10 ┆ 'sleep  ┆ 0.552971 ┆ 0.0        ┆ ... ┆ 290.614    ┆ 7603.0     ┆ 4.73       ┆ 10.0009 │\n│         ┆ 10'     ┆          ┆            ┆     ┆            ┆            ┆            ┆ 81      │\n└─────────┴─────────┴──────────┴────────────┴─────┴────────────┴────────────┴────────────┴─────────┘",
      "text/html": "<div>\n<style scoped>\n    .dataframe tbody tr th:only-of-type {\n        vertical-align: middle;\n    }\n\n    .dataframe tbody tr th {\n        vertical-align: top;\n    }\n\n    .dataframe thead th {\n        text-align: right;\n    }\n\n    .dataframe td {\n        white-space: pre;\n    }\n\n    .dataframe td {\n        padding-top: 0;\n    }\n\n    .dataframe td {\n        padding-bottom: 0;\n    }\n\n    .dataframe td {\n        line-height: 95%;\n    }\n</style>\n<table border=\"1\" class=\"dataframe\" >\n<small>shape: (60, 19)</small>\n<thead>\n<tr>\n<th>\nname\n</th>\n<th>\ncommand\n</th>\n<th>\ntask_clock\n</th>\n<th>\ncpus_utilized\n</th>\n<th>\ncontext_switches\n</th>\n<th>\ncontext_switches_speed\n</th>\n<th>\ncpu_migrations\n</th>\n<th>\ncpu_migrations_speed\n</th>\n<th>\npage_faults\n</th>\n<th>\npage_faults_speed\n</th>\n<th>\ncycles\n</th>\n<th>\ncycles_hz\n</th>\n<th>\ninstructions\n</th>\n<th>\nins_per_cycle\n</th>\n<th>\nbranches\n</th>\n<th>\nbranches_speed\n</th>\n<th>\nbranch_misses\n</th>\n<th>\nbranch_misses_percentage\n</th>\n<th>\ntotal\n</th>\n</tr>\n<tr>\n<td>\nstr\n</td>\n<td>\nstr\n</td>\n<td>\nf64\n</td>\n<td>\nf64\n</td>\n<td>\nf64\n</td>\n<td>\nf64\n</td>\n<td>\nf64\n</td>\n<td>\nf64\n</td>\n<td>\nf64\n</td>\n<td>\nf64\n</td>\n<td>\nf64\n</td>\n<td>\nf64\n</td>\n<td>\nf64\n</td>\n<td>\nf64\n</td>\n<td>\nf64\n</td>\n<td>\nf64\n</td>\n<td>\nf64\n</td>\n<td>\nf64\n</td>\n<td>\nf64\n</td>\n</tr>\n</thead>\n<tbody>\n<tr>\n<td>\n\"ddcopy\"\n</td>\n<td>\n\"'/material/ben...\n</td>\n<td>\n19.046162\n</td>\n<td>\n0.08\n</td>\n<td>\n103.0\n</td>\n<td>\n0.005\n</td>\n<td>\n4.0\n</td>\n<td>\n0.21\n</td>\n<td>\n404.0\n</td>\n<td>\n0.021\n</td>\n<td>\n6.1151079e7\n</td>\n<td>\n3.211\n</td>\n<td>\n7.8043867e7\n</td>\n<td>\n1.28\n</td>\n<td>\n1.7717117e7\n</td>\n<td>\n930.22\n</td>\n<td>\n135907.0\n</td>\n<td>\n0.77\n</td>\n<td>\n0.239082\n</td>\n</tr>\n<tr>\n<td>\n\"ddcopy\"\n</td>\n<td>\n\"'/material/ben...\n</td>\n<td>\n33.554974\n</td>\n<td>\n0.137\n</td>\n<td>\n109.0\n</td>\n<td>\n0.003\n</td>\n<td>\n1.0\n</td>\n<td>\n0.03\n</td>\n<td>\n403.0\n</td>\n<td>\n0.012\n</td>\n<td>\n5.4452921e7\n</td>\n<td>\n1.623\n</td>\n<td>\n7.7989038e7\n</td>\n<td>\n1.43\n</td>\n<td>\n1.7706508e7\n</td>\n<td>\n527.687\n</td>\n<td>\n130070.0\n</td>\n<td>\n0.73\n</td>\n<td>\n0.244408\n</td>\n</tr>\n<tr>\n<td>\n\"ddcopy\"\n</td>\n<td>\n\"'/material/ben...\n</td>\n<td>\n22.86124\n</td>\n<td>\n0.096\n</td>\n<td>\n109.0\n</td>\n<td>\n0.005\n</td>\n<td>\n0.0\n</td>\n<td>\n0.0\n</td>\n<td>\n403.0\n</td>\n<td>\n0.018\n</td>\n<td>\n5.8845698e7\n</td>\n<td>\n2.574\n</td>\n<td>\n7.9268294e7\n</td>\n<td>\n1.35\n</td>\n<td>\n1.7872425e7\n</td>\n<td>\n781.778\n</td>\n<td>\n138689.0\n</td>\n<td>\n0.78\n</td>\n<td>\n0.239296\n</td>\n</tr>\n<tr>\n<td>\n\"ddcopy\"\n</td>\n<td>\n\"'/material/ben...\n</td>\n<td>\n36.337052\n</td>\n<td>\n0.147\n</td>\n<td>\n108.0\n</td>\n<td>\n0.003\n</td>\n<td>\n2.0\n</td>\n<td>\n0.055\n</td>\n<td>\n406.0\n</td>\n<td>\n0.011\n</td>\n<td>\n5.0255354e7\n</td>\n<td>\n1.383\n</td>\n<td>\n7.7917256e7\n</td>\n<td>\n1.55\n</td>\n<td>\n1.7686187e7\n</td>\n<td>\n486.726\n</td>\n<td>\n125335.0\n</td>\n<td>\n0.71\n</td>\n<td>\n0.246791\n</td>\n</tr>\n<tr>\n<td>\n\"ddcopy\"\n</td>\n<td>\n\"'/material/ben...\n</td>\n<td>\n26.524522\n</td>\n<td>\n0.107\n</td>\n<td>\n107.0\n</td>\n<td>\n0.004\n</td>\n<td>\n0.0\n</td>\n<td>\n0.0\n</td>\n<td>\n407.0\n</td>\n<td>\n0.015\n</td>\n<td>\n5.3214672e7\n</td>\n<td>\n2.006\n</td>\n<td>\n7.774514e7\n</td>\n<td>\n1.46\n</td>\n<td>\n1.7656974e7\n</td>\n<td>\n665.685\n</td>\n<td>\n123429.0\n</td>\n<td>\n0.7\n</td>\n<td>\n0.248132\n</td>\n</tr>\n<tr>\n<td>\n\"ddcopy\"\n</td>\n<td>\n\"'/material/ben...\n</td>\n<td>\n25.510604\n</td>\n<td>\n0.11\n</td>\n<td>\n107.0\n</td>\n<td>\n0.004\n</td>\n<td>\n2.0\n</td>\n<td>\n0.078\n</td>\n<td>\n401.0\n</td>\n<td>\n0.016\n</td>\n<td>\n5.2659697e7\n</td>\n<td>\n2.064\n</td>\n<td>\n7.9414049e7\n</td>\n<td>\n1.51\n</td>\n<td>\n1.7893481e7\n</td>\n<td>\n701.413\n</td>\n<td>\n122668.0\n</td>\n<td>\n0.69\n</td>\n<td>\n0.232203\n</td>\n</tr>\n<tr>\n<td>\n\"ddcopy\"\n</td>\n<td>\n\"'/material/ben...\n</td>\n<td>\n38.707955\n</td>\n<td>\n0.156\n</td>\n<td>\n108.0\n</td>\n<td>\n0.003\n</td>\n<td>\n0.0\n</td>\n<td>\n0.0\n</td>\n<td>\n409.0\n</td>\n<td>\n0.011\n</td>\n<td>\n5.2182616e7\n</td>\n<td>\n1.348\n</td>\n<td>\n7.9426971e7\n</td>\n<td>\n1.52\n</td>\n<td>\n1.7902951e7\n</td>\n<td>\n462.513\n</td>\n<td>\n138835.0\n</td>\n<td>\n0.78\n</td>\n<td>\n0.248921\n</td>\n</tr>\n<tr>\n<td>\n\"ddcopy\"\n</td>\n<td>\n\"'/material/ben...\n</td>\n<td>\n32.388299\n</td>\n<td>\n0.134\n</td>\n<td>\n107.0\n</td>\n<td>\n0.003\n</td>\n<td>\n0.0\n</td>\n<td>\n0.0\n</td>\n<td>\n404.0\n</td>\n<td>\n0.012\n</td>\n<td>\n5.238115e7\n</td>\n<td>\n1.617\n</td>\n<td>\n7.9367095e7\n</td>\n<td>\n1.52\n</td>\n<td>\n1.7890682e7\n</td>\n<td>\n552.381\n</td>\n<td>\n138838.0\n</td>\n<td>\n0.78\n</td>\n<td>\n0.241456\n</td>\n</tr>\n<tr>\n<td>\n\"ddcopy\"\n</td>\n<td>\n\"'/material/ben...\n</td>\n<td>\n33.80797\n</td>\n<td>\n0.132\n</td>\n<td>\n109.0\n</td>\n<td>\n0.003\n</td>\n<td>\n2.0\n</td>\n<td>\n0.059\n</td>\n<td>\n405.0\n</td>\n<td>\n0.012\n</td>\n<td>\n5.0978446e7\n</td>\n<td>\n1.508\n</td>\n<td>\n7.7795757e7\n</td>\n<td>\n1.53\n</td>\n<td>\n1.7672332e7\n</td>\n<td>\n522.727\n</td>\n<td>\n125146.0\n</td>\n<td>\n0.71\n</td>\n<td>\n0.256707\n</td>\n</tr>\n<tr>\n<td>\n\"ddcopy\"\n</td>\n<td>\n\"'/material/ben...\n</td>\n<td>\n28.874204\n</td>\n<td>\n0.121\n</td>\n<td>\n108.0\n</td>\n<td>\n0.004\n</td>\n<td>\n1.0\n</td>\n<td>\n0.035\n</td>\n<td>\n407.0\n</td>\n<td>\n0.014\n</td>\n<td>\n5.2867407e7\n</td>\n<td>\n1.831\n</td>\n<td>\n7.7773128e7\n</td>\n<td>\n1.47\n</td>\n<td>\n1.7663203e7\n</td>\n<td>\n611.73\n</td>\n<td>\n126889.0\n</td>\n<td>\n0.72\n</td>\n<td>\n0.2385\n</td>\n</tr>\n<tr>\n<td>\n\"forkwait\"\n</td>\n<td>\n\"'/material/ben...\n</td>\n<td>\n12048.538009\n</td>\n<td>\n0.781\n</td>\n<td>\n51249.0\n</td>\n<td>\n0.004\n</td>\n<td>\n23689.0\n</td>\n<td>\n0.002\n</td>\n<td>\n1.150056e6\n</td>\n<td>\n0.095\n</td>\n<td>\n1.5161e10\n</td>\n<td>\n1.258\n</td>\n<td>\n1.2059e10\n</td>\n<td>\n0.8\n</td>\n<td>\n2.2640e9\n</td>\n<td>\n187.906\n</td>\n<td>\n7.6946121e7\n</td>\n<td>\n3.4\n</td>\n<td>\n15.426859\n</td>\n</tr>\n<tr>\n<td>\n\"forkwait\"\n</td>\n<td>\n\"'/material/ben...\n</td>\n<td>\n12133.344102\n</td>\n<td>\n0.789\n</td>\n<td>\n51152.0\n</td>\n<td>\n0.004\n</td>\n<td>\n22442.0\n</td>\n<td>\n0.002\n</td>\n<td>\n1.100052e6\n</td>\n<td>\n0.091\n</td>\n<td>\n1.4745e10\n</td>\n<td>\n1.215\n</td>\n<td>\n1.1630e10\n</td>\n<td>\n0.79\n</td>\n<td>\n2.1824e9\n</td>\n<td>\n179.868\n</td>\n<td>\n7.7719725e7\n</td>\n<td>\n3.56\n</td>\n<td>\n15.369879\n</td>\n</tr>\n<tr>\n<td>\n...\n</td>\n<td>\n...\n</td>\n<td>\n...\n</td>\n<td>\n...\n</td>\n<td>\n...\n</td>\n<td>\n...\n</td>\n<td>\n...\n</td>\n<td>\n...\n</td>\n<td>\n...\n</td>\n<td>\n...\n</td>\n<td>\n...\n</td>\n<td>\n...\n</td>\n<td>\n...\n</td>\n<td>\n...\n</td>\n<td>\n...\n</td>\n<td>\n...\n</td>\n<td>\n...\n</td>\n<td>\n...\n</td>\n<td>\n...\n</td>\n</tr>\n<tr>\n<td>\n\"sleep5\"\n</td>\n<td>\n\"'sleep 5'\"\n</td>\n<td>\n0.569836\n</td>\n<td>\n0.0\n</td>\n<td>\n1.0\n</td>\n<td>\n0.002\n</td>\n<td>\n0.0\n</td>\n<td>\n0.0\n</td>\n<td>\n60.0\n</td>\n<td>\n0.105\n</td>\n<td>\n1.209408e6\n</td>\n<td>\n2.122\n</td>\n<td>\n847081.0\n</td>\n<td>\n0.7\n</td>\n<td>\n165665.0\n</td>\n<td>\n290.724\n</td>\n<td>\n7602.0\n</td>\n<td>\n4.59\n</td>\n<td>\n5.001001\n</td>\n</tr>\n<tr>\n<td>\n\"sleep5\"\n</td>\n<td>\n\"'sleep 5'\"\n</td>\n<td>\n0.561501\n</td>\n<td>\n0.0\n</td>\n<td>\n1.0\n</td>\n<td>\n0.002\n</td>\n<td>\n0.0\n</td>\n<td>\n0.0\n</td>\n<td>\n59.0\n</td>\n<td>\n0.105\n</td>\n<td>\n1.182775e6\n</td>\n<td>\n2.106\n</td>\n<td>\n843497.0\n</td>\n<td>\n0.71\n</td>\n<td>\n164061.0\n</td>\n<td>\n292.183\n</td>\n<td>\n7666.0\n</td>\n<td>\n4.67\n</td>\n<td>\n5.000998\n</td>\n</tr>\n<tr>\n<td>\n\"sleep10\"\n</td>\n<td>\n\"'sleep 10'\"\n</td>\n<td>\n0.579592\n</td>\n<td>\n0.0\n</td>\n<td>\n1.0\n</td>\n<td>\n0.002\n</td>\n<td>\n0.0\n</td>\n<td>\n0.0\n</td>\n<td>\n59.0\n</td>\n<td>\n0.102\n</td>\n<td>\n1.225579e6\n</td>\n<td>\n2.115\n</td>\n<td>\n833467.0\n</td>\n<td>\n0.68\n</td>\n<td>\n163213.0\n</td>\n<td>\n281.6\n</td>\n<td>\n7686.0\n</td>\n<td>\n4.71\n</td>\n<td>\n10.001013\n</td>\n</tr>\n<tr>\n<td>\n\"sleep10\"\n</td>\n<td>\n\"'sleep 10'\"\n</td>\n<td>\n0.560157\n</td>\n<td>\n0.0\n</td>\n<td>\n1.0\n</td>\n<td>\n0.002\n</td>\n<td>\n0.0\n</td>\n<td>\n0.0\n</td>\n<td>\n59.0\n</td>\n<td>\n0.105\n</td>\n<td>\n1.190362e6\n</td>\n<td>\n2.125\n</td>\n<td>\n842882.0\n</td>\n<td>\n0.71\n</td>\n<td>\n164524.0\n</td>\n<td>\n293.711\n</td>\n<td>\n7656.0\n</td>\n<td>\n4.65\n</td>\n<td>\n10.001013\n</td>\n</tr>\n<tr>\n<td>\n\"sleep10\"\n</td>\n<td>\n\"'sleep 10'\"\n</td>\n<td>\n0.600972\n</td>\n<td>\n0.0\n</td>\n<td>\n1.0\n</td>\n<td>\n0.002\n</td>\n<td>\n0.0\n</td>\n<td>\n0.0\n</td>\n<td>\n60.0\n</td>\n<td>\n0.1\n</td>\n<td>\n1.21907e6\n</td>\n<td>\n2.028\n</td>\n<td>\n836324.0\n</td>\n<td>\n0.69\n</td>\n<td>\n164011.0\n</td>\n<td>\n272.91\n</td>\n<td>\n7847.0\n</td>\n<td>\n4.78\n</td>\n<td>\n10.001033\n</td>\n</tr>\n<tr>\n<td>\n\"sleep10\"\n</td>\n<td>\n\"'sleep 10'\"\n</td>\n<td>\n0.585792\n</td>\n<td>\n0.0\n</td>\n<td>\n1.0\n</td>\n<td>\n0.002\n</td>\n<td>\n0.0\n</td>\n<td>\n0.0\n</td>\n<td>\n60.0\n</td>\n<td>\n0.102\n</td>\n<td>\n1.194742e6\n</td>\n<td>\n2.04\n</td>\n<td>\n842969.0\n</td>\n<td>\n0.71\n</td>\n<td>\n165141.0\n</td>\n<td>\n281.911\n</td>\n<td>\n7656.0\n</td>\n<td>\n4.64\n</td>\n<td>\n10.001022\n</td>\n</tr>\n<tr>\n<td>\n\"sleep10\"\n</td>\n<td>\n\"'sleep 10'\"\n</td>\n<td>\n0.578347\n</td>\n<td>\n0.0\n</td>\n<td>\n1.0\n</td>\n<td>\n0.002\n</td>\n<td>\n0.0\n</td>\n<td>\n0.0\n</td>\n<td>\n59.0\n</td>\n<td>\n0.102\n</td>\n<td>\n1.169527e6\n</td>\n<td>\n2.022\n</td>\n<td>\n836714.0\n</td>\n<td>\n0.72\n</td>\n<td>\n163575.0\n</td>\n<td>\n282.832\n</td>\n<td>\n7662.0\n</td>\n<td>\n4.68\n</td>\n<td>\n10.001009\n</td>\n</tr>\n<tr>\n<td>\n\"sleep10\"\n</td>\n<td>\n\"'sleep 10'\"\n</td>\n<td>\n0.542616\n</td>\n<td>\n0.0\n</td>\n<td>\n1.0\n</td>\n<td>\n0.002\n</td>\n<td>\n0.0\n</td>\n<td>\n0.0\n</td>\n<td>\n60.0\n</td>\n<td>\n0.111\n</td>\n<td>\n1.180568e6\n</td>\n<td>\n2.176\n</td>\n<td>\n830651.0\n</td>\n<td>\n0.7\n</td>\n<td>\n163091.0\n</td>\n<td>\n300.564\n</td>\n<td>\n7625.0\n</td>\n<td>\n4.68\n</td>\n<td>\n10.000918\n</td>\n</tr>\n<tr>\n<td>\n\"sleep10\"\n</td>\n<td>\n\"'sleep 10'\"\n</td>\n<td>\n0.563138\n</td>\n<td>\n0.0\n</td>\n<td>\n1.0\n</td>\n<td>\n0.002\n</td>\n<td>\n0.0\n</td>\n<td>\n0.0\n</td>\n<td>\n59.0\n</td>\n<td>\n0.105\n</td>\n<td>\n1.201251e6\n</td>\n<td>\n2.133\n</td>\n<td>\n830892.0\n</td>\n<td>\n0.69\n</td>\n<td>\n163107.0\n</td>\n<td>\n289.639\n</td>\n<td>\n7608.0\n</td>\n<td>\n4.66\n</td>\n<td>\n10.000994\n</td>\n</tr>\n<tr>\n<td>\n\"sleep10\"\n</td>\n<td>\n\"'sleep 10'\"\n</td>\n<td>\n0.545441\n</td>\n<td>\n0.0\n</td>\n<td>\n1.0\n</td>\n<td>\n0.002\n</td>\n<td>\n0.0\n</td>\n<td>\n0.0\n</td>\n<td>\n61.0\n</td>\n<td>\n0.112\n</td>\n<td>\n1.170007e6\n</td>\n<td>\n2.145\n</td>\n<td>\n834720.0\n</td>\n<td>\n0.71\n</td>\n<td>\n163641.0\n</td>\n<td>\n300.016\n</td>\n<td>\n7576.0\n</td>\n<td>\n4.63\n</td>\n<td>\n10.000972\n</td>\n</tr>\n<tr>\n<td>\n\"sleep10\"\n</td>\n<td>\n\"'sleep 10'\"\n</td>\n<td>\n0.569013\n</td>\n<td>\n0.0\n</td>\n<td>\n1.0\n</td>\n<td>\n0.002\n</td>\n<td>\n0.0\n</td>\n<td>\n0.0\n</td>\n<td>\n59.0\n</td>\n<td>\n0.104\n</td>\n<td>\n1.19487e6\n</td>\n<td>\n2.1\n</td>\n<td>\n843071.0\n</td>\n<td>\n0.71\n</td>\n<td>\n164613.0\n</td>\n<td>\n289.296\n</td>\n<td>\n7663.0\n</td>\n<td>\n4.66\n</td>\n<td>\n10.001\n</td>\n</tr>\n<tr>\n<td>\n\"sleep10\"\n</td>\n<td>\n\"'sleep 10'\"\n</td>\n<td>\n0.552971\n</td>\n<td>\n0.0\n</td>\n<td>\n1.0\n</td>\n<td>\n0.002\n</td>\n<td>\n0.0\n</td>\n<td>\n0.0\n</td>\n<td>\n59.0\n</td>\n<td>\n0.107\n</td>\n<td>\n1.170156e6\n</td>\n<td>\n2.116\n</td>\n<td>\n817765.0\n</td>\n<td>\n0.7\n</td>\n<td>\n160701.0\n</td>\n<td>\n290.614\n</td>\n<td>\n7603.0\n</td>\n<td>\n4.73\n</td>\n<td>\n10.000981\n</td>\n</tr>\n</tbody>\n</table>\n</div>"
     },
     "execution_count": 3,
     "metadata": {},
     "output_type": "execute_result"
    }
   ],
   "source": [
    "host_df = util.convert(raw_host_df)\n",
    "host_df"
   ],
   "metadata": {
    "collapsed": false,
    "pycharm": {
     "name": "#%%\n"
    }
   }
  },
  {
   "cell_type": "markdown",
   "source": [
    "## VM using trap and emulate"
   ],
   "metadata": {
    "collapsed": false,
    "pycharm": {
     "name": "#%% md\n"
    }
   }
  },
  {
   "cell_type": "code",
   "execution_count": 4,
   "outputs": [
    {
     "data": {
      "text/plain": "shape: (60, 19)\n┌─────────┬─────────┬──────────┬────────────┬─────┬────────────┬────────────┬────────────┬─────────┐\n│ name    ┆ command ┆ task_clo ┆ cpus_utili ┆ ... ┆ branches_s ┆ branch_mis ┆ branch_mis ┆ total   │\n│ ---     ┆ ---     ┆ ck       ┆ zed        ┆     ┆ peed       ┆ ses        ┆ ses_percen ┆ ---     │\n│ str     ┆ str     ┆ ---      ┆ ---        ┆     ┆ ---        ┆ ---        ┆ tage       ┆ str     │\n│         ┆         ┆ str      ┆ str        ┆     ┆ str        ┆ str        ┆ ---        ┆         │\n│         ┆         ┆          ┆            ┆     ┆            ┆            ┆ str        ┆         │\n╞═════════╪═════════╪══════════╪════════════╪═════╪════════════╪════════════╪════════════╪═════════╡\n│ ddcopy  ┆ process ┆ 9871.194 ┆ 1.007      ┆ ... ┆ 108.796    ┆ 1712924    ┆ 0.16       ┆ 9.80553 │\n│         ┆ id      ┆ 881      ┆            ┆     ┆            ┆            ┆            ┆ 5279    │\n│         ┆ '3694'  ┆          ┆            ┆     ┆            ┆            ┆            ┆         │\n├╌╌╌╌╌╌╌╌╌┼╌╌╌╌╌╌╌╌╌┼╌╌╌╌╌╌╌╌╌╌┼╌╌╌╌╌╌╌╌╌╌╌╌┼╌╌╌╌╌┼╌╌╌╌╌╌╌╌╌╌╌╌┼╌╌╌╌╌╌╌╌╌╌╌╌┼╌╌╌╌╌╌╌╌╌╌╌╌┼╌╌╌╌╌╌╌╌╌┤\n│ ddcopy  ┆ process ┆ 10109.65 ┆ 1.005      ┆ ... ┆ 106.783    ┆ 1737668    ┆ 0.16       ┆ 10.0588 │\n│         ┆ id      ┆ 5538     ┆            ┆     ┆            ┆            ┆            ┆ 16589   │\n│         ┆ '3694'  ┆          ┆            ┆     ┆            ┆            ┆            ┆         │\n├╌╌╌╌╌╌╌╌╌┼╌╌╌╌╌╌╌╌╌┼╌╌╌╌╌╌╌╌╌╌┼╌╌╌╌╌╌╌╌╌╌╌╌┼╌╌╌╌╌┼╌╌╌╌╌╌╌╌╌╌╌╌┼╌╌╌╌╌╌╌╌╌╌╌╌┼╌╌╌╌╌╌╌╌╌╌╌╌┼╌╌╌╌╌╌╌╌╌┤\n│ ddcopy  ┆ process ┆ 9947.764 ┆ 1.006      ┆ ... ┆ 108.513    ┆ 1690056    ┆ 0.16       ┆ 9.88391 │\n│         ┆ id      ┆ 815      ┆            ┆     ┆            ┆            ┆            ┆ 6824    │\n│         ┆ '3694'  ┆          ┆            ┆     ┆            ┆            ┆            ┆         │\n├╌╌╌╌╌╌╌╌╌┼╌╌╌╌╌╌╌╌╌┼╌╌╌╌╌╌╌╌╌╌┼╌╌╌╌╌╌╌╌╌╌╌╌┼╌╌╌╌╌┼╌╌╌╌╌╌╌╌╌╌╌╌┼╌╌╌╌╌╌╌╌╌╌╌╌┼╌╌╌╌╌╌╌╌╌╌╌╌┼╌╌╌╌╌╌╌╌╌┤\n│ ddcopy  ┆ process ┆ 9878.650 ┆ 1.005      ┆ ... ┆ 109.099    ┆ 1614459    ┆ 0.15       ┆ 9.82878 │\n│         ┆ id      ┆ 832      ┆            ┆     ┆            ┆            ┆            ┆ 7813    │\n│         ┆ '3694'  ┆          ┆            ┆     ┆            ┆            ┆            ┆         │\n├╌╌╌╌╌╌╌╌╌┼╌╌╌╌╌╌╌╌╌┼╌╌╌╌╌╌╌╌╌╌┼╌╌╌╌╌╌╌╌╌╌╌╌┼╌╌╌╌╌┼╌╌╌╌╌╌╌╌╌╌╌╌┼╌╌╌╌╌╌╌╌╌╌╌╌┼╌╌╌╌╌╌╌╌╌╌╌╌┼╌╌╌╌╌╌╌╌╌┤\n│ ...     ┆ ...     ┆ ...      ┆ ...        ┆ ... ┆ ...        ┆ ...        ┆ ...        ┆ ...     │\n├╌╌╌╌╌╌╌╌╌┼╌╌╌╌╌╌╌╌╌┼╌╌╌╌╌╌╌╌╌╌┼╌╌╌╌╌╌╌╌╌╌╌╌┼╌╌╌╌╌┼╌╌╌╌╌╌╌╌╌╌╌╌┼╌╌╌╌╌╌╌╌╌╌╌╌┼╌╌╌╌╌╌╌╌╌╌╌╌┼╌╌╌╌╌╌╌╌╌┤\n│ sleep10 ┆ process ┆ 289.3561 ┆ 0.029      ┆ ... ┆ 50.828     ┆ 1272848    ┆ 8.65       ┆ 10.0052 │\n│         ┆ id      ┆ 70       ┆            ┆     ┆            ┆            ┆            ┆ 34487   │\n│         ┆ '3694'  ┆          ┆            ┆     ┆            ┆            ┆            ┆         │\n├╌╌╌╌╌╌╌╌╌┼╌╌╌╌╌╌╌╌╌┼╌╌╌╌╌╌╌╌╌╌┼╌╌╌╌╌╌╌╌╌╌╌╌┼╌╌╌╌╌┼╌╌╌╌╌╌╌╌╌╌╌╌┼╌╌╌╌╌╌╌╌╌╌╌╌┼╌╌╌╌╌╌╌╌╌╌╌╌┼╌╌╌╌╌╌╌╌╌┤\n│ sleep10 ┆ process ┆ 286.1458 ┆ 0.029      ┆ ... ┆ 54.992     ┆ 1269749    ┆ 8.07       ┆ 10.0015 │\n│         ┆ id      ┆ 61       ┆            ┆     ┆            ┆            ┆            ┆ 88116   │\n│         ┆ '3694'  ┆          ┆            ┆     ┆            ┆            ┆            ┆         │\n├╌╌╌╌╌╌╌╌╌┼╌╌╌╌╌╌╌╌╌┼╌╌╌╌╌╌╌╌╌╌┼╌╌╌╌╌╌╌╌╌╌╌╌┼╌╌╌╌╌┼╌╌╌╌╌╌╌╌╌╌╌╌┼╌╌╌╌╌╌╌╌╌╌╌╌┼╌╌╌╌╌╌╌╌╌╌╌╌┼╌╌╌╌╌╌╌╌╌┤\n│ sleep10 ┆ process ┆ 295.6958 ┆ 0.030      ┆ ... ┆ 50.183     ┆ 1295145    ┆ 8.73       ┆ 10.0032 │\n│         ┆ id      ┆ 17       ┆            ┆     ┆            ┆            ┆            ┆ 55495   │\n│         ┆ '3694'  ┆          ┆            ┆     ┆            ┆            ┆            ┆         │\n├╌╌╌╌╌╌╌╌╌┼╌╌╌╌╌╌╌╌╌┼╌╌╌╌╌╌╌╌╌╌┼╌╌╌╌╌╌╌╌╌╌╌╌┼╌╌╌╌╌┼╌╌╌╌╌╌╌╌╌╌╌╌┼╌╌╌╌╌╌╌╌╌╌╌╌┼╌╌╌╌╌╌╌╌╌╌╌╌┼╌╌╌╌╌╌╌╌╌┤\n│ sleep10 ┆ process ┆ 281.7249 ┆ 0.028      ┆ ... ┆ 49.163     ┆ 1253696    ┆ 9.05       ┆ 9.99899 │\n│         ┆ id      ┆ 65       ┆            ┆     ┆            ┆            ┆            ┆ 0172    │\n│         ┆ '3694'  ┆          ┆            ┆     ┆            ┆            ┆            ┆         │\n└─────────┴─────────┴──────────┴────────────┴─────┴────────────┴────────────┴────────────┴─────────┘",
      "text/html": "<div>\n<style scoped>\n    .dataframe tbody tr th:only-of-type {\n        vertical-align: middle;\n    }\n\n    .dataframe tbody tr th {\n        vertical-align: top;\n    }\n\n    .dataframe thead th {\n        text-align: right;\n    }\n\n    .dataframe td {\n        white-space: pre;\n    }\n\n    .dataframe td {\n        padding-top: 0;\n    }\n\n    .dataframe td {\n        padding-bottom: 0;\n    }\n\n    .dataframe td {\n        line-height: 95%;\n    }\n</style>\n<table border=\"1\" class=\"dataframe\" >\n<small>shape: (60, 19)</small>\n<thead>\n<tr>\n<th>\nname\n</th>\n<th>\ncommand\n</th>\n<th>\ntask_clock\n</th>\n<th>\ncpus_utilized\n</th>\n<th>\ncontext_switches\n</th>\n<th>\ncontext_switches_speed\n</th>\n<th>\ncpu_migrations\n</th>\n<th>\ncpu_migrations_speed\n</th>\n<th>\npage_faults\n</th>\n<th>\npage_faults_speed\n</th>\n<th>\ncycles\n</th>\n<th>\ncycles_hz\n</th>\n<th>\ninstructions\n</th>\n<th>\nins_per_cycle\n</th>\n<th>\nbranches\n</th>\n<th>\nbranches_speed\n</th>\n<th>\nbranch_misses\n</th>\n<th>\nbranch_misses_percentage\n</th>\n<th>\ntotal\n</th>\n</tr>\n<tr>\n<td>\nstr\n</td>\n<td>\nstr\n</td>\n<td>\nstr\n</td>\n<td>\nstr\n</td>\n<td>\nstr\n</td>\n<td>\nstr\n</td>\n<td>\nstr\n</td>\n<td>\nstr\n</td>\n<td>\nstr\n</td>\n<td>\nstr\n</td>\n<td>\nstr\n</td>\n<td>\nstr\n</td>\n<td>\nstr\n</td>\n<td>\nstr\n</td>\n<td>\nstr\n</td>\n<td>\nstr\n</td>\n<td>\nstr\n</td>\n<td>\nstr\n</td>\n<td>\nstr\n</td>\n</tr>\n</thead>\n<tbody>\n<tr>\n<td>\n\"ddcopy\"\n</td>\n<td>\n\"process id '36...\n</td>\n<td>\n\"9871.194881\"\n</td>\n<td>\n\"1.007\"\n</td>\n<td>\n\"3327\"\n</td>\n<td>\n\"0.337\"\n</td>\n<td>\n\"290\"\n</td>\n<td>\n\"0.029\"\n</td>\n<td>\n\"1152\"\n</td>\n<td>\n\"0.117\"\n</td>\n<td>\n\"35924802843\"\n</td>\n<td>\n\"3.639\"\n</td>\n<td>\n\"59516127965\"\n</td>\n<td>\n\"1.66\"\n</td>\n<td>\n\"1073948208\"\n</td>\n<td>\n\"108.796\"\n</td>\n<td>\n\"1712924\"\n</td>\n<td>\n\"0.16\"\n</td>\n<td>\n\"9.805535279\"\n</td>\n</tr>\n<tr>\n<td>\n\"ddcopy\"\n</td>\n<td>\n\"process id '36...\n</td>\n<td>\n\"10109.655538\"\n</td>\n<td>\n\"1.005\"\n</td>\n<td>\n\"3515\"\n</td>\n<td>\n\"0.348\"\n</td>\n<td>\n\"436\"\n</td>\n<td>\n\"0.043\"\n</td>\n<td>\n\"0\"\n</td>\n<td>\n\"0.000\"\n</td>\n<td>\n\"36460470043\"\n</td>\n<td>\n\"3.606\"\n</td>\n<td>\n\"60019673321\"\n</td>\n<td>\n\"1.65\"\n</td>\n<td>\n\"1079543696\"\n</td>\n<td>\n\"106.783\"\n</td>\n<td>\n\"1737668\"\n</td>\n<td>\n\"0.16\"\n</td>\n<td>\n\"10.058816589\"\n</td>\n</tr>\n<tr>\n<td>\n\"ddcopy\"\n</td>\n<td>\n\"process id '36...\n</td>\n<td>\n\"9947.764815\"\n</td>\n<td>\n\"1.006\"\n</td>\n<td>\n\"3511\"\n</td>\n<td>\n\"0.353\"\n</td>\n<td>\n\"337\"\n</td>\n<td>\n\"0.034\"\n</td>\n<td>\n\"0\"\n</td>\n<td>\n\"0.000\"\n</td>\n<td>\n\"36259594210\"\n</td>\n<td>\n\"3.645\"\n</td>\n<td>\n\"60017618850\"\n</td>\n<td>\n\"1.66\"\n</td>\n<td>\n\"1079458171\"\n</td>\n<td>\n\"108.513\"\n</td>\n<td>\n\"1690056\"\n</td>\n<td>\n\"0.16\"\n</td>\n<td>\n\"9.883916824\"\n</td>\n</tr>\n<tr>\n<td>\n\"ddcopy\"\n</td>\n<td>\n\"process id '36...\n</td>\n<td>\n\"9878.650832\"\n</td>\n<td>\n\"1.005\"\n</td>\n<td>\n\"3287\"\n</td>\n<td>\n\"0.333\"\n</td>\n<td>\n\"273\"\n</td>\n<td>\n\"0.028\"\n</td>\n<td>\n\"0\"\n</td>\n<td>\n\"0.000\"\n</td>\n<td>\n\"36277328623\"\n</td>\n<td>\n\"3.672\"\n</td>\n<td>\n\"60011314148\"\n</td>\n<td>\n\"1.65\"\n</td>\n<td>\n\"1077753101\"\n</td>\n<td>\n\"109.099\"\n</td>\n<td>\n\"1614459\"\n</td>\n<td>\n\"0.15\"\n</td>\n<td>\n\"9.828787813\"\n</td>\n</tr>\n<tr>\n<td>\n\"ddcopy\"\n</td>\n<td>\n\"process id '36...\n</td>\n<td>\n\"9868.737606\"\n</td>\n<td>\n\"1.005\"\n</td>\n<td>\n\"3329\"\n</td>\n<td>\n\"0.337\"\n</td>\n<td>\n\"288\"\n</td>\n<td>\n\"0.029\"\n</td>\n<td>\n\"0\"\n</td>\n<td>\n\"0.000\"\n</td>\n<td>\n\"36249116293\"\n</td>\n<td>\n\"3.673\"\n</td>\n<td>\n\"60012692893\"\n</td>\n<td>\n\"1.66\"\n</td>\n<td>\n\"1078120584\"\n</td>\n<td>\n\"109.246\"\n</td>\n<td>\n\"1613556\"\n</td>\n<td>\n\"0.15\"\n</td>\n<td>\n\"9.821902406\"\n</td>\n</tr>\n<tr>\n<td>\n\"ddcopy\"\n</td>\n<td>\n\"process id '36...\n</td>\n<td>\n\"9918.788845\"\n</td>\n<td>\n\"1.005\"\n</td>\n<td>\n\"3233\"\n</td>\n<td>\n\"0.326\"\n</td>\n<td>\n\"210\"\n</td>\n<td>\n\"0.021\"\n</td>\n<td>\n\"0\"\n</td>\n<td>\n\"0.000\"\n</td>\n<td>\n\"36450936931\"\n</td>\n<td>\n\"3.675\"\n</td>\n<td>\n\"60006539074\"\n</td>\n<td>\n\"1.65\"\n</td>\n<td>\n\"1076997872\"\n</td>\n<td>\n\"108.582\"\n</td>\n<td>\n\"1487142\"\n</td>\n<td>\n\"0.14\"\n</td>\n<td>\n\"9.872949814\"\n</td>\n</tr>\n<tr>\n<td>\n\"ddcopy\"\n</td>\n<td>\n\"process id '36...\n</td>\n<td>\n\"9813.450245\"\n</td>\n<td>\n\"1.005\"\n</td>\n<td>\n\"3209\"\n</td>\n<td>\n\"0.327\"\n</td>\n<td>\n\"222\"\n</td>\n<td>\n\"0.023\"\n</td>\n<td>\n\"0\"\n</td>\n<td>\n\"0.000\"\n</td>\n<td>\n\"36060805950\"\n</td>\n<td>\n\"3.675\"\n</td>\n<td>\n\"60004937163\"\n</td>\n<td>\n\"1.66\"\n</td>\n<td>\n\"1076684075\"\n</td>\n<td>\n\"109.715\"\n</td>\n<td>\n\"1504572\"\n</td>\n<td>\n\"0.14\"\n</td>\n<td>\n\"9.768227907\"\n</td>\n</tr>\n<tr>\n<td>\n\"ddcopy\"\n</td>\n<td>\n\"process id '36...\n</td>\n<td>\n\"9801.181884\"\n</td>\n<td>\n\"1.005\"\n</td>\n<td>\n\"3244\"\n</td>\n<td>\n\"0.331\"\n</td>\n<td>\n\"246\"\n</td>\n<td>\n\"0.025\"\n</td>\n<td>\n\"0\"\n</td>\n<td>\n\"0.000\"\n</td>\n<td>\n\"36015847785\"\n</td>\n<td>\n\"3.675\"\n</td>\n<td>\n\"60006129885\"\n</td>\n<td>\n\"1.67\"\n</td>\n<td>\n\"1076944581\"\n</td>\n<td>\n\"109.879\"\n</td>\n<td>\n\"1411899\"\n</td>\n<td>\n\"0.13\"\n</td>\n<td>\n\"9.755327587\"\n</td>\n</tr>\n<tr>\n<td>\n\"ddcopy\"\n</td>\n<td>\n\"process id '36...\n</td>\n<td>\n\"9826.705830\"\n</td>\n<td>\n\"1.005\"\n</td>\n<td>\n\"3204\"\n</td>\n<td>\n\"0.326\"\n</td>\n<td>\n\"228\"\n</td>\n<td>\n\"0.023\"\n</td>\n<td>\n\"0\"\n</td>\n<td>\n\"0.000\"\n</td>\n<td>\n\"36112427950\"\n</td>\n<td>\n\"3.675\"\n</td>\n<td>\n\"60014789930\"\n</td>\n<td>\n\"1.66\"\n</td>\n<td>\n\"1078462710\"\n</td>\n<td>\n\"109.748\"\n</td>\n<td>\n\"1496016\"\n</td>\n<td>\n\"0.14\"\n</td>\n<td>\n\"9.778309746\"\n</td>\n</tr>\n<tr>\n<td>\n\"ddcopy\"\n</td>\n<td>\n\"process id '36...\n</td>\n<td>\n\"9859.671443\"\n</td>\n<td>\n\"1.008\"\n</td>\n<td>\n\"3398\"\n</td>\n<td>\n\"0.345\"\n</td>\n<td>\n\"410\"\n</td>\n<td>\n\"0.042\"\n</td>\n<td>\n\"9984\"\n</td>\n<td>\n\"0.001\"\n</td>\n<td>\n\"36207026530\"\n</td>\n<td>\n\"3.672\"\n</td>\n<td>\n\"60061883899\"\n</td>\n<td>\n\"1.66\"\n</td>\n<td>\n\"1086601649\"\n</td>\n<td>\n\"110.207\"\n</td>\n<td>\n\"1754944\"\n</td>\n<td>\n\"0.16\"\n</td>\n<td>\n\"9.785618503\"\n</td>\n</tr>\n<tr>\n<td>\n\"forkwait\"\n</td>\n<td>\n\"process id '36...\n</td>\n<td>\n\"3430.324159\"\n</td>\n<td>\n\"1.001\"\n</td>\n<td>\n\"776\"\n</td>\n<td>\n\"0.226\"\n</td>\n<td>\n\"59\"\n</td>\n<td>\n\"0.017\"\n</td>\n<td>\n\"0\"\n</td>\n<td>\n\"0.000\"\n</td>\n<td>\n\"12600708904\"\n</td>\n<td>\n\"3.673\"\n</td>\n<td>\n\"5563099085\"\n</td>\n<td>\n\"0.44\"\n</td>\n<td>\n\"939855666\"\n</td>\n<td>\n\"273.985\"\n</td>\n<td>\n\"4928863\"\n</td>\n<td>\n\"0.52\"\n</td>\n<td>\n\"3.425236219\"\n</td>\n</tr>\n<tr>\n<td>\n\"forkwait\"\n</td>\n<td>\n\"process id '36...\n</td>\n<td>\n\"3440.032164\"\n</td>\n<td>\n\"1.002\"\n</td>\n<td>\n\"1010\"\n</td>\n<td>\n\"0.294\"\n</td>\n<td>\n\"156\"\n</td>\n<td>\n\"0.045\"\n</td>\n<td>\n\"0\"\n</td>\n<td>\n\"0.000\"\n</td>\n<td>\n\"12644189047\"\n</td>\n<td>\n\"3.676\"\n</td>\n<td>\n\"5564863451\"\n</td>\n<td>\n\"0.44\"\n</td>\n<td>\n\"940155677\"\n</td>\n<td>\n\"273.299\"\n</td>\n<td>\n\"4785110\"\n</td>\n<td>\n\"0.51\"\n</td>\n<td>\n\"3.433034466\"\n</td>\n</tr>\n<tr>\n<td>\n...\n</td>\n<td>\n...\n</td>\n<td>\n...\n</td>\n<td>\n...\n</td>\n<td>\n...\n</td>\n<td>\n...\n</td>\n<td>\n...\n</td>\n<td>\n...\n</td>\n<td>\n...\n</td>\n<td>\n...\n</td>\n<td>\n...\n</td>\n<td>\n...\n</td>\n<td>\n...\n</td>\n<td>\n...\n</td>\n<td>\n...\n</td>\n<td>\n...\n</td>\n<td>\n...\n</td>\n<td>\n...\n</td>\n<td>\n...\n</td>\n</tr>\n<tr>\n<td>\n\"sleep5\"\n</td>\n<td>\n\"process id '36...\n</td>\n<td>\n\"147.150568\"\n</td>\n<td>\n\"0.029\"\n</td>\n<td>\n\"1593\"\n</td>\n<td>\n\"0.011\"\n</td>\n<td>\n\"152\"\n</td>\n<td>\n\"0.001\"\n</td>\n<td>\n\"0\"\n</td>\n<td>\n\"0.000\"\n</td>\n<td>\n\"126516228\"\n</td>\n<td>\n\"0.860\"\n</td>\n<td>\n\"41343650\"\n</td>\n<td>\n\"0.33\"\n</td>\n<td>\n\"7996897\"\n</td>\n<td>\n\"54.345\"\n</td>\n<td>\n\"673780\"\n</td>\n<td>\n\"8.43\"\n</td>\n<td>\n\"5.007939682\"\n</td>\n</tr>\n<tr>\n<td>\n\"sleep5\"\n</td>\n<td>\n\"process id '36...\n</td>\n<td>\n\"145.528441\"\n</td>\n<td>\n\"0.029\"\n</td>\n<td>\n\"1570\"\n</td>\n<td>\n\"0.011\"\n</td>\n<td>\n\"134\"\n</td>\n<td>\n\"0.921\"\n</td>\n<td>\n\"0\"\n</td>\n<td>\n\"0.000\"\n</td>\n<td>\n\"114528612\"\n</td>\n<td>\n\"0.787\"\n</td>\n<td>\n\"36069205\"\n</td>\n<td>\n\"0.31\"\n</td>\n<td>\n\"6978156\"\n</td>\n<td>\n\"47.950\"\n</td>\n<td>\n\"620572\"\n</td>\n<td>\n\"8.89\"\n</td>\n<td>\n\"4.997530070\"\n</td>\n</tr>\n<tr>\n<td>\n\"sleep10\"\n</td>\n<td>\n\"process id '36...\n</td>\n<td>\n\"307.316353\"\n</td>\n<td>\n\"0.031\"\n</td>\n<td>\n\"3474\"\n</td>\n<td>\n\"0.011\"\n</td>\n<td>\n\"367\"\n</td>\n<td>\n\"0.001\"\n</td>\n<td>\n\"0\"\n</td>\n<td>\n\"0.000\"\n</td>\n<td>\n\"272157833\"\n</td>\n<td>\n\"0.886\"\n</td>\n<td>\n\"85272066\"\n</td>\n<td>\n\"0.31\"\n</td>\n<td>\n\"16527787\"\n</td>\n<td>\n\"53.781\"\n</td>\n<td>\n\"1448675\"\n</td>\n<td>\n\"8.77\"\n</td>\n<td>\n\"10.002142495\"\n</td>\n</tr>\n<tr>\n<td>\n\"sleep10\"\n</td>\n<td>\n\"process id '36...\n</td>\n<td>\n\"308.383568\"\n</td>\n<td>\n\"0.031\"\n</td>\n<td>\n\"3279\"\n</td>\n<td>\n\"0.011\"\n</td>\n<td>\n\"342\"\n</td>\n<td>\n\"0.001\"\n</td>\n<td>\n\"0\"\n</td>\n<td>\n\"0.000\"\n</td>\n<td>\n\"260206001\"\n</td>\n<td>\n\"0.844\"\n</td>\n<td>\n\"85617536\"\n</td>\n<td>\n\"0.33\"\n</td>\n<td>\n\"16546211\"\n</td>\n<td>\n\"53.655\"\n</td>\n<td>\n\"1355345\"\n</td>\n<td>\n\"8.19\"\n</td>\n<td>\n\"10.003260208\"\n</td>\n</tr>\n<tr>\n<td>\n\"sleep10\"\n</td>\n<td>\n\"process id '36...\n</td>\n<td>\n\"295.596692\"\n</td>\n<td>\n\"0.030\"\n</td>\n<td>\n\"3164\"\n</td>\n<td>\n\"0.011\"\n</td>\n<td>\n\"323\"\n</td>\n<td>\n\"0.001\"\n</td>\n<td>\n\"0\"\n</td>\n<td>\n\"0.000\"\n</td>\n<td>\n\"240115894\"\n</td>\n<td>\n\"0.812\"\n</td>\n<td>\n\"76465900\"\n</td>\n<td>\n\"0.32\"\n</td>\n<td>\n\"14759041\"\n</td>\n<td>\n\"49.930\"\n</td>\n<td>\n\"1279387\"\n</td>\n<td>\n\"8.67\"\n</td>\n<td>\n\"10.002801089\"\n</td>\n</tr>\n<tr>\n<td>\n\"sleep10\"\n</td>\n<td>\n\"process id '36...\n</td>\n<td>\n\"291.754828\"\n</td>\n<td>\n\"0.029\"\n</td>\n<td>\n\"3149\"\n</td>\n<td>\n\"0.011\"\n</td>\n<td>\n\"291\"\n</td>\n<td>\n\"0.997\"\n</td>\n<td>\n\"0\"\n</td>\n<td>\n\"0.000\"\n</td>\n<td>\n\"233046310\"\n</td>\n<td>\n\"0.799\"\n</td>\n<td>\n\"74384228\"\n</td>\n<td>\n\"0.32\"\n</td>\n<td>\n\"14367642\"\n</td>\n<td>\n\"49.246\"\n</td>\n<td>\n\"1258848\"\n</td>\n<td>\n\"8.76\"\n</td>\n<td>\n\"10.001382426\"\n</td>\n</tr>\n<tr>\n<td>\n\"sleep10\"\n</td>\n<td>\n\"process id '36...\n</td>\n<td>\n\"289.161732\"\n</td>\n<td>\n\"0.029\"\n</td>\n<td>\n\"3141\"\n</td>\n<td>\n\"0.011\"\n</td>\n<td>\n\"299\"\n</td>\n<td>\n\"0.001\"\n</td>\n<td>\n\"0\"\n</td>\n<td>\n\"0.000\"\n</td>\n<td>\n\"231609023\"\n</td>\n<td>\n\"0.801\"\n</td>\n<td>\n\"71377828\"\n</td>\n<td>\n\"0.31\"\n</td>\n<td>\n\"13783906\"\n</td>\n<td>\n\"47.668\"\n</td>\n<td>\n\"1243703\"\n</td>\n<td>\n\"9.02\"\n</td>\n<td>\n\"9.996449430\"\n</td>\n</tr>\n<tr>\n<td>\n\"sleep10\"\n</td>\n<td>\n\"process id '36...\n</td>\n<td>\n\"283.859878\"\n</td>\n<td>\n\"0.028\"\n</td>\n<td>\n\"3161\"\n</td>\n<td>\n\"0.011\"\n</td>\n<td>\n\"299\"\n</td>\n<td>\n\"0.001\"\n</td>\n<td>\n\"0\"\n</td>\n<td>\n\"0.000\"\n</td>\n<td>\n\"237367071\"\n</td>\n<td>\n\"0.836\"\n</td>\n<td>\n\"74812972\"\n</td>\n<td>\n\"0.32\"\n</td>\n<td>\n\"14459191\"\n</td>\n<td>\n\"50.938\"\n</td>\n<td>\n\"1256081\"\n</td>\n<td>\n\"8.69\"\n</td>\n<td>\n\"10.002757533\"\n</td>\n</tr>\n<tr>\n<td>\n\"sleep10\"\n</td>\n<td>\n\"process id '36...\n</td>\n<td>\n\"289.356170\"\n</td>\n<td>\n\"0.029\"\n</td>\n<td>\n\"3154\"\n</td>\n<td>\n\"0.011\"\n</td>\n<td>\n\"289\"\n</td>\n<td>\n\"0.999\"\n</td>\n<td>\n\"0\"\n</td>\n<td>\n\"0.000\"\n</td>\n<td>\n\"238273470\"\n</td>\n<td>\n\"0.823\"\n</td>\n<td>\n\"76181587\"\n</td>\n<td>\n\"0.32\"\n</td>\n<td>\n\"14707333\"\n</td>\n<td>\n\"50.828\"\n</td>\n<td>\n\"1272848\"\n</td>\n<td>\n\"8.65\"\n</td>\n<td>\n\"10.005234487\"\n</td>\n</tr>\n<tr>\n<td>\n\"sleep10\"\n</td>\n<td>\n\"process id '36...\n</td>\n<td>\n\"286.145861\"\n</td>\n<td>\n\"0.029\"\n</td>\n<td>\n\"3165\"\n</td>\n<td>\n\"0.011\"\n</td>\n<td>\n\"295\"\n</td>\n<td>\n\"0.001\"\n</td>\n<td>\n\"0\"\n</td>\n<td>\n\"0.000\"\n</td>\n<td>\n\"247934671\"\n</td>\n<td>\n\"0.866\"\n</td>\n<td>\n\"81847748\"\n</td>\n<td>\n\"0.33\"\n</td>\n<td>\n\"15735679\"\n</td>\n<td>\n\"54.992\"\n</td>\n<td>\n\"1269749\"\n</td>\n<td>\n\"8.07\"\n</td>\n<td>\n\"10.001588116\"\n</td>\n</tr>\n<tr>\n<td>\n\"sleep10\"\n</td>\n<td>\n\"process id '36...\n</td>\n<td>\n\"295.695817\"\n</td>\n<td>\n\"0.030\"\n</td>\n<td>\n\"3182\"\n</td>\n<td>\n\"0.011\"\n</td>\n<td>\n\"281\"\n</td>\n<td>\n\"0.950\"\n</td>\n<td>\n\"0\"\n</td>\n<td>\n\"0.000\"\n</td>\n<td>\n\"244152679\"\n</td>\n<td>\n\"0.826\"\n</td>\n<td>\n\"76811154\"\n</td>\n<td>\n\"0.31\"\n</td>\n<td>\n\"14839023\"\n</td>\n<td>\n\"50.183\"\n</td>\n<td>\n\"1295145\"\n</td>\n<td>\n\"8.73\"\n</td>\n<td>\n\"10.003255495\"\n</td>\n</tr>\n<tr>\n<td>\n\"sleep10\"\n</td>\n<td>\n\"process id '36...\n</td>\n<td>\n\"281.724965\"\n</td>\n<td>\n\"0.028\"\n</td>\n<td>\n\"3176\"\n</td>\n<td>\n\"0.011\"\n</td>\n<td>\n\"260\"\n</td>\n<td>\n\"0.923\"\n</td>\n<td>\n\"0\"\n</td>\n<td>\n\"0.000\"\n</td>\n<td>\n\"231766496\"\n</td>\n<td>\n\"0.823\"\n</td>\n<td>\n\"71749253\"\n</td>\n<td>\n\"0.31\"\n</td>\n<td>\n\"13850460\"\n</td>\n<td>\n\"49.163\"\n</td>\n<td>\n\"1253696\"\n</td>\n<td>\n\"9.05\"\n</td>\n<td>\n\"9.998990172\"\n</td>\n</tr>\n</tbody>\n</table>\n</div>"
     },
     "execution_count": 4,
     "metadata": {},
     "output_type": "execute_result"
    }
   ],
   "source": [
    "with open('data/with_vm_bench.json', 'r') as file:\n",
    "    extracted = util.extract(file)\n",
    "    raw_trap_emulate = pl.from_dicts(extracted)\n",
    "raw_trap_emulate"
   ],
   "metadata": {
    "collapsed": false,
    "pycharm": {
     "name": "#%%\n"
    }
   }
  },
  {
   "cell_type": "code",
   "execution_count": 5,
   "outputs": [
    {
     "data": {
      "text/plain": "shape: (60, 19)\n┌─────────┬─────────┬──────────┬────────────┬─────┬────────────┬────────────┬────────────┬─────────┐\n│ name    ┆ command ┆ task_clo ┆ cpus_utili ┆ ... ┆ branches_s ┆ branch_mis ┆ branch_mis ┆ total   │\n│ ---     ┆ ---     ┆ ck       ┆ zed        ┆     ┆ peed       ┆ ses        ┆ ses_percen ┆ ---     │\n│ str     ┆ str     ┆ ---      ┆ ---        ┆     ┆ ---        ┆ ---        ┆ tage       ┆ f64     │\n│         ┆         ┆ f64      ┆ f64        ┆     ┆ f64        ┆ f64        ┆ ---        ┆         │\n│         ┆         ┆          ┆            ┆     ┆            ┆            ┆ f64        ┆         │\n╞═════════╪═════════╪══════════╪════════════╪═════╪════════════╪════════════╪════════════╪═════════╡\n│ ddcopy  ┆ process ┆ 9871.194 ┆ 1.007      ┆ ... ┆ 108.796    ┆ 1.712924e6 ┆ 0.16       ┆ 9.80553 │\n│         ┆ id      ┆ 881      ┆            ┆     ┆            ┆            ┆            ┆ 5       │\n│         ┆ '3694'  ┆          ┆            ┆     ┆            ┆            ┆            ┆         │\n├╌╌╌╌╌╌╌╌╌┼╌╌╌╌╌╌╌╌╌┼╌╌╌╌╌╌╌╌╌╌┼╌╌╌╌╌╌╌╌╌╌╌╌┼╌╌╌╌╌┼╌╌╌╌╌╌╌╌╌╌╌╌┼╌╌╌╌╌╌╌╌╌╌╌╌┼╌╌╌╌╌╌╌╌╌╌╌╌┼╌╌╌╌╌╌╌╌╌┤\n│ ddcopy  ┆ process ┆ 10109.65 ┆ 1.005      ┆ ... ┆ 106.783    ┆ 1.737668e6 ┆ 0.16       ┆ 10.0588 │\n│         ┆ id      ┆ 5538     ┆            ┆     ┆            ┆            ┆            ┆ 17      │\n│         ┆ '3694'  ┆          ┆            ┆     ┆            ┆            ┆            ┆         │\n├╌╌╌╌╌╌╌╌╌┼╌╌╌╌╌╌╌╌╌┼╌╌╌╌╌╌╌╌╌╌┼╌╌╌╌╌╌╌╌╌╌╌╌┼╌╌╌╌╌┼╌╌╌╌╌╌╌╌╌╌╌╌┼╌╌╌╌╌╌╌╌╌╌╌╌┼╌╌╌╌╌╌╌╌╌╌╌╌┼╌╌╌╌╌╌╌╌╌┤\n│ ddcopy  ┆ process ┆ 9947.764 ┆ 1.006      ┆ ... ┆ 108.513    ┆ 1.690056e6 ┆ 0.16       ┆ 9.88391 │\n│         ┆ id      ┆ 815      ┆            ┆     ┆            ┆            ┆            ┆ 7       │\n│         ┆ '3694'  ┆          ┆            ┆     ┆            ┆            ┆            ┆         │\n├╌╌╌╌╌╌╌╌╌┼╌╌╌╌╌╌╌╌╌┼╌╌╌╌╌╌╌╌╌╌┼╌╌╌╌╌╌╌╌╌╌╌╌┼╌╌╌╌╌┼╌╌╌╌╌╌╌╌╌╌╌╌┼╌╌╌╌╌╌╌╌╌╌╌╌┼╌╌╌╌╌╌╌╌╌╌╌╌┼╌╌╌╌╌╌╌╌╌┤\n│ ddcopy  ┆ process ┆ 9878.650 ┆ 1.005      ┆ ... ┆ 109.099    ┆ 1.614459e6 ┆ 0.15       ┆ 9.82878 │\n│         ┆ id      ┆ 832      ┆            ┆     ┆            ┆            ┆            ┆ 8       │\n│         ┆ '3694'  ┆          ┆            ┆     ┆            ┆            ┆            ┆         │\n├╌╌╌╌╌╌╌╌╌┼╌╌╌╌╌╌╌╌╌┼╌╌╌╌╌╌╌╌╌╌┼╌╌╌╌╌╌╌╌╌╌╌╌┼╌╌╌╌╌┼╌╌╌╌╌╌╌╌╌╌╌╌┼╌╌╌╌╌╌╌╌╌╌╌╌┼╌╌╌╌╌╌╌╌╌╌╌╌┼╌╌╌╌╌╌╌╌╌┤\n│ ...     ┆ ...     ┆ ...      ┆ ...        ┆ ... ┆ ...        ┆ ...        ┆ ...        ┆ ...     │\n├╌╌╌╌╌╌╌╌╌┼╌╌╌╌╌╌╌╌╌┼╌╌╌╌╌╌╌╌╌╌┼╌╌╌╌╌╌╌╌╌╌╌╌┼╌╌╌╌╌┼╌╌╌╌╌╌╌╌╌╌╌╌┼╌╌╌╌╌╌╌╌╌╌╌╌┼╌╌╌╌╌╌╌╌╌╌╌╌┼╌╌╌╌╌╌╌╌╌┤\n│ sleep10 ┆ process ┆ 289.3561 ┆ 0.029      ┆ ... ┆ 50.828     ┆ 1.272848e6 ┆ 8.65       ┆ 10.0052 │\n│         ┆ id      ┆ 7        ┆            ┆     ┆            ┆            ┆            ┆ 34      │\n│         ┆ '3694'  ┆          ┆            ┆     ┆            ┆            ┆            ┆         │\n├╌╌╌╌╌╌╌╌╌┼╌╌╌╌╌╌╌╌╌┼╌╌╌╌╌╌╌╌╌╌┼╌╌╌╌╌╌╌╌╌╌╌╌┼╌╌╌╌╌┼╌╌╌╌╌╌╌╌╌╌╌╌┼╌╌╌╌╌╌╌╌╌╌╌╌┼╌╌╌╌╌╌╌╌╌╌╌╌┼╌╌╌╌╌╌╌╌╌┤\n│ sleep10 ┆ process ┆ 286.1458 ┆ 0.029      ┆ ... ┆ 54.992     ┆ 1.269749e6 ┆ 8.07       ┆ 10.0015 │\n│         ┆ id      ┆ 61       ┆            ┆     ┆            ┆            ┆            ┆ 88      │\n│         ┆ '3694'  ┆          ┆            ┆     ┆            ┆            ┆            ┆         │\n├╌╌╌╌╌╌╌╌╌┼╌╌╌╌╌╌╌╌╌┼╌╌╌╌╌╌╌╌╌╌┼╌╌╌╌╌╌╌╌╌╌╌╌┼╌╌╌╌╌┼╌╌╌╌╌╌╌╌╌╌╌╌┼╌╌╌╌╌╌╌╌╌╌╌╌┼╌╌╌╌╌╌╌╌╌╌╌╌┼╌╌╌╌╌╌╌╌╌┤\n│ sleep10 ┆ process ┆ 295.6958 ┆ 0.03       ┆ ... ┆ 50.183     ┆ 1.295145e6 ┆ 8.73       ┆ 10.0032 │\n│         ┆ id      ┆ 17       ┆            ┆     ┆            ┆            ┆            ┆ 55      │\n│         ┆ '3694'  ┆          ┆            ┆     ┆            ┆            ┆            ┆         │\n├╌╌╌╌╌╌╌╌╌┼╌╌╌╌╌╌╌╌╌┼╌╌╌╌╌╌╌╌╌╌┼╌╌╌╌╌╌╌╌╌╌╌╌┼╌╌╌╌╌┼╌╌╌╌╌╌╌╌╌╌╌╌┼╌╌╌╌╌╌╌╌╌╌╌╌┼╌╌╌╌╌╌╌╌╌╌╌╌┼╌╌╌╌╌╌╌╌╌┤\n│ sleep10 ┆ process ┆ 281.7249 ┆ 0.028      ┆ ... ┆ 49.163     ┆ 1.253696e6 ┆ 9.05       ┆ 9.9989  │\n│         ┆ id      ┆ 65       ┆            ┆     ┆            ┆            ┆            ┆         │\n│         ┆ '3694'  ┆          ┆            ┆     ┆            ┆            ┆            ┆         │\n└─────────┴─────────┴──────────┴────────────┴─────┴────────────┴────────────┴────────────┴─────────┘",
      "text/html": "<div>\n<style scoped>\n    .dataframe tbody tr th:only-of-type {\n        vertical-align: middle;\n    }\n\n    .dataframe tbody tr th {\n        vertical-align: top;\n    }\n\n    .dataframe thead th {\n        text-align: right;\n    }\n\n    .dataframe td {\n        white-space: pre;\n    }\n\n    .dataframe td {\n        padding-top: 0;\n    }\n\n    .dataframe td {\n        padding-bottom: 0;\n    }\n\n    .dataframe td {\n        line-height: 95%;\n    }\n</style>\n<table border=\"1\" class=\"dataframe\" >\n<small>shape: (60, 19)</small>\n<thead>\n<tr>\n<th>\nname\n</th>\n<th>\ncommand\n</th>\n<th>\ntask_clock\n</th>\n<th>\ncpus_utilized\n</th>\n<th>\ncontext_switches\n</th>\n<th>\ncontext_switches_speed\n</th>\n<th>\ncpu_migrations\n</th>\n<th>\ncpu_migrations_speed\n</th>\n<th>\npage_faults\n</th>\n<th>\npage_faults_speed\n</th>\n<th>\ncycles\n</th>\n<th>\ncycles_hz\n</th>\n<th>\ninstructions\n</th>\n<th>\nins_per_cycle\n</th>\n<th>\nbranches\n</th>\n<th>\nbranches_speed\n</th>\n<th>\nbranch_misses\n</th>\n<th>\nbranch_misses_percentage\n</th>\n<th>\ntotal\n</th>\n</tr>\n<tr>\n<td>\nstr\n</td>\n<td>\nstr\n</td>\n<td>\nf64\n</td>\n<td>\nf64\n</td>\n<td>\nf64\n</td>\n<td>\nf64\n</td>\n<td>\nf64\n</td>\n<td>\nf64\n</td>\n<td>\nf64\n</td>\n<td>\nf64\n</td>\n<td>\nf64\n</td>\n<td>\nf64\n</td>\n<td>\nf64\n</td>\n<td>\nf64\n</td>\n<td>\nf64\n</td>\n<td>\nf64\n</td>\n<td>\nf64\n</td>\n<td>\nf64\n</td>\n<td>\nf64\n</td>\n</tr>\n</thead>\n<tbody>\n<tr>\n<td>\n\"ddcopy\"\n</td>\n<td>\n\"process id '36...\n</td>\n<td>\n9871.194881\n</td>\n<td>\n1.007\n</td>\n<td>\n3327.0\n</td>\n<td>\n0.337\n</td>\n<td>\n290.0\n</td>\n<td>\n0.029\n</td>\n<td>\n1152.0\n</td>\n<td>\n0.117\n</td>\n<td>\n3.5925e10\n</td>\n<td>\n3.639\n</td>\n<td>\n5.9516e10\n</td>\n<td>\n1.66\n</td>\n<td>\n1.0739e9\n</td>\n<td>\n108.796\n</td>\n<td>\n1.712924e6\n</td>\n<td>\n0.16\n</td>\n<td>\n9.805535\n</td>\n</tr>\n<tr>\n<td>\n\"ddcopy\"\n</td>\n<td>\n\"process id '36...\n</td>\n<td>\n10109.655538\n</td>\n<td>\n1.005\n</td>\n<td>\n3515.0\n</td>\n<td>\n0.348\n</td>\n<td>\n436.0\n</td>\n<td>\n0.043\n</td>\n<td>\n0.0\n</td>\n<td>\n0.0\n</td>\n<td>\n3.6460e10\n</td>\n<td>\n3.606\n</td>\n<td>\n6.0020e10\n</td>\n<td>\n1.65\n</td>\n<td>\n1.0795e9\n</td>\n<td>\n106.783\n</td>\n<td>\n1.737668e6\n</td>\n<td>\n0.16\n</td>\n<td>\n10.058817\n</td>\n</tr>\n<tr>\n<td>\n\"ddcopy\"\n</td>\n<td>\n\"process id '36...\n</td>\n<td>\n9947.764815\n</td>\n<td>\n1.006\n</td>\n<td>\n3511.0\n</td>\n<td>\n0.353\n</td>\n<td>\n337.0\n</td>\n<td>\n0.034\n</td>\n<td>\n0.0\n</td>\n<td>\n0.0\n</td>\n<td>\n3.6260e10\n</td>\n<td>\n3.645\n</td>\n<td>\n6.0018e10\n</td>\n<td>\n1.66\n</td>\n<td>\n1.0795e9\n</td>\n<td>\n108.513\n</td>\n<td>\n1.690056e6\n</td>\n<td>\n0.16\n</td>\n<td>\n9.883917\n</td>\n</tr>\n<tr>\n<td>\n\"ddcopy\"\n</td>\n<td>\n\"process id '36...\n</td>\n<td>\n9878.650832\n</td>\n<td>\n1.005\n</td>\n<td>\n3287.0\n</td>\n<td>\n0.333\n</td>\n<td>\n273.0\n</td>\n<td>\n0.028\n</td>\n<td>\n0.0\n</td>\n<td>\n0.0\n</td>\n<td>\n3.6277e10\n</td>\n<td>\n3.672\n</td>\n<td>\n6.0011e10\n</td>\n<td>\n1.65\n</td>\n<td>\n1.0778e9\n</td>\n<td>\n109.099\n</td>\n<td>\n1.614459e6\n</td>\n<td>\n0.15\n</td>\n<td>\n9.828788\n</td>\n</tr>\n<tr>\n<td>\n\"ddcopy\"\n</td>\n<td>\n\"process id '36...\n</td>\n<td>\n9868.737606\n</td>\n<td>\n1.005\n</td>\n<td>\n3329.0\n</td>\n<td>\n0.337\n</td>\n<td>\n288.0\n</td>\n<td>\n0.029\n</td>\n<td>\n0.0\n</td>\n<td>\n0.0\n</td>\n<td>\n3.6249e10\n</td>\n<td>\n3.673\n</td>\n<td>\n6.0013e10\n</td>\n<td>\n1.66\n</td>\n<td>\n1.0781e9\n</td>\n<td>\n109.246\n</td>\n<td>\n1.613556e6\n</td>\n<td>\n0.15\n</td>\n<td>\n9.821902\n</td>\n</tr>\n<tr>\n<td>\n\"ddcopy\"\n</td>\n<td>\n\"process id '36...\n</td>\n<td>\n9918.788845\n</td>\n<td>\n1.005\n</td>\n<td>\n3233.0\n</td>\n<td>\n0.326\n</td>\n<td>\n210.0\n</td>\n<td>\n0.021\n</td>\n<td>\n0.0\n</td>\n<td>\n0.0\n</td>\n<td>\n3.6451e10\n</td>\n<td>\n3.675\n</td>\n<td>\n6.0007e10\n</td>\n<td>\n1.65\n</td>\n<td>\n1.0770e9\n</td>\n<td>\n108.582\n</td>\n<td>\n1.487142e6\n</td>\n<td>\n0.14\n</td>\n<td>\n9.8729\n</td>\n</tr>\n<tr>\n<td>\n\"ddcopy\"\n</td>\n<td>\n\"process id '36...\n</td>\n<td>\n9813.450245\n</td>\n<td>\n1.005\n</td>\n<td>\n3209.0\n</td>\n<td>\n0.327\n</td>\n<td>\n222.0\n</td>\n<td>\n0.023\n</td>\n<td>\n0.0\n</td>\n<td>\n0.0\n</td>\n<td>\n3.6061e10\n</td>\n<td>\n3.675\n</td>\n<td>\n6.0005e10\n</td>\n<td>\n1.66\n</td>\n<td>\n1.0767e9\n</td>\n<td>\n109.715\n</td>\n<td>\n1.504572e6\n</td>\n<td>\n0.14\n</td>\n<td>\n9.768228\n</td>\n</tr>\n<tr>\n<td>\n\"ddcopy\"\n</td>\n<td>\n\"process id '36...\n</td>\n<td>\n9801.181884\n</td>\n<td>\n1.005\n</td>\n<td>\n3244.0\n</td>\n<td>\n0.331\n</td>\n<td>\n246.0\n</td>\n<td>\n0.025\n</td>\n<td>\n0.0\n</td>\n<td>\n0.0\n</td>\n<td>\n3.6016e10\n</td>\n<td>\n3.675\n</td>\n<td>\n6.0006e10\n</td>\n<td>\n1.67\n</td>\n<td>\n1.0769e9\n</td>\n<td>\n109.879\n</td>\n<td>\n1.411899e6\n</td>\n<td>\n0.13\n</td>\n<td>\n9.755328\n</td>\n</tr>\n<tr>\n<td>\n\"ddcopy\"\n</td>\n<td>\n\"process id '36...\n</td>\n<td>\n9826.7058\n</td>\n<td>\n1.005\n</td>\n<td>\n3204.0\n</td>\n<td>\n0.326\n</td>\n<td>\n228.0\n</td>\n<td>\n0.023\n</td>\n<td>\n0.0\n</td>\n<td>\n0.0\n</td>\n<td>\n3.6112e10\n</td>\n<td>\n3.675\n</td>\n<td>\n6.0015e10\n</td>\n<td>\n1.66\n</td>\n<td>\n1.0785e9\n</td>\n<td>\n109.748\n</td>\n<td>\n1.496016e6\n</td>\n<td>\n0.14\n</td>\n<td>\n9.7783\n</td>\n</tr>\n<tr>\n<td>\n\"ddcopy\"\n</td>\n<td>\n\"process id '36...\n</td>\n<td>\n9859.671443\n</td>\n<td>\n1.008\n</td>\n<td>\n3398.0\n</td>\n<td>\n0.345\n</td>\n<td>\n410.0\n</td>\n<td>\n0.042\n</td>\n<td>\n9984.0\n</td>\n<td>\n0.001\n</td>\n<td>\n3.6207e10\n</td>\n<td>\n3.672\n</td>\n<td>\n6.0062e10\n</td>\n<td>\n1.66\n</td>\n<td>\n1.0866e9\n</td>\n<td>\n110.207\n</td>\n<td>\n1.754944e6\n</td>\n<td>\n0.16\n</td>\n<td>\n9.785619\n</td>\n</tr>\n<tr>\n<td>\n\"forkwait\"\n</td>\n<td>\n\"process id '36...\n</td>\n<td>\n3430.324159\n</td>\n<td>\n1.001\n</td>\n<td>\n776.0\n</td>\n<td>\n0.226\n</td>\n<td>\n59.0\n</td>\n<td>\n0.017\n</td>\n<td>\n0.0\n</td>\n<td>\n0.0\n</td>\n<td>\n1.2601e10\n</td>\n<td>\n3.673\n</td>\n<td>\n5.5631e9\n</td>\n<td>\n0.44\n</td>\n<td>\n9.39855666e8\n</td>\n<td>\n273.985\n</td>\n<td>\n4.928863e6\n</td>\n<td>\n0.52\n</td>\n<td>\n3.425236\n</td>\n</tr>\n<tr>\n<td>\n\"forkwait\"\n</td>\n<td>\n\"process id '36...\n</td>\n<td>\n3440.032164\n</td>\n<td>\n1.002\n</td>\n<td>\n1010.0\n</td>\n<td>\n0.294\n</td>\n<td>\n156.0\n</td>\n<td>\n0.045\n</td>\n<td>\n0.0\n</td>\n<td>\n0.0\n</td>\n<td>\n1.2644e10\n</td>\n<td>\n3.676\n</td>\n<td>\n5.5649e9\n</td>\n<td>\n0.44\n</td>\n<td>\n9.40155677e8\n</td>\n<td>\n273.299\n</td>\n<td>\n4.78511e6\n</td>\n<td>\n0.51\n</td>\n<td>\n3.433034\n</td>\n</tr>\n<tr>\n<td>\n...\n</td>\n<td>\n...\n</td>\n<td>\n...\n</td>\n<td>\n...\n</td>\n<td>\n...\n</td>\n<td>\n...\n</td>\n<td>\n...\n</td>\n<td>\n...\n</td>\n<td>\n...\n</td>\n<td>\n...\n</td>\n<td>\n...\n</td>\n<td>\n...\n</td>\n<td>\n...\n</td>\n<td>\n...\n</td>\n<td>\n...\n</td>\n<td>\n...\n</td>\n<td>\n...\n</td>\n<td>\n...\n</td>\n<td>\n...\n</td>\n</tr>\n<tr>\n<td>\n\"sleep5\"\n</td>\n<td>\n\"process id '36...\n</td>\n<td>\n147.150568\n</td>\n<td>\n0.029\n</td>\n<td>\n1593.0\n</td>\n<td>\n0.011\n</td>\n<td>\n152.0\n</td>\n<td>\n0.001\n</td>\n<td>\n0.0\n</td>\n<td>\n0.0\n</td>\n<td>\n1.26516228e8\n</td>\n<td>\n0.86\n</td>\n<td>\n4.134365e7\n</td>\n<td>\n0.33\n</td>\n<td>\n7.996897e6\n</td>\n<td>\n54.345\n</td>\n<td>\n673780.0\n</td>\n<td>\n8.43\n</td>\n<td>\n5.0079\n</td>\n</tr>\n<tr>\n<td>\n\"sleep5\"\n</td>\n<td>\n\"process id '36...\n</td>\n<td>\n145.528441\n</td>\n<td>\n0.029\n</td>\n<td>\n1570.0\n</td>\n<td>\n0.011\n</td>\n<td>\n134.0\n</td>\n<td>\n0.921\n</td>\n<td>\n0.0\n</td>\n<td>\n0.0\n</td>\n<td>\n1.14528612e8\n</td>\n<td>\n0.787\n</td>\n<td>\n3.6069205e7\n</td>\n<td>\n0.31\n</td>\n<td>\n6.978156e6\n</td>\n<td>\n47.95\n</td>\n<td>\n620572.0\n</td>\n<td>\n8.89\n</td>\n<td>\n4.9975\n</td>\n</tr>\n<tr>\n<td>\n\"sleep10\"\n</td>\n<td>\n\"process id '36...\n</td>\n<td>\n307.316353\n</td>\n<td>\n0.031\n</td>\n<td>\n3474.0\n</td>\n<td>\n0.011\n</td>\n<td>\n367.0\n</td>\n<td>\n0.001\n</td>\n<td>\n0.0\n</td>\n<td>\n0.0\n</td>\n<td>\n2.72157833e8\n</td>\n<td>\n0.886\n</td>\n<td>\n8.5272066e7\n</td>\n<td>\n0.31\n</td>\n<td>\n1.6527787e7\n</td>\n<td>\n53.781\n</td>\n<td>\n1.448675e6\n</td>\n<td>\n8.77\n</td>\n<td>\n10.002142\n</td>\n</tr>\n<tr>\n<td>\n\"sleep10\"\n</td>\n<td>\n\"process id '36...\n</td>\n<td>\n308.383568\n</td>\n<td>\n0.031\n</td>\n<td>\n3279.0\n</td>\n<td>\n0.011\n</td>\n<td>\n342.0\n</td>\n<td>\n0.001\n</td>\n<td>\n0.0\n</td>\n<td>\n0.0\n</td>\n<td>\n2.60206001e8\n</td>\n<td>\n0.844\n</td>\n<td>\n8.5617536e7\n</td>\n<td>\n0.33\n</td>\n<td>\n1.6546211e7\n</td>\n<td>\n53.655\n</td>\n<td>\n1.355345e6\n</td>\n<td>\n8.19\n</td>\n<td>\n10.0032\n</td>\n</tr>\n<tr>\n<td>\n\"sleep10\"\n</td>\n<td>\n\"process id '36...\n</td>\n<td>\n295.596692\n</td>\n<td>\n0.03\n</td>\n<td>\n3164.0\n</td>\n<td>\n0.011\n</td>\n<td>\n323.0\n</td>\n<td>\n0.001\n</td>\n<td>\n0.0\n</td>\n<td>\n0.0\n</td>\n<td>\n2.40115894e8\n</td>\n<td>\n0.812\n</td>\n<td>\n7.64659e7\n</td>\n<td>\n0.32\n</td>\n<td>\n1.4759041e7\n</td>\n<td>\n49.93\n</td>\n<td>\n1.279387e6\n</td>\n<td>\n8.67\n</td>\n<td>\n10.002801\n</td>\n</tr>\n<tr>\n<td>\n\"sleep10\"\n</td>\n<td>\n\"process id '36...\n</td>\n<td>\n291.754828\n</td>\n<td>\n0.029\n</td>\n<td>\n3149.0\n</td>\n<td>\n0.011\n</td>\n<td>\n291.0\n</td>\n<td>\n0.997\n</td>\n<td>\n0.0\n</td>\n<td>\n0.0\n</td>\n<td>\n2.3304631e8\n</td>\n<td>\n0.799\n</td>\n<td>\n7.4384228e7\n</td>\n<td>\n0.32\n</td>\n<td>\n1.4367642e7\n</td>\n<td>\n49.246\n</td>\n<td>\n1.258848e6\n</td>\n<td>\n8.76\n</td>\n<td>\n10.001382\n</td>\n</tr>\n<tr>\n<td>\n\"sleep10\"\n</td>\n<td>\n\"process id '36...\n</td>\n<td>\n289.161732\n</td>\n<td>\n0.029\n</td>\n<td>\n3141.0\n</td>\n<td>\n0.011\n</td>\n<td>\n299.0\n</td>\n<td>\n0.001\n</td>\n<td>\n0.0\n</td>\n<td>\n0.0\n</td>\n<td>\n2.31609023e8\n</td>\n<td>\n0.801\n</td>\n<td>\n7.1377828e7\n</td>\n<td>\n0.31\n</td>\n<td>\n1.3783906e7\n</td>\n<td>\n47.668\n</td>\n<td>\n1.243703e6\n</td>\n<td>\n9.02\n</td>\n<td>\n9.996449\n</td>\n</tr>\n<tr>\n<td>\n\"sleep10\"\n</td>\n<td>\n\"process id '36...\n</td>\n<td>\n283.859878\n</td>\n<td>\n0.028\n</td>\n<td>\n3161.0\n</td>\n<td>\n0.011\n</td>\n<td>\n299.0\n</td>\n<td>\n0.001\n</td>\n<td>\n0.0\n</td>\n<td>\n0.0\n</td>\n<td>\n2.37367071e8\n</td>\n<td>\n0.836\n</td>\n<td>\n7.4812972e7\n</td>\n<td>\n0.32\n</td>\n<td>\n1.4459191e7\n</td>\n<td>\n50.938\n</td>\n<td>\n1.256081e6\n</td>\n<td>\n8.69\n</td>\n<td>\n10.002758\n</td>\n</tr>\n<tr>\n<td>\n\"sleep10\"\n</td>\n<td>\n\"process id '36...\n</td>\n<td>\n289.35617\n</td>\n<td>\n0.029\n</td>\n<td>\n3154.0\n</td>\n<td>\n0.011\n</td>\n<td>\n289.0\n</td>\n<td>\n0.999\n</td>\n<td>\n0.0\n</td>\n<td>\n0.0\n</td>\n<td>\n2.3827347e8\n</td>\n<td>\n0.823\n</td>\n<td>\n7.6181587e7\n</td>\n<td>\n0.32\n</td>\n<td>\n1.4707333e7\n</td>\n<td>\n50.828\n</td>\n<td>\n1.272848e6\n</td>\n<td>\n8.65\n</td>\n<td>\n10.005234\n</td>\n</tr>\n<tr>\n<td>\n\"sleep10\"\n</td>\n<td>\n\"process id '36...\n</td>\n<td>\n286.145861\n</td>\n<td>\n0.029\n</td>\n<td>\n3165.0\n</td>\n<td>\n0.011\n</td>\n<td>\n295.0\n</td>\n<td>\n0.001\n</td>\n<td>\n0.0\n</td>\n<td>\n0.0\n</td>\n<td>\n2.47934671e8\n</td>\n<td>\n0.866\n</td>\n<td>\n8.1847748e7\n</td>\n<td>\n0.33\n</td>\n<td>\n1.5735679e7\n</td>\n<td>\n54.992\n</td>\n<td>\n1.269749e6\n</td>\n<td>\n8.07\n</td>\n<td>\n10.001588\n</td>\n</tr>\n<tr>\n<td>\n\"sleep10\"\n</td>\n<td>\n\"process id '36...\n</td>\n<td>\n295.695817\n</td>\n<td>\n0.03\n</td>\n<td>\n3182.0\n</td>\n<td>\n0.011\n</td>\n<td>\n281.0\n</td>\n<td>\n0.95\n</td>\n<td>\n0.0\n</td>\n<td>\n0.0\n</td>\n<td>\n2.44152679e8\n</td>\n<td>\n0.826\n</td>\n<td>\n7.6811154e7\n</td>\n<td>\n0.31\n</td>\n<td>\n1.4839023e7\n</td>\n<td>\n50.183\n</td>\n<td>\n1.295145e6\n</td>\n<td>\n8.73\n</td>\n<td>\n10.003255\n</td>\n</tr>\n<tr>\n<td>\n\"sleep10\"\n</td>\n<td>\n\"process id '36...\n</td>\n<td>\n281.724965\n</td>\n<td>\n0.028\n</td>\n<td>\n3176.0\n</td>\n<td>\n0.011\n</td>\n<td>\n260.0\n</td>\n<td>\n0.923\n</td>\n<td>\n0.0\n</td>\n<td>\n0.0\n</td>\n<td>\n2.31766496e8\n</td>\n<td>\n0.823\n</td>\n<td>\n7.1749253e7\n</td>\n<td>\n0.31\n</td>\n<td>\n1.385046e7\n</td>\n<td>\n49.163\n</td>\n<td>\n1.253696e6\n</td>\n<td>\n9.05\n</td>\n<td>\n9.9989\n</td>\n</tr>\n</tbody>\n</table>\n</div>"
     },
     "execution_count": 5,
     "metadata": {},
     "output_type": "execute_result"
    }
   ],
   "source": [
    "trap_emulate = util.convert(raw_trap_emulate)\n",
    "trap_emulate"
   ],
   "metadata": {
    "collapsed": false,
    "pycharm": {
     "name": "#%%\n"
    }
   }
  },
  {
   "cell_type": "markdown",
   "source": [
    "## VM using Binary Translation"
   ],
   "metadata": {
    "collapsed": false,
    "pycharm": {
     "name": "#%% md\n"
    }
   }
  },
  {
   "cell_type": "code",
   "execution_count": 6,
   "outputs": [
    {
     "data": {
      "text/plain": "shape: (60, 19)\n┌─────────┬─────────┬──────────┬────────────┬─────┬────────────┬────────────┬────────────┬─────────┐\n│ name    ┆ command ┆ task_clo ┆ cpus_utili ┆ ... ┆ branches_s ┆ branch_mis ┆ branch_mis ┆ total   │\n│ ---     ┆ ---     ┆ ck       ┆ zed        ┆     ┆ peed       ┆ ses        ┆ ses_percen ┆ ---     │\n│ str     ┆ str     ┆ ---      ┆ ---        ┆     ┆ ---        ┆ ---        ┆ tage       ┆ str     │\n│         ┆         ┆ str      ┆ str        ┆     ┆ str        ┆ str        ┆ ---        ┆         │\n│         ┆         ┆          ┆            ┆     ┆            ┆            ┆ str        ┆         │\n╞═════════╪═════════╪══════════╪════════════╪═════╪════════════╪════════════╪════════════╪═════════╡\n│ ddcopy  ┆ process ┆ 10004.64 ┆ 1.006      ┆ ... ┆ 228.532    ┆ 87761926   ┆ 3.84       ┆ 9.94428 │\n│         ┆ id      ┆ 8527     ┆            ┆     ┆            ┆            ┆            ┆ 4458    │\n│         ┆ '1431'  ┆          ┆            ┆     ┆            ┆            ┆            ┆         │\n├╌╌╌╌╌╌╌╌╌┼╌╌╌╌╌╌╌╌╌┼╌╌╌╌╌╌╌╌╌╌┼╌╌╌╌╌╌╌╌╌╌╌╌┼╌╌╌╌╌┼╌╌╌╌╌╌╌╌╌╌╌╌┼╌╌╌╌╌╌╌╌╌╌╌╌┼╌╌╌╌╌╌╌╌╌╌╌╌┼╌╌╌╌╌╌╌╌╌┤\n│ ddcopy  ┆ process ┆ 9939.578 ┆ 1.007      ┆ ... ┆ 229.021    ┆ 87467737   ┆ 3.84       ┆ 9.87143 │\n│         ┆ id      ┆ 672      ┆            ┆     ┆            ┆            ┆            ┆ 2799    │\n│         ┆ '1431'  ┆          ┆            ┆     ┆            ┆            ┆            ┆         │\n├╌╌╌╌╌╌╌╌╌┼╌╌╌╌╌╌╌╌╌┼╌╌╌╌╌╌╌╌╌╌┼╌╌╌╌╌╌╌╌╌╌╌╌┼╌╌╌╌╌┼╌╌╌╌╌╌╌╌╌╌╌╌┼╌╌╌╌╌╌╌╌╌╌╌╌┼╌╌╌╌╌╌╌╌╌╌╌╌┼╌╌╌╌╌╌╌╌╌┤\n│ ddcopy  ┆ process ┆ 10066.24 ┆ 1.006      ┆ ... ┆ 225.339    ┆ 87730711   ┆ 3.87       ┆ 10.0037 │\n│         ┆ id      ┆ 1465     ┆            ┆     ┆            ┆            ┆            ┆ 42448   │\n│         ┆ '1431'  ┆          ┆            ┆     ┆            ┆            ┆            ┆         │\n├╌╌╌╌╌╌╌╌╌┼╌╌╌╌╌╌╌╌╌┼╌╌╌╌╌╌╌╌╌╌┼╌╌╌╌╌╌╌╌╌╌╌╌┼╌╌╌╌╌┼╌╌╌╌╌╌╌╌╌╌╌╌┼╌╌╌╌╌╌╌╌╌╌╌╌┼╌╌╌╌╌╌╌╌╌╌╌╌┼╌╌╌╌╌╌╌╌╌┤\n│ ddcopy  ┆ process ┆ 10086.75 ┆ 1.009      ┆ ... ┆ 227.566    ┆ 87854764   ┆ 3.83       ┆ 9.99507 │\n│         ┆ id      ┆ 3880     ┆            ┆     ┆            ┆            ┆            ┆ 5616    │\n│         ┆ '1431'  ┆          ┆            ┆     ┆            ┆            ┆            ┆         │\n├╌╌╌╌╌╌╌╌╌┼╌╌╌╌╌╌╌╌╌┼╌╌╌╌╌╌╌╌╌╌┼╌╌╌╌╌╌╌╌╌╌╌╌┼╌╌╌╌╌┼╌╌╌╌╌╌╌╌╌╌╌╌┼╌╌╌╌╌╌╌╌╌╌╌╌┼╌╌╌╌╌╌╌╌╌╌╌╌┼╌╌╌╌╌╌╌╌╌┤\n│ ...     ┆ ...     ┆ ...      ┆ ...        ┆ ... ┆ ...        ┆ ...        ┆ ...        ┆ ...     │\n├╌╌╌╌╌╌╌╌╌┼╌╌╌╌╌╌╌╌╌┼╌╌╌╌╌╌╌╌╌╌┼╌╌╌╌╌╌╌╌╌╌╌╌┼╌╌╌╌╌┼╌╌╌╌╌╌╌╌╌╌╌╌┼╌╌╌╌╌╌╌╌╌╌╌╌┼╌╌╌╌╌╌╌╌╌╌╌╌┼╌╌╌╌╌╌╌╌╌┤\n│ sleep10 ┆ process ┆ 421.6334 ┆ 0.042      ┆ ... ┆ 75.439     ┆ 1932136    ┆ 6.07       ┆ 10.0207 │\n│         ┆ id      ┆ 07       ┆            ┆     ┆            ┆            ┆            ┆ 39089   │\n│         ┆ '6135'  ┆          ┆            ┆     ┆            ┆            ┆            ┆         │\n├╌╌╌╌╌╌╌╌╌┼╌╌╌╌╌╌╌╌╌┼╌╌╌╌╌╌╌╌╌╌┼╌╌╌╌╌╌╌╌╌╌╌╌┼╌╌╌╌╌┼╌╌╌╌╌╌╌╌╌╌╌╌┼╌╌╌╌╌╌╌╌╌╌╌╌┼╌╌╌╌╌╌╌╌╌╌╌╌┼╌╌╌╌╌╌╌╌╌┤\n│ sleep10 ┆ process ┆ 402.1397 ┆ 0.040      ┆ ... ┆ 71.226     ┆ 1726485    ┆ 6.03       ┆ 10.0173 │\n│         ┆ id      ┆ 57       ┆            ┆     ┆            ┆            ┆            ┆ 52032   │\n│         ┆ '6135'  ┆          ┆            ┆     ┆            ┆            ┆            ┆         │\n├╌╌╌╌╌╌╌╌╌┼╌╌╌╌╌╌╌╌╌┼╌╌╌╌╌╌╌╌╌╌┼╌╌╌╌╌╌╌╌╌╌╌╌┼╌╌╌╌╌┼╌╌╌╌╌╌╌╌╌╌╌╌┼╌╌╌╌╌╌╌╌╌╌╌╌┼╌╌╌╌╌╌╌╌╌╌╌╌┼╌╌╌╌╌╌╌╌╌┤\n│ sleep10 ┆ process ┆ 388.8665 ┆ 0.039      ┆ ... ┆ 71.223     ┆ 1670362    ┆ 6.03       ┆ 10.0175 │\n│         ┆ id      ┆ 09       ┆            ┆     ┆            ┆            ┆            ┆ 92518   │\n│         ┆ '6135'  ┆          ┆            ┆     ┆            ┆            ┆            ┆         │\n├╌╌╌╌╌╌╌╌╌┼╌╌╌╌╌╌╌╌╌┼╌╌╌╌╌╌╌╌╌╌┼╌╌╌╌╌╌╌╌╌╌╌╌┼╌╌╌╌╌┼╌╌╌╌╌╌╌╌╌╌╌╌┼╌╌╌╌╌╌╌╌╌╌╌╌┼╌╌╌╌╌╌╌╌╌╌╌╌┼╌╌╌╌╌╌╌╌╌┤\n│ sleep10 ┆ process ┆ 396.0888 ┆ 0.040      ┆ ... ┆ 71.044     ┆ 1700931    ┆ 6.04       ┆ 10.0191 │\n│         ┆ id      ┆ 83       ┆            ┆     ┆            ┆            ┆            ┆ 01090   │\n│         ┆ '6135'  ┆          ┆            ┆     ┆            ┆            ┆            ┆         │\n└─────────┴─────────┴──────────┴────────────┴─────┴────────────┴────────────┴────────────┴─────────┘",
      "text/html": "<div>\n<style scoped>\n    .dataframe tbody tr th:only-of-type {\n        vertical-align: middle;\n    }\n\n    .dataframe tbody tr th {\n        vertical-align: top;\n    }\n\n    .dataframe thead th {\n        text-align: right;\n    }\n\n    .dataframe td {\n        white-space: pre;\n    }\n\n    .dataframe td {\n        padding-top: 0;\n    }\n\n    .dataframe td {\n        padding-bottom: 0;\n    }\n\n    .dataframe td {\n        line-height: 95%;\n    }\n</style>\n<table border=\"1\" class=\"dataframe\" >\n<small>shape: (60, 19)</small>\n<thead>\n<tr>\n<th>\nname\n</th>\n<th>\ncommand\n</th>\n<th>\ntask_clock\n</th>\n<th>\ncpus_utilized\n</th>\n<th>\ncontext_switches\n</th>\n<th>\ncontext_switches_speed\n</th>\n<th>\ncpu_migrations\n</th>\n<th>\ncpu_migrations_speed\n</th>\n<th>\npage_faults\n</th>\n<th>\npage_faults_speed\n</th>\n<th>\ncycles\n</th>\n<th>\ncycles_hz\n</th>\n<th>\ninstructions\n</th>\n<th>\nins_per_cycle\n</th>\n<th>\nbranches\n</th>\n<th>\nbranches_speed\n</th>\n<th>\nbranch_misses\n</th>\n<th>\nbranch_misses_percentage\n</th>\n<th>\ntotal\n</th>\n</tr>\n<tr>\n<td>\nstr\n</td>\n<td>\nstr\n</td>\n<td>\nstr\n</td>\n<td>\nstr\n</td>\n<td>\nstr\n</td>\n<td>\nstr\n</td>\n<td>\nstr\n</td>\n<td>\nstr\n</td>\n<td>\nstr\n</td>\n<td>\nstr\n</td>\n<td>\nstr\n</td>\n<td>\nstr\n</td>\n<td>\nstr\n</td>\n<td>\nstr\n</td>\n<td>\nstr\n</td>\n<td>\nstr\n</td>\n<td>\nstr\n</td>\n<td>\nstr\n</td>\n<td>\nstr\n</td>\n</tr>\n</thead>\n<tbody>\n<tr>\n<td>\n\"ddcopy\"\n</td>\n<td>\n\"process id '14...\n</td>\n<td>\n\"10004.648527\"\n</td>\n<td>\n\"1.006\"\n</td>\n<td>\n\"6015\"\n</td>\n<td>\n\"0.601\"\n</td>\n<td>\n\"218\"\n</td>\n<td>\n\"0.022\"\n</td>\n<td>\n\"1163\"\n</td>\n<td>\n\"0.116\"\n</td>\n<td>\n\"36471054231\"\n</td>\n<td>\n\"3.645\"\n</td>\n<td>\n\"67947896255\"\n</td>\n<td>\n\"1.86\"\n</td>\n<td>\n\"2286382839\"\n</td>\n<td>\n\"228.532\"\n</td>\n<td>\n\"87761926\"\n</td>\n<td>\n\"3.84\"\n</td>\n<td>\n\"9.944284458\"\n</td>\n</tr>\n<tr>\n<td>\n\"ddcopy\"\n</td>\n<td>\n\"process id '14...\n</td>\n<td>\n\"9939.578672\"\n</td>\n<td>\n\"1.007\"\n</td>\n<td>\n\"5963\"\n</td>\n<td>\n\"0.600\"\n</td>\n<td>\n\"243\"\n</td>\n<td>\n\"0.024\"\n</td>\n<td>\n\"3\"\n</td>\n<td>\n\"0.000\"\n</td>\n<td>\n\"36270887955\"\n</td>\n<td>\n\"3.649\"\n</td>\n<td>\n\"67911185467\"\n</td>\n<td>\n\"1.87\"\n</td>\n<td>\n\"2276367325\"\n</td>\n<td>\n\"229.021\"\n</td>\n<td>\n\"87467737\"\n</td>\n<td>\n\"3.84\"\n</td>\n<td>\n\"9.871432799\"\n</td>\n</tr>\n<tr>\n<td>\n\"ddcopy\"\n</td>\n<td>\n\"process id '14...\n</td>\n<td>\n\"10066.241465\"\n</td>\n<td>\n\"1.006\"\n</td>\n<td>\n\"6217\"\n</td>\n<td>\n\"0.618\"\n</td>\n<td>\n\"334\"\n</td>\n<td>\n\"0.033\"\n</td>\n<td>\n\"2\"\n</td>\n<td>\n\"0.000\"\n</td>\n<td>\n\"36527718006\"\n</td>\n<td>\n\"3.629\"\n</td>\n<td>\n\"67905992238\"\n</td>\n<td>\n\"1.86\"\n</td>\n<td>\n\"2268312206\"\n</td>\n<td>\n\"225.339\"\n</td>\n<td>\n\"87730711\"\n</td>\n<td>\n\"3.87\"\n</td>\n<td>\n\"10.003742448\"\n</td>\n</tr>\n<tr>\n<td>\n\"ddcopy\"\n</td>\n<td>\n\"process id '14...\n</td>\n<td>\n\"10086.753880\"\n</td>\n<td>\n\"1.009\"\n</td>\n<td>\n\"6679\"\n</td>\n<td>\n\"0.662\"\n</td>\n<td>\n\"374\"\n</td>\n<td>\n\"0.037\"\n</td>\n<td>\n\"11006\"\n</td>\n<td>\n\"0.001\"\n</td>\n<td>\n\"36593979520\"\n</td>\n<td>\n\"3.628\"\n</td>\n<td>\n\"67979299585\"\n</td>\n<td>\n\"1.86\"\n</td>\n<td>\n\"2295403567\"\n</td>\n<td>\n\"227.566\"\n</td>\n<td>\n\"87854764\"\n</td>\n<td>\n\"3.83\"\n</td>\n<td>\n\"9.995075616\"\n</td>\n</tr>\n<tr>\n<td>\n\"ddcopy\"\n</td>\n<td>\n\"process id '14...\n</td>\n<td>\n\"10064.812754\"\n</td>\n<td>\n\"1.007\"\n</td>\n<td>\n\"6167\"\n</td>\n<td>\n\"0.613\"\n</td>\n<td>\n\"310\"\n</td>\n<td>\n\"0.031\"\n</td>\n<td>\n\"1\"\n</td>\n<td>\n\"0.000\"\n</td>\n<td>\n\"36464798809\"\n</td>\n<td>\n\"3.623\"\n</td>\n<td>\n\"67946886230\"\n</td>\n<td>\n\"1.86\"\n</td>\n<td>\n\"2288143838\"\n</td>\n<td>\n\"227.341\"\n</td>\n<td>\n\"87561200\"\n</td>\n<td>\n\"3.83\"\n</td>\n<td>\n\"9.998483442\"\n</td>\n</tr>\n<tr>\n<td>\n\"ddcopy\"\n</td>\n<td>\n\"process id '14...\n</td>\n<td>\n\"10103.278149\"\n</td>\n<td>\n\"1.007\"\n</td>\n<td>\n\"6542\"\n</td>\n<td>\n\"0.648\"\n</td>\n<td>\n\"438\"\n</td>\n<td>\n\"0.043\"\n</td>\n<td>\n\"1\"\n</td>\n<td>\n\"0.000\"\n</td>\n<td>\n\"36568581458\"\n</td>\n<td>\n\"3.619\"\n</td>\n<td>\n\"67915205305\"\n</td>\n<td>\n\"1.86\"\n</td>\n<td>\n\"2279344151\"\n</td>\n<td>\n\"225.604\"\n</td>\n<td>\n\"87758889\"\n</td>\n<td>\n\"3.85\"\n</td>\n<td>\n\"10.035423724\"\n</td>\n</tr>\n<tr>\n<td>\n\"ddcopy\"\n</td>\n<td>\n\"process id '14...\n</td>\n<td>\n\"10022.385414\"\n</td>\n<td>\n\"1.006\"\n</td>\n<td>\n\"6418\"\n</td>\n<td>\n\"0.640\"\n</td>\n<td>\n\"380\"\n</td>\n<td>\n\"0.038\"\n</td>\n<td>\n\"0\"\n</td>\n<td>\n\"0.000\"\n</td>\n<td>\n\"36386876346\"\n</td>\n<td>\n\"3.631\"\n</td>\n<td>\n\"67856268855\"\n</td>\n<td>\n\"1.86\"\n</td>\n<td>\n\"2261597036\"\n</td>\n<td>\n\"225.655\"\n</td>\n<td>\n\"87612046\"\n</td>\n<td>\n\"3.87\"\n</td>\n<td>\n\"9.958060147\"\n</td>\n</tr>\n<tr>\n<td>\n\"ddcopy\"\n</td>\n<td>\n\"process id '14...\n</td>\n<td>\n\"9950.255564\"\n</td>\n<td>\n\"1.007\"\n</td>\n<td>\n\"6285\"\n</td>\n<td>\n\"0.632\"\n</td>\n<td>\n\"266\"\n</td>\n<td>\n\"0.027\"\n</td>\n<td>\n\"513\"\n</td>\n<td>\n\"0.052\"\n</td>\n<td>\n\"36382235248\"\n</td>\n<td>\n\"3.656\"\n</td>\n<td>\n\"67914820506\"\n</td>\n<td>\n\"1.87\"\n</td>\n<td>\n\"2270527942\"\n</td>\n<td>\n\"228.188\"\n</td>\n<td>\n\"87760110\"\n</td>\n<td>\n\"3.87\"\n</td>\n<td>\n\"9.878079178\"\n</td>\n</tr>\n<tr>\n<td>\n\"ddcopy\"\n</td>\n<td>\n\"process id '14...\n</td>\n<td>\n\"9972.441174\"\n</td>\n<td>\n\"1.007\"\n</td>\n<td>\n\"6075\"\n</td>\n<td>\n\"0.609\"\n</td>\n<td>\n\"291\"\n</td>\n<td>\n\"0.029\"\n</td>\n<td>\n\"771\"\n</td>\n<td>\n\"0.077\"\n</td>\n<td>\n\"36380108114\"\n</td>\n<td>\n\"3.648\"\n</td>\n<td>\n\"67942943022\"\n</td>\n<td>\n\"1.87\"\n</td>\n<td>\n\"2283844963\"\n</td>\n<td>\n\"229.016\"\n</td>\n<td>\n\"87681828\"\n</td>\n<td>\n\"3.84\"\n</td>\n<td>\n\"9.905319382\"\n</td>\n</tr>\n<tr>\n<td>\n\"ddcopy\"\n</td>\n<td>\n\"process id '14...\n</td>\n<td>\n\"10053.588342\"\n</td>\n<td>\n\"1.007\"\n</td>\n<td>\n\"6334\"\n</td>\n<td>\n\"0.630\"\n</td>\n<td>\n\"348\"\n</td>\n<td>\n\"0.035\"\n</td>\n<td>\n\"1\"\n</td>\n<td>\n\"0.000\"\n</td>\n<td>\n\"36571891493\"\n</td>\n<td>\n\"3.638\"\n</td>\n<td>\n\"67942048043\"\n</td>\n<td>\n\"1.86\"\n</td>\n<td>\n\"2276493632\"\n</td>\n<td>\n\"226.436\"\n</td>\n<td>\n\"87946098\"\n</td>\n<td>\n\"3.86\"\n</td>\n<td>\n\"9.986185043\"\n</td>\n</tr>\n<tr>\n<td>\n\"forkwait\"\n</td>\n<td>\n\"process id '14...\n</td>\n<td>\n\"46298.309479\"\n</td>\n<td>\n\"1.005\"\n</td>\n<td>\n\"15036\"\n</td>\n<td>\n\"0.325\"\n</td>\n<td>\n\"1161\"\n</td>\n<td>\n\"0.025\"\n</td>\n<td>\n\"5\"\n</td>\n<td>\n\"0.000\"\n</td>\n<td>\n\"169024721171\"\n</td>\n<td>\n\"3.651\"\n</td>\n<td>\n\"158048233681\"\n</td>\n<td>\n\"0.94\"\n</td>\n<td>\n\"25128356048\"\n</td>\n<td>\n\"542.749\"\n</td>\n<td>\n\"326693111\"\n</td>\n<td>\n\"1.30\"\n</td>\n<td>\n\"46.088085233\"\n</td>\n</tr>\n<tr>\n<td>\n\"forkwait\"\n</td>\n<td>\n\"process id '14...\n</td>\n<td>\n\"44742.503930\"\n</td>\n<td>\n\"1.004\"\n</td>\n<td>\n\"14121\"\n</td>\n<td>\n\"0.316\"\n</td>\n<td>\n\"1116\"\n</td>\n<td>\n\"0.025\"\n</td>\n<td>\n\"1\"\n</td>\n<td>\n\"0.000\"\n</td>\n<td>\n\"164067198779\"\n</td>\n<td>\n\"3.667\"\n</td>\n<td>\n\"155052534794\"\n</td>\n<td>\n\"0.95\"\n</td>\n<td>\n\"24688681189\"\n</td>\n<td>\n\"551.795\"\n</td>\n<td>\n\"323279546\"\n</td>\n<td>\n\"1.31\"\n</td>\n<td>\n\"44.563922403\"\n</td>\n</tr>\n<tr>\n<td>\n...\n</td>\n<td>\n...\n</td>\n<td>\n...\n</td>\n<td>\n...\n</td>\n<td>\n...\n</td>\n<td>\n...\n</td>\n<td>\n...\n</td>\n<td>\n...\n</td>\n<td>\n...\n</td>\n<td>\n...\n</td>\n<td>\n...\n</td>\n<td>\n...\n</td>\n<td>\n...\n</td>\n<td>\n...\n</td>\n<td>\n...\n</td>\n<td>\n...\n</td>\n<td>\n...\n</td>\n<td>\n...\n</td>\n<td>\n...\n</td>\n</tr>\n<tr>\n<td>\n\"sleep5\"\n</td>\n<td>\n\"process id '61...\n</td>\n<td>\n\"202.258330\"\n</td>\n<td>\n\"0.040\"\n</td>\n<td>\n\"1697\"\n</td>\n<td>\n\"0.008\"\n</td>\n<td>\n\"188\"\n</td>\n<td>\n\"0.930\"\n</td>\n<td>\n\"0\"\n</td>\n<td>\n\"0.000\"\n</td>\n<td>\n\"209483266\"\n</td>\n<td>\n\"1.036\"\n</td>\n<td>\n\"107928359\"\n</td>\n<td>\n\"0.52\"\n</td>\n<td>\n\"18436350\"\n</td>\n<td>\n\"91.152\"\n</td>\n<td>\n\"903576\"\n</td>\n<td>\n\"4.90\"\n</td>\n<td>\n\"5.020427195\"\n</td>\n</tr>\n<tr>\n<td>\n\"sleep5\"\n</td>\n<td>\n\"process id '61...\n</td>\n<td>\n\"200.939429\"\n</td>\n<td>\n\"0.040\"\n</td>\n<td>\n\"1716\"\n</td>\n<td>\n\"0.009\"\n</td>\n<td>\n\"146\"\n</td>\n<td>\n\"0.727\"\n</td>\n<td>\n\"0\"\n</td>\n<td>\n\"0.000\"\n</td>\n<td>\n\"218784554\"\n</td>\n<td>\n\"1.089\"\n</td>\n<td>\n\"111141454\"\n</td>\n<td>\n\"0.51\"\n</td>\n<td>\n\"18994608\"\n</td>\n<td>\n\"94.529\"\n</td>\n<td>\n\"920865\"\n</td>\n<td>\n\"4.85\"\n</td>\n<td>\n\"5.021666595\"\n</td>\n</tr>\n<tr>\n<td>\n\"sleep10\"\n</td>\n<td>\n\"process id '61...\n</td>\n<td>\n\"388.629148\"\n</td>\n<td>\n\"0.039\"\n</td>\n<td>\n\"3414\"\n</td>\n<td>\n\"0.009\"\n</td>\n<td>\n\"317\"\n</td>\n<td>\n\"0.816\"\n</td>\n<td>\n\"0\"\n</td>\n<td>\n\"0.000\"\n</td>\n<td>\n\"351638793\"\n</td>\n<td>\n\"0.905\"\n</td>\n<td>\n\"149447452\"\n</td>\n<td>\n\"0.43\"\n</td>\n<td>\n\"26056278\"\n</td>\n<td>\n\"67.047\"\n</td>\n<td>\n\"1663274\"\n</td>\n<td>\n\"6.38\"\n</td>\n<td>\n\"10.014439639\"\n</td>\n</tr>\n<tr>\n<td>\n\"sleep10\"\n</td>\n<td>\n\"process id '61...\n</td>\n<td>\n\"398.575181\"\n</td>\n<td>\n\"0.040\"\n</td>\n<td>\n\"3414\"\n</td>\n<td>\n\"0.009\"\n</td>\n<td>\n\"300\"\n</td>\n<td>\n\"0.753\"\n</td>\n<td>\n\"0\"\n</td>\n<td>\n\"0.000\"\n</td>\n<td>\n\"365299791\"\n</td>\n<td>\n\"0.917\"\n</td>\n<td>\n\"163133711\"\n</td>\n<td>\n\"0.45\"\n</td>\n<td>\n\"28242950\"\n</td>\n<td>\n\"70.860\"\n</td>\n<td>\n\"1716039\"\n</td>\n<td>\n\"6.08\"\n</td>\n<td>\n\"10.018364399\"\n</td>\n</tr>\n<tr>\n<td>\n\"sleep10\"\n</td>\n<td>\n\"process id '61...\n</td>\n<td>\n\"385.538430\"\n</td>\n<td>\n\"0.038\"\n</td>\n<td>\n\"3454\"\n</td>\n<td>\n\"0.009\"\n</td>\n<td>\n\"345\"\n</td>\n<td>\n\"0.895\"\n</td>\n<td>\n\"0\"\n</td>\n<td>\n\"0.000\"\n</td>\n<td>\n\"384108689\"\n</td>\n<td>\n\"0.996\"\n</td>\n<td>\n\"164890997\"\n</td>\n<td>\n\"0.43\"\n</td>\n<td>\n\"28676388\"\n</td>\n<td>\n\"74.380\"\n</td>\n<td>\n\"1731179\"\n</td>\n<td>\n\"6.04\"\n</td>\n<td>\n\"10.019923300\"\n</td>\n</tr>\n<tr>\n<td>\n\"sleep10\"\n</td>\n<td>\n\"process id '61...\n</td>\n<td>\n\"351.411551\"\n</td>\n<td>\n\"0.035\"\n</td>\n<td>\n\"3434\"\n</td>\n<td>\n\"0.010\"\n</td>\n<td>\n\"433\"\n</td>\n<td>\n\"0.001\"\n</td>\n<td>\n\"0\"\n</td>\n<td>\n\"0.000\"\n</td>\n<td>\n\"375069769\"\n</td>\n<td>\n\"1.067\"\n</td>\n<td>\n\"163226363\"\n</td>\n<td>\n\"0.44\"\n</td>\n<td>\n\"28282932\"\n</td>\n<td>\n\"80.484\"\n</td>\n<td>\n\"1682218\"\n</td>\n<td>\n\"5.95\"\n</td>\n<td>\n\"10.019416779\"\n</td>\n</tr>\n<tr>\n<td>\n\"sleep10\"\n</td>\n<td>\n\"process id '61...\n</td>\n<td>\n\"366.721845\"\n</td>\n<td>\n\"0.037\"\n</td>\n<td>\n\"3427\"\n</td>\n<td>\n\"0.009\"\n</td>\n<td>\n\"342\"\n</td>\n<td>\n\"0.933\"\n</td>\n<td>\n\"0\"\n</td>\n<td>\n\"0.000\"\n</td>\n<td>\n\"373023465\"\n</td>\n<td>\n\"1.017\"\n</td>\n<td>\n\"162873501\"\n</td>\n<td>\n\"0.44\"\n</td>\n<td>\n\"28249415\"\n</td>\n<td>\n\"77.032\"\n</td>\n<td>\n\"1712297\"\n</td>\n<td>\n\"6.06\"\n</td>\n<td>\n\"10.023982318\"\n</td>\n</tr>\n<tr>\n<td>\n\"sleep10\"\n</td>\n<td>\n\"process id '61...\n</td>\n<td>\n\"378.401668\"\n</td>\n<td>\n\"0.038\"\n</td>\n<td>\n\"3417\"\n</td>\n<td>\n\"0.009\"\n</td>\n<td>\n\"355\"\n</td>\n<td>\n\"0.938\"\n</td>\n<td>\n\"0\"\n</td>\n<td>\n\"0.000\"\n</td>\n<td>\n\"379221208\"\n</td>\n<td>\n\"1.002\"\n</td>\n<td>\n\"165811312\"\n</td>\n<td>\n\"0.44\"\n</td>\n<td>\n\"28777305\"\n</td>\n<td>\n\"76.050\"\n</td>\n<td>\n\"1711868\"\n</td>\n<td>\n\"5.95\"\n</td>\n<td>\n\"10.020144966\"\n</td>\n</tr>\n<tr>\n<td>\n\"sleep10\"\n</td>\n<td>\n\"process id '61...\n</td>\n<td>\n\"421.633407\"\n</td>\n<td>\n\"0.042\"\n</td>\n<td>\n\"3739\"\n</td>\n<td>\n\"0.009\"\n</td>\n<td>\n\"369\"\n</td>\n<td>\n\"0.875\"\n</td>\n<td>\n\"0\"\n</td>\n<td>\n\"0.000\"\n</td>\n<td>\n\"421449264\"\n</td>\n<td>\n\"1.000\"\n</td>\n<td>\n\"181898912\"\n</td>\n<td>\n\"0.43\"\n</td>\n<td>\n\"31807739\"\n</td>\n<td>\n\"75.439\"\n</td>\n<td>\n\"1932136\"\n</td>\n<td>\n\"6.07\"\n</td>\n<td>\n\"10.020739089\"\n</td>\n</tr>\n<tr>\n<td>\n\"sleep10\"\n</td>\n<td>\n\"process id '61...\n</td>\n<td>\n\"402.139757\"\n</td>\n<td>\n\"0.040\"\n</td>\n<td>\n\"3429\"\n</td>\n<td>\n\"0.009\"\n</td>\n<td>\n\"300\"\n</td>\n<td>\n\"0.746\"\n</td>\n<td>\n\"1\"\n</td>\n<td>\n\"0.002\"\n</td>\n<td>\n\"378988314\"\n</td>\n<td>\n\"0.942\"\n</td>\n<td>\n\"165128756\"\n</td>\n<td>\n\"0.44\"\n</td>\n<td>\n\"28642635\"\n</td>\n<td>\n\"71.226\"\n</td>\n<td>\n\"1726485\"\n</td>\n<td>\n\"6.03\"\n</td>\n<td>\n\"10.017352032\"\n</td>\n</tr>\n<tr>\n<td>\n\"sleep10\"\n</td>\n<td>\n\"process id '61...\n</td>\n<td>\n\"388.866509\"\n</td>\n<td>\n\"0.039\"\n</td>\n<td>\n\"3386\"\n</td>\n<td>\n\"0.009\"\n</td>\n<td>\n\"313\"\n</td>\n<td>\n\"0.805\"\n</td>\n<td>\n\"0\"\n</td>\n<td>\n\"0.000\"\n</td>\n<td>\n\"356254573\"\n</td>\n<td>\n\"0.916\"\n</td>\n<td>\n\"159832007\"\n</td>\n<td>\n\"0.45\"\n</td>\n<td>\n\"27696096\"\n</td>\n<td>\n\"71.223\"\n</td>\n<td>\n\"1670362\"\n</td>\n<td>\n\"6.03\"\n</td>\n<td>\n\"10.017592518\"\n</td>\n</tr>\n<tr>\n<td>\n\"sleep10\"\n</td>\n<td>\n\"process id '61...\n</td>\n<td>\n\"396.088883\"\n</td>\n<td>\n\"0.040\"\n</td>\n<td>\n\"3421\"\n</td>\n<td>\n\"0.009\"\n</td>\n<td>\n\"298\"\n</td>\n<td>\n\"0.752\"\n</td>\n<td>\n\"0\"\n</td>\n<td>\n\"0.000\"\n</td>\n<td>\n\"376164367\"\n</td>\n<td>\n\"0.950\"\n</td>\n<td>\n\"162379175\"\n</td>\n<td>\n\"0.43\"\n</td>\n<td>\n\"28139679\"\n</td>\n<td>\n\"71.044\"\n</td>\n<td>\n\"1700931\"\n</td>\n<td>\n\"6.04\"\n</td>\n<td>\n\"10.019101090\"\n</td>\n</tr>\n</tbody>\n</table>\n</div>"
     },
     "execution_count": 6,
     "metadata": {},
     "output_type": "execute_result"
    }
   ],
   "source": [
    "with open('data/without_vm_bench.json', 'r') as file:\n",
    "    extracted = util.extract(file)\n",
    "    raw_binary_translation = pl.from_dicts(extracted)\n",
    "raw_binary_translation"
   ],
   "metadata": {
    "collapsed": false,
    "pycharm": {
     "name": "#%%\n"
    }
   }
  },
  {
   "cell_type": "code",
   "execution_count": 7,
   "outputs": [
    {
     "data": {
      "text/plain": "shape: (60, 19)\n┌─────────┬─────────┬──────────┬────────────┬─────┬────────────┬────────────┬────────────┬─────────┐\n│ name    ┆ command ┆ task_clo ┆ cpus_utili ┆ ... ┆ branches_s ┆ branch_mis ┆ branch_mis ┆ total   │\n│ ---     ┆ ---     ┆ ck       ┆ zed        ┆     ┆ peed       ┆ ses        ┆ ses_percen ┆ ---     │\n│ str     ┆ str     ┆ ---      ┆ ---        ┆     ┆ ---        ┆ ---        ┆ tage       ┆ f64     │\n│         ┆         ┆ f64      ┆ f64        ┆     ┆ f64        ┆ f64        ┆ ---        ┆         │\n│         ┆         ┆          ┆            ┆     ┆            ┆            ┆ f64        ┆         │\n╞═════════╪═════════╪══════════╪════════════╪═════╪════════════╪════════════╪════════════╪═════════╡\n│ ddcopy  ┆ process ┆ 10004.64 ┆ 1.006      ┆ ... ┆ 228.532    ┆ 8.7761926e ┆ 3.84       ┆ 9.94428 │\n│         ┆ id      ┆ 8527     ┆            ┆     ┆            ┆ 7          ┆            ┆ 4       │\n│         ┆ '1431'  ┆          ┆            ┆     ┆            ┆            ┆            ┆         │\n├╌╌╌╌╌╌╌╌╌┼╌╌╌╌╌╌╌╌╌┼╌╌╌╌╌╌╌╌╌╌┼╌╌╌╌╌╌╌╌╌╌╌╌┼╌╌╌╌╌┼╌╌╌╌╌╌╌╌╌╌╌╌┼╌╌╌╌╌╌╌╌╌╌╌╌┼╌╌╌╌╌╌╌╌╌╌╌╌┼╌╌╌╌╌╌╌╌╌┤\n│ ddcopy  ┆ process ┆ 9939.578 ┆ 1.007      ┆ ... ┆ 229.021    ┆ 8.7467737e ┆ 3.84       ┆ 9.87143 │\n│         ┆ id      ┆ 672      ┆            ┆     ┆            ┆ 7          ┆            ┆ 3       │\n│         ┆ '1431'  ┆          ┆            ┆     ┆            ┆            ┆            ┆         │\n├╌╌╌╌╌╌╌╌╌┼╌╌╌╌╌╌╌╌╌┼╌╌╌╌╌╌╌╌╌╌┼╌╌╌╌╌╌╌╌╌╌╌╌┼╌╌╌╌╌┼╌╌╌╌╌╌╌╌╌╌╌╌┼╌╌╌╌╌╌╌╌╌╌╌╌┼╌╌╌╌╌╌╌╌╌╌╌╌┼╌╌╌╌╌╌╌╌╌┤\n│ ddcopy  ┆ process ┆ 10066.24 ┆ 1.006      ┆ ... ┆ 225.339    ┆ 8.7730711e ┆ 3.87       ┆ 10.0037 │\n│         ┆ id      ┆ 1465     ┆            ┆     ┆            ┆ 7          ┆            ┆ 42      │\n│         ┆ '1431'  ┆          ┆            ┆     ┆            ┆            ┆            ┆         │\n├╌╌╌╌╌╌╌╌╌┼╌╌╌╌╌╌╌╌╌┼╌╌╌╌╌╌╌╌╌╌┼╌╌╌╌╌╌╌╌╌╌╌╌┼╌╌╌╌╌┼╌╌╌╌╌╌╌╌╌╌╌╌┼╌╌╌╌╌╌╌╌╌╌╌╌┼╌╌╌╌╌╌╌╌╌╌╌╌┼╌╌╌╌╌╌╌╌╌┤\n│ ddcopy  ┆ process ┆ 10086.75 ┆ 1.009      ┆ ... ┆ 227.566    ┆ 8.7854764e ┆ 3.83       ┆ 9.99507 │\n│         ┆ id      ┆ 38       ┆            ┆     ┆            ┆ 7          ┆            ┆ 6       │\n│         ┆ '1431'  ┆          ┆            ┆     ┆            ┆            ┆            ┆         │\n├╌╌╌╌╌╌╌╌╌┼╌╌╌╌╌╌╌╌╌┼╌╌╌╌╌╌╌╌╌╌┼╌╌╌╌╌╌╌╌╌╌╌╌┼╌╌╌╌╌┼╌╌╌╌╌╌╌╌╌╌╌╌┼╌╌╌╌╌╌╌╌╌╌╌╌┼╌╌╌╌╌╌╌╌╌╌╌╌┼╌╌╌╌╌╌╌╌╌┤\n│ ...     ┆ ...     ┆ ...      ┆ ...        ┆ ... ┆ ...        ┆ ...        ┆ ...        ┆ ...     │\n├╌╌╌╌╌╌╌╌╌┼╌╌╌╌╌╌╌╌╌┼╌╌╌╌╌╌╌╌╌╌┼╌╌╌╌╌╌╌╌╌╌╌╌┼╌╌╌╌╌┼╌╌╌╌╌╌╌╌╌╌╌╌┼╌╌╌╌╌╌╌╌╌╌╌╌┼╌╌╌╌╌╌╌╌╌╌╌╌┼╌╌╌╌╌╌╌╌╌┤\n│ sleep10 ┆ process ┆ 421.6334 ┆ 0.042      ┆ ... ┆ 75.439     ┆ 1.932136e6 ┆ 6.07       ┆ 10.0207 │\n│         ┆ id      ┆ 07       ┆            ┆     ┆            ┆            ┆            ┆ 39      │\n│         ┆ '6135'  ┆          ┆            ┆     ┆            ┆            ┆            ┆         │\n├╌╌╌╌╌╌╌╌╌┼╌╌╌╌╌╌╌╌╌┼╌╌╌╌╌╌╌╌╌╌┼╌╌╌╌╌╌╌╌╌╌╌╌┼╌╌╌╌╌┼╌╌╌╌╌╌╌╌╌╌╌╌┼╌╌╌╌╌╌╌╌╌╌╌╌┼╌╌╌╌╌╌╌╌╌╌╌╌┼╌╌╌╌╌╌╌╌╌┤\n│ sleep10 ┆ process ┆ 402.1397 ┆ 0.04       ┆ ... ┆ 71.226     ┆ 1.726485e6 ┆ 6.03       ┆ 10.0173 │\n│         ┆ id      ┆ 57       ┆            ┆     ┆            ┆            ┆            ┆ 52      │\n│         ┆ '6135'  ┆          ┆            ┆     ┆            ┆            ┆            ┆         │\n├╌╌╌╌╌╌╌╌╌┼╌╌╌╌╌╌╌╌╌┼╌╌╌╌╌╌╌╌╌╌┼╌╌╌╌╌╌╌╌╌╌╌╌┼╌╌╌╌╌┼╌╌╌╌╌╌╌╌╌╌╌╌┼╌╌╌╌╌╌╌╌╌╌╌╌┼╌╌╌╌╌╌╌╌╌╌╌╌┼╌╌╌╌╌╌╌╌╌┤\n│ sleep10 ┆ process ┆ 388.8665 ┆ 0.039      ┆ ... ┆ 71.223     ┆ 1.670362e6 ┆ 6.03       ┆ 10.0175 │\n│         ┆ id      ┆ 09       ┆            ┆     ┆            ┆            ┆            ┆ 93      │\n│         ┆ '6135'  ┆          ┆            ┆     ┆            ┆            ┆            ┆         │\n├╌╌╌╌╌╌╌╌╌┼╌╌╌╌╌╌╌╌╌┼╌╌╌╌╌╌╌╌╌╌┼╌╌╌╌╌╌╌╌╌╌╌╌┼╌╌╌╌╌┼╌╌╌╌╌╌╌╌╌╌╌╌┼╌╌╌╌╌╌╌╌╌╌╌╌┼╌╌╌╌╌╌╌╌╌╌╌╌┼╌╌╌╌╌╌╌╌╌┤\n│ sleep10 ┆ process ┆ 396.0888 ┆ 0.04       ┆ ... ┆ 71.044     ┆ 1.700931e6 ┆ 6.04       ┆ 10.0191 │\n│         ┆ id      ┆ 83       ┆            ┆     ┆            ┆            ┆            ┆ 01      │\n│         ┆ '6135'  ┆          ┆            ┆     ┆            ┆            ┆            ┆         │\n└─────────┴─────────┴──────────┴────────────┴─────┴────────────┴────────────┴────────────┴─────────┘",
      "text/html": "<div>\n<style scoped>\n    .dataframe tbody tr th:only-of-type {\n        vertical-align: middle;\n    }\n\n    .dataframe tbody tr th {\n        vertical-align: top;\n    }\n\n    .dataframe thead th {\n        text-align: right;\n    }\n\n    .dataframe td {\n        white-space: pre;\n    }\n\n    .dataframe td {\n        padding-top: 0;\n    }\n\n    .dataframe td {\n        padding-bottom: 0;\n    }\n\n    .dataframe td {\n        line-height: 95%;\n    }\n</style>\n<table border=\"1\" class=\"dataframe\" >\n<small>shape: (60, 19)</small>\n<thead>\n<tr>\n<th>\nname\n</th>\n<th>\ncommand\n</th>\n<th>\ntask_clock\n</th>\n<th>\ncpus_utilized\n</th>\n<th>\ncontext_switches\n</th>\n<th>\ncontext_switches_speed\n</th>\n<th>\ncpu_migrations\n</th>\n<th>\ncpu_migrations_speed\n</th>\n<th>\npage_faults\n</th>\n<th>\npage_faults_speed\n</th>\n<th>\ncycles\n</th>\n<th>\ncycles_hz\n</th>\n<th>\ninstructions\n</th>\n<th>\nins_per_cycle\n</th>\n<th>\nbranches\n</th>\n<th>\nbranches_speed\n</th>\n<th>\nbranch_misses\n</th>\n<th>\nbranch_misses_percentage\n</th>\n<th>\ntotal\n</th>\n</tr>\n<tr>\n<td>\nstr\n</td>\n<td>\nstr\n</td>\n<td>\nf64\n</td>\n<td>\nf64\n</td>\n<td>\nf64\n</td>\n<td>\nf64\n</td>\n<td>\nf64\n</td>\n<td>\nf64\n</td>\n<td>\nf64\n</td>\n<td>\nf64\n</td>\n<td>\nf64\n</td>\n<td>\nf64\n</td>\n<td>\nf64\n</td>\n<td>\nf64\n</td>\n<td>\nf64\n</td>\n<td>\nf64\n</td>\n<td>\nf64\n</td>\n<td>\nf64\n</td>\n<td>\nf64\n</td>\n</tr>\n</thead>\n<tbody>\n<tr>\n<td>\n\"ddcopy\"\n</td>\n<td>\n\"process id '14...\n</td>\n<td>\n10004.648527\n</td>\n<td>\n1.006\n</td>\n<td>\n6015.0\n</td>\n<td>\n0.601\n</td>\n<td>\n218.0\n</td>\n<td>\n0.022\n</td>\n<td>\n1163.0\n</td>\n<td>\n0.116\n</td>\n<td>\n3.6471e10\n</td>\n<td>\n3.645\n</td>\n<td>\n6.7948e10\n</td>\n<td>\n1.86\n</td>\n<td>\n2.2864e9\n</td>\n<td>\n228.532\n</td>\n<td>\n8.7761926e7\n</td>\n<td>\n3.84\n</td>\n<td>\n9.944284\n</td>\n</tr>\n<tr>\n<td>\n\"ddcopy\"\n</td>\n<td>\n\"process id '14...\n</td>\n<td>\n9939.578672\n</td>\n<td>\n1.007\n</td>\n<td>\n5963.0\n</td>\n<td>\n0.6\n</td>\n<td>\n243.0\n</td>\n<td>\n0.024\n</td>\n<td>\n3.0\n</td>\n<td>\n0.0\n</td>\n<td>\n3.6271e10\n</td>\n<td>\n3.649\n</td>\n<td>\n6.7911e10\n</td>\n<td>\n1.87\n</td>\n<td>\n2.2764e9\n</td>\n<td>\n229.021\n</td>\n<td>\n8.7467737e7\n</td>\n<td>\n3.84\n</td>\n<td>\n9.871433\n</td>\n</tr>\n<tr>\n<td>\n\"ddcopy\"\n</td>\n<td>\n\"process id '14...\n</td>\n<td>\n10066.241465\n</td>\n<td>\n1.006\n</td>\n<td>\n6217.0\n</td>\n<td>\n0.618\n</td>\n<td>\n334.0\n</td>\n<td>\n0.033\n</td>\n<td>\n2.0\n</td>\n<td>\n0.0\n</td>\n<td>\n3.6528e10\n</td>\n<td>\n3.629\n</td>\n<td>\n6.7906e10\n</td>\n<td>\n1.86\n</td>\n<td>\n2.2683e9\n</td>\n<td>\n225.339\n</td>\n<td>\n8.7730711e7\n</td>\n<td>\n3.87\n</td>\n<td>\n10.003742\n</td>\n</tr>\n<tr>\n<td>\n\"ddcopy\"\n</td>\n<td>\n\"process id '14...\n</td>\n<td>\n10086.7538\n</td>\n<td>\n1.009\n</td>\n<td>\n6679.0\n</td>\n<td>\n0.662\n</td>\n<td>\n374.0\n</td>\n<td>\n0.037\n</td>\n<td>\n11006.0\n</td>\n<td>\n0.001\n</td>\n<td>\n3.6594e10\n</td>\n<td>\n3.628\n</td>\n<td>\n6.7979e10\n</td>\n<td>\n1.86\n</td>\n<td>\n2.2954e9\n</td>\n<td>\n227.566\n</td>\n<td>\n8.7854764e7\n</td>\n<td>\n3.83\n</td>\n<td>\n9.995076\n</td>\n</tr>\n<tr>\n<td>\n\"ddcopy\"\n</td>\n<td>\n\"process id '14...\n</td>\n<td>\n10064.812754\n</td>\n<td>\n1.007\n</td>\n<td>\n6167.0\n</td>\n<td>\n0.613\n</td>\n<td>\n310.0\n</td>\n<td>\n0.031\n</td>\n<td>\n1.0\n</td>\n<td>\n0.0\n</td>\n<td>\n3.6465e10\n</td>\n<td>\n3.623\n</td>\n<td>\n6.7947e10\n</td>\n<td>\n1.86\n</td>\n<td>\n2.2881e9\n</td>\n<td>\n227.341\n</td>\n<td>\n8.75612e7\n</td>\n<td>\n3.83\n</td>\n<td>\n9.998483\n</td>\n</tr>\n<tr>\n<td>\n\"ddcopy\"\n</td>\n<td>\n\"process id '14...\n</td>\n<td>\n10103.278149\n</td>\n<td>\n1.007\n</td>\n<td>\n6542.0\n</td>\n<td>\n0.648\n</td>\n<td>\n438.0\n</td>\n<td>\n0.043\n</td>\n<td>\n1.0\n</td>\n<td>\n0.0\n</td>\n<td>\n3.6569e10\n</td>\n<td>\n3.619\n</td>\n<td>\n6.7915e10\n</td>\n<td>\n1.86\n</td>\n<td>\n2.2793e9\n</td>\n<td>\n225.604\n</td>\n<td>\n8.7758889e7\n</td>\n<td>\n3.85\n</td>\n<td>\n10.035424\n</td>\n</tr>\n<tr>\n<td>\n\"ddcopy\"\n</td>\n<td>\n\"process id '14...\n</td>\n<td>\n10022.385414\n</td>\n<td>\n1.006\n</td>\n<td>\n6418.0\n</td>\n<td>\n0.64\n</td>\n<td>\n380.0\n</td>\n<td>\n0.038\n</td>\n<td>\n0.0\n</td>\n<td>\n0.0\n</td>\n<td>\n3.6387e10\n</td>\n<td>\n3.631\n</td>\n<td>\n6.7856e10\n</td>\n<td>\n1.86\n</td>\n<td>\n2.2616e9\n</td>\n<td>\n225.655\n</td>\n<td>\n8.7612046e7\n</td>\n<td>\n3.87\n</td>\n<td>\n9.958\n</td>\n</tr>\n<tr>\n<td>\n\"ddcopy\"\n</td>\n<td>\n\"process id '14...\n</td>\n<td>\n9950.255564\n</td>\n<td>\n1.007\n</td>\n<td>\n6285.0\n</td>\n<td>\n0.632\n</td>\n<td>\n266.0\n</td>\n<td>\n0.027\n</td>\n<td>\n513.0\n</td>\n<td>\n0.052\n</td>\n<td>\n3.6382e10\n</td>\n<td>\n3.656\n</td>\n<td>\n6.7915e10\n</td>\n<td>\n1.87\n</td>\n<td>\n2.2705e9\n</td>\n<td>\n228.188\n</td>\n<td>\n8.776011e7\n</td>\n<td>\n3.87\n</td>\n<td>\n9.878079\n</td>\n</tr>\n<tr>\n<td>\n\"ddcopy\"\n</td>\n<td>\n\"process id '14...\n</td>\n<td>\n9972.441174\n</td>\n<td>\n1.007\n</td>\n<td>\n6075.0\n</td>\n<td>\n0.609\n</td>\n<td>\n291.0\n</td>\n<td>\n0.029\n</td>\n<td>\n771.0\n</td>\n<td>\n0.077\n</td>\n<td>\n3.6380e10\n</td>\n<td>\n3.648\n</td>\n<td>\n6.7943e10\n</td>\n<td>\n1.87\n</td>\n<td>\n2.2838e9\n</td>\n<td>\n229.016\n</td>\n<td>\n8.7681828e7\n</td>\n<td>\n3.84\n</td>\n<td>\n9.905319\n</td>\n</tr>\n<tr>\n<td>\n\"ddcopy\"\n</td>\n<td>\n\"process id '14...\n</td>\n<td>\n10053.588342\n</td>\n<td>\n1.007\n</td>\n<td>\n6334.0\n</td>\n<td>\n0.63\n</td>\n<td>\n348.0\n</td>\n<td>\n0.035\n</td>\n<td>\n1.0\n</td>\n<td>\n0.0\n</td>\n<td>\n3.6572e10\n</td>\n<td>\n3.638\n</td>\n<td>\n6.7942e10\n</td>\n<td>\n1.86\n</td>\n<td>\n2.2765e9\n</td>\n<td>\n226.436\n</td>\n<td>\n8.7946098e7\n</td>\n<td>\n3.86\n</td>\n<td>\n9.986185\n</td>\n</tr>\n<tr>\n<td>\n\"forkwait\"\n</td>\n<td>\n\"process id '14...\n</td>\n<td>\n46298.309479\n</td>\n<td>\n1.005\n</td>\n<td>\n15036.0\n</td>\n<td>\n0.325\n</td>\n<td>\n1161.0\n</td>\n<td>\n0.025\n</td>\n<td>\n5.0\n</td>\n<td>\n0.0\n</td>\n<td>\n1.6902e11\n</td>\n<td>\n3.651\n</td>\n<td>\n1.5805e11\n</td>\n<td>\n0.94\n</td>\n<td>\n2.5128e10\n</td>\n<td>\n542.749\n</td>\n<td>\n3.26693111e8\n</td>\n<td>\n1.3\n</td>\n<td>\n46.088085\n</td>\n</tr>\n<tr>\n<td>\n\"forkwait\"\n</td>\n<td>\n\"process id '14...\n</td>\n<td>\n44742.5039\n</td>\n<td>\n1.004\n</td>\n<td>\n14121.0\n</td>\n<td>\n0.316\n</td>\n<td>\n1116.0\n</td>\n<td>\n0.025\n</td>\n<td>\n1.0\n</td>\n<td>\n0.0\n</td>\n<td>\n1.6407e11\n</td>\n<td>\n3.667\n</td>\n<td>\n1.5505e11\n</td>\n<td>\n0.95\n</td>\n<td>\n2.4689e10\n</td>\n<td>\n551.795\n</td>\n<td>\n3.23279546e8\n</td>\n<td>\n1.31\n</td>\n<td>\n44.563922\n</td>\n</tr>\n<tr>\n<td>\n...\n</td>\n<td>\n...\n</td>\n<td>\n...\n</td>\n<td>\n...\n</td>\n<td>\n...\n</td>\n<td>\n...\n</td>\n<td>\n...\n</td>\n<td>\n...\n</td>\n<td>\n...\n</td>\n<td>\n...\n</td>\n<td>\n...\n</td>\n<td>\n...\n</td>\n<td>\n...\n</td>\n<td>\n...\n</td>\n<td>\n...\n</td>\n<td>\n...\n</td>\n<td>\n...\n</td>\n<td>\n...\n</td>\n<td>\n...\n</td>\n</tr>\n<tr>\n<td>\n\"sleep5\"\n</td>\n<td>\n\"process id '61...\n</td>\n<td>\n202.25833\n</td>\n<td>\n0.04\n</td>\n<td>\n1697.0\n</td>\n<td>\n0.008\n</td>\n<td>\n188.0\n</td>\n<td>\n0.93\n</td>\n<td>\n0.0\n</td>\n<td>\n0.0\n</td>\n<td>\n2.09483266e8\n</td>\n<td>\n1.036\n</td>\n<td>\n1.07928359e8\n</td>\n<td>\n0.52\n</td>\n<td>\n1.843635e7\n</td>\n<td>\n91.152\n</td>\n<td>\n903576.0\n</td>\n<td>\n4.9\n</td>\n<td>\n5.020427\n</td>\n</tr>\n<tr>\n<td>\n\"sleep5\"\n</td>\n<td>\n\"process id '61...\n</td>\n<td>\n200.939429\n</td>\n<td>\n0.04\n</td>\n<td>\n1716.0\n</td>\n<td>\n0.009\n</td>\n<td>\n146.0\n</td>\n<td>\n0.727\n</td>\n<td>\n0.0\n</td>\n<td>\n0.0\n</td>\n<td>\n2.18784554e8\n</td>\n<td>\n1.089\n</td>\n<td>\n1.11141454e8\n</td>\n<td>\n0.51\n</td>\n<td>\n1.8994608e7\n</td>\n<td>\n94.529\n</td>\n<td>\n920865.0\n</td>\n<td>\n4.85\n</td>\n<td>\n5.021667\n</td>\n</tr>\n<tr>\n<td>\n\"sleep10\"\n</td>\n<td>\n\"process id '61...\n</td>\n<td>\n388.629148\n</td>\n<td>\n0.039\n</td>\n<td>\n3414.0\n</td>\n<td>\n0.009\n</td>\n<td>\n317.0\n</td>\n<td>\n0.816\n</td>\n<td>\n0.0\n</td>\n<td>\n0.0\n</td>\n<td>\n3.51638793e8\n</td>\n<td>\n0.905\n</td>\n<td>\n1.49447452e8\n</td>\n<td>\n0.43\n</td>\n<td>\n2.6056278e7\n</td>\n<td>\n67.047\n</td>\n<td>\n1.663274e6\n</td>\n<td>\n6.38\n</td>\n<td>\n10.0144\n</td>\n</tr>\n<tr>\n<td>\n\"sleep10\"\n</td>\n<td>\n\"process id '61...\n</td>\n<td>\n398.575181\n</td>\n<td>\n0.04\n</td>\n<td>\n3414.0\n</td>\n<td>\n0.009\n</td>\n<td>\n300.0\n</td>\n<td>\n0.753\n</td>\n<td>\n0.0\n</td>\n<td>\n0.0\n</td>\n<td>\n3.65299791e8\n</td>\n<td>\n0.917\n</td>\n<td>\n1.63133711e8\n</td>\n<td>\n0.45\n</td>\n<td>\n2.824295e7\n</td>\n<td>\n70.86\n</td>\n<td>\n1.716039e6\n</td>\n<td>\n6.08\n</td>\n<td>\n10.018364\n</td>\n</tr>\n<tr>\n<td>\n\"sleep10\"\n</td>\n<td>\n\"process id '61...\n</td>\n<td>\n385.53843\n</td>\n<td>\n0.038\n</td>\n<td>\n3454.0\n</td>\n<td>\n0.009\n</td>\n<td>\n345.0\n</td>\n<td>\n0.895\n</td>\n<td>\n0.0\n</td>\n<td>\n0.0\n</td>\n<td>\n3.84108689e8\n</td>\n<td>\n0.996\n</td>\n<td>\n1.64890997e8\n</td>\n<td>\n0.43\n</td>\n<td>\n2.8676388e7\n</td>\n<td>\n74.38\n</td>\n<td>\n1.731179e6\n</td>\n<td>\n6.04\n</td>\n<td>\n10.019923\n</td>\n</tr>\n<tr>\n<td>\n\"sleep10\"\n</td>\n<td>\n\"process id '61...\n</td>\n<td>\n351.411551\n</td>\n<td>\n0.035\n</td>\n<td>\n3434.0\n</td>\n<td>\n0.01\n</td>\n<td>\n433.0\n</td>\n<td>\n0.001\n</td>\n<td>\n0.0\n</td>\n<td>\n0.0\n</td>\n<td>\n3.75069769e8\n</td>\n<td>\n1.067\n</td>\n<td>\n1.63226363e8\n</td>\n<td>\n0.44\n</td>\n<td>\n2.8282932e7\n</td>\n<td>\n80.484\n</td>\n<td>\n1.682218e6\n</td>\n<td>\n5.95\n</td>\n<td>\n10.019417\n</td>\n</tr>\n<tr>\n<td>\n\"sleep10\"\n</td>\n<td>\n\"process id '61...\n</td>\n<td>\n366.721845\n</td>\n<td>\n0.037\n</td>\n<td>\n3427.0\n</td>\n<td>\n0.009\n</td>\n<td>\n342.0\n</td>\n<td>\n0.933\n</td>\n<td>\n0.0\n</td>\n<td>\n0.0\n</td>\n<td>\n3.73023465e8\n</td>\n<td>\n1.017\n</td>\n<td>\n1.62873501e8\n</td>\n<td>\n0.44\n</td>\n<td>\n2.8249415e7\n</td>\n<td>\n77.032\n</td>\n<td>\n1.712297e6\n</td>\n<td>\n6.06\n</td>\n<td>\n10.023982\n</td>\n</tr>\n<tr>\n<td>\n\"sleep10\"\n</td>\n<td>\n\"process id '61...\n</td>\n<td>\n378.401668\n</td>\n<td>\n0.038\n</td>\n<td>\n3417.0\n</td>\n<td>\n0.009\n</td>\n<td>\n355.0\n</td>\n<td>\n0.938\n</td>\n<td>\n0.0\n</td>\n<td>\n0.0\n</td>\n<td>\n3.79221208e8\n</td>\n<td>\n1.002\n</td>\n<td>\n1.65811312e8\n</td>\n<td>\n0.44\n</td>\n<td>\n2.8777305e7\n</td>\n<td>\n76.05\n</td>\n<td>\n1.711868e6\n</td>\n<td>\n5.95\n</td>\n<td>\n10.020145\n</td>\n</tr>\n<tr>\n<td>\n\"sleep10\"\n</td>\n<td>\n\"process id '61...\n</td>\n<td>\n421.633407\n</td>\n<td>\n0.042\n</td>\n<td>\n3739.0\n</td>\n<td>\n0.009\n</td>\n<td>\n369.0\n</td>\n<td>\n0.875\n</td>\n<td>\n0.0\n</td>\n<td>\n0.0\n</td>\n<td>\n4.21449264e8\n</td>\n<td>\n1.0\n</td>\n<td>\n1.81898912e8\n</td>\n<td>\n0.43\n</td>\n<td>\n3.1807739e7\n</td>\n<td>\n75.439\n</td>\n<td>\n1.932136e6\n</td>\n<td>\n6.07\n</td>\n<td>\n10.020739\n</td>\n</tr>\n<tr>\n<td>\n\"sleep10\"\n</td>\n<td>\n\"process id '61...\n</td>\n<td>\n402.139757\n</td>\n<td>\n0.04\n</td>\n<td>\n3429.0\n</td>\n<td>\n0.009\n</td>\n<td>\n300.0\n</td>\n<td>\n0.746\n</td>\n<td>\n1.0\n</td>\n<td>\n0.002\n</td>\n<td>\n3.78988314e8\n</td>\n<td>\n0.942\n</td>\n<td>\n1.65128756e8\n</td>\n<td>\n0.44\n</td>\n<td>\n2.8642635e7\n</td>\n<td>\n71.226\n</td>\n<td>\n1.726485e6\n</td>\n<td>\n6.03\n</td>\n<td>\n10.017352\n</td>\n</tr>\n<tr>\n<td>\n\"sleep10\"\n</td>\n<td>\n\"process id '61...\n</td>\n<td>\n388.866509\n</td>\n<td>\n0.039\n</td>\n<td>\n3386.0\n</td>\n<td>\n0.009\n</td>\n<td>\n313.0\n</td>\n<td>\n0.805\n</td>\n<td>\n0.0\n</td>\n<td>\n0.0\n</td>\n<td>\n3.56254573e8\n</td>\n<td>\n0.916\n</td>\n<td>\n1.59832007e8\n</td>\n<td>\n0.45\n</td>\n<td>\n2.7696096e7\n</td>\n<td>\n71.223\n</td>\n<td>\n1.670362e6\n</td>\n<td>\n6.03\n</td>\n<td>\n10.017593\n</td>\n</tr>\n<tr>\n<td>\n\"sleep10\"\n</td>\n<td>\n\"process id '61...\n</td>\n<td>\n396.088883\n</td>\n<td>\n0.04\n</td>\n<td>\n3421.0\n</td>\n<td>\n0.009\n</td>\n<td>\n298.0\n</td>\n<td>\n0.752\n</td>\n<td>\n0.0\n</td>\n<td>\n0.0\n</td>\n<td>\n3.76164367e8\n</td>\n<td>\n0.95\n</td>\n<td>\n1.62379175e8\n</td>\n<td>\n0.43\n</td>\n<td>\n2.8139679e7\n</td>\n<td>\n71.044\n</td>\n<td>\n1.700931e6\n</td>\n<td>\n6.04\n</td>\n<td>\n10.019101\n</td>\n</tr>\n</tbody>\n</table>\n</div>"
     },
     "execution_count": 7,
     "metadata": {},
     "output_type": "execute_result"
    }
   ],
   "source": [
    "binary_translation = util.convert(raw_binary_translation)\n",
    "binary_translation"
   ],
   "metadata": {
    "collapsed": false,
    "pycharm": {
     "name": "#%%\n"
    }
   }
  },
  {
   "cell_type": "markdown",
   "source": [
    "# Experiments"
   ],
   "metadata": {
    "collapsed": false,
    "pycharm": {
     "name": "#%% md\n"
    }
   }
  },
  {
   "cell_type": "markdown",
   "source": [
    "## Table 1: Comparing elapsed time and number of instructions"
   ],
   "metadata": {
    "collapsed": false,
    "pycharm": {
     "name": "#%% md\n"
    }
   }
  },
  {
   "cell_type": "code",
   "execution_count": 8,
   "outputs": [],
   "source": [
    "def avg_elapsed_time_and_instructions(\n",
    "        dataset: pl.DataFrame,\n",
    ") -> pl.DataFrame:\n",
    "    \"\"\"\n",
    "    1. Groups by name\n",
    "    2. Aggregates total and instructions using mean\n",
    "\n",
    "    :param dataset: Dataset to use\n",
    "    :return: Computed dataset\n",
    "    \"\"\"\n",
    "    agg = [\n",
    "        pl.mean(util.TOTAL),\n",
    "        pl.mean(util.INSTRUCTIONS)\n",
    "    ]\n",
    "    return dataset.groupby(util.NAME).agg(agg)"
   ],
   "metadata": {
    "collapsed": false,
    "pycharm": {
     "name": "#%%\n"
    }
   }
  },
  {
   "cell_type": "markdown",
   "source": [
    "### Host machine"
   ],
   "metadata": {
    "collapsed": false,
    "pycharm": {
     "name": "#%% md\n"
    }
   }
  },
  {
   "cell_type": "code",
   "execution_count": 9,
   "outputs": [
    {
     "data": {
      "text/plain": "shape: (3, 3)\n┌──────────┬───────────┬──────────────┐\n│ name     ┆ total     ┆ instructions │\n│ ---      ┆ ---       ┆ ---          │\n│ str      ┆ f64       ┆ f64          │\n╞══════════╪═══════════╪══════════════╡\n│ forkwait ┆ 15.524656 ┆ 1.1488e10    │\n├╌╌╌╌╌╌╌╌╌╌┼╌╌╌╌╌╌╌╌╌╌╌┼╌╌╌╌╌╌╌╌╌╌╌╌╌╌┤\n│ pi       ┆ 4.564178  ┆ 3.7199e10    │\n├╌╌╌╌╌╌╌╌╌╌┼╌╌╌╌╌╌╌╌╌╌╌┼╌╌╌╌╌╌╌╌╌╌╌╌╌╌┤\n│ ddcopy   ┆ 0.243551  ┆ 7.8474e7     │\n└──────────┴───────────┴──────────────┘",
      "text/html": "<div>\n<style scoped>\n    .dataframe tbody tr th:only-of-type {\n        vertical-align: middle;\n    }\n\n    .dataframe tbody tr th {\n        vertical-align: top;\n    }\n\n    .dataframe thead th {\n        text-align: right;\n    }\n\n    .dataframe td {\n        white-space: pre;\n    }\n\n    .dataframe td {\n        padding-top: 0;\n    }\n\n    .dataframe td {\n        padding-bottom: 0;\n    }\n\n    .dataframe td {\n        line-height: 95%;\n    }\n</style>\n<table border=\"1\" class=\"dataframe\" >\n<small>shape: (3, 3)</small>\n<thead>\n<tr>\n<th>\nname\n</th>\n<th>\ntotal\n</th>\n<th>\ninstructions\n</th>\n</tr>\n<tr>\n<td>\nstr\n</td>\n<td>\nf64\n</td>\n<td>\nf64\n</td>\n</tr>\n</thead>\n<tbody>\n<tr>\n<td>\n\"forkwait\"\n</td>\n<td>\n15.524656\n</td>\n<td>\n1.1488e10\n</td>\n</tr>\n<tr>\n<td>\n\"pi\"\n</td>\n<td>\n4.564178\n</td>\n<td>\n3.7199e10\n</td>\n</tr>\n<tr>\n<td>\n\"ddcopy\"\n</td>\n<td>\n0.243551\n</td>\n<td>\n7.8474e7\n</td>\n</tr>\n</tbody>\n</table>\n</div>"
     },
     "execution_count": 9,
     "metadata": {},
     "output_type": "execute_result"
    }
   ],
   "source": [
    "host_avg_elapsed_time_and_instructions = avg_elapsed_time_and_instructions(\n",
    "    host_df.filter(pl.col(util.NAME).str.contains(\"^sleep\").is_not()),\n",
    ")\n",
    "host_avg_elapsed_time_and_instructions"
   ],
   "metadata": {
    "collapsed": false,
    "pycharm": {
     "name": "#%%\n"
    }
   }
  },
  {
   "cell_type": "markdown",
   "source": [
    "### Trap and emulate"
   ],
   "metadata": {
    "collapsed": false,
    "pycharm": {
     "name": "#%% md\n"
    }
   }
  },
  {
   "cell_type": "code",
   "execution_count": 10,
   "outputs": [
    {
     "data": {
      "text/plain": "shape: (3, 3)\n┌──────────┬──────────┬──────────────┐\n│ name     ┆ total    ┆ instructions │\n│ ---      ┆ ---      ┆ ---          │\n│ str      ┆ f64      ┆ f64          │\n╞══════════╪══════════╪══════════════╡\n│ ddcopy   ┆ 9.835939 ┆ 5.9967e10    │\n├╌╌╌╌╌╌╌╌╌╌┼╌╌╌╌╌╌╌╌╌╌┼╌╌╌╌╌╌╌╌╌╌╌╌╌╌┤\n│ pi       ┆ 6.681767 ┆ 4.0122e10    │\n├╌╌╌╌╌╌╌╌╌╌┼╌╌╌╌╌╌╌╌╌╌┼╌╌╌╌╌╌╌╌╌╌╌╌╌╌┤\n│ forkwait ┆ 3.4316   ┆ 5.5687e9     │\n└──────────┴──────────┴──────────────┘",
      "text/html": "<div>\n<style scoped>\n    .dataframe tbody tr th:only-of-type {\n        vertical-align: middle;\n    }\n\n    .dataframe tbody tr th {\n        vertical-align: top;\n    }\n\n    .dataframe thead th {\n        text-align: right;\n    }\n\n    .dataframe td {\n        white-space: pre;\n    }\n\n    .dataframe td {\n        padding-top: 0;\n    }\n\n    .dataframe td {\n        padding-bottom: 0;\n    }\n\n    .dataframe td {\n        line-height: 95%;\n    }\n</style>\n<table border=\"1\" class=\"dataframe\" >\n<small>shape: (3, 3)</small>\n<thead>\n<tr>\n<th>\nname\n</th>\n<th>\ntotal\n</th>\n<th>\ninstructions\n</th>\n</tr>\n<tr>\n<td>\nstr\n</td>\n<td>\nf64\n</td>\n<td>\nf64\n</td>\n</tr>\n</thead>\n<tbody>\n<tr>\n<td>\n\"ddcopy\"\n</td>\n<td>\n9.835939\n</td>\n<td>\n5.9967e10\n</td>\n</tr>\n<tr>\n<td>\n\"pi\"\n</td>\n<td>\n6.681767\n</td>\n<td>\n4.0122e10\n</td>\n</tr>\n<tr>\n<td>\n\"forkwait\"\n</td>\n<td>\n3.4316\n</td>\n<td>\n5.5687e9\n</td>\n</tr>\n</tbody>\n</table>\n</div>"
     },
     "execution_count": 10,
     "metadata": {},
     "output_type": "execute_result"
    }
   ],
   "source": [
    "trap_emulate_avg_elapsed_time_and_instructions = avg_elapsed_time_and_instructions(\n",
    "    trap_emulate.filter(pl.col(util.NAME).str.contains(\"^sleep\").is_not()),\n",
    ")\n",
    "trap_emulate_avg_elapsed_time_and_instructions"
   ],
   "metadata": {
    "collapsed": false,
    "pycharm": {
     "name": "#%%\n"
    }
   }
  },
  {
   "cell_type": "markdown",
   "source": [
    "### Binary translation"
   ],
   "metadata": {
    "collapsed": false,
    "pycharm": {
     "name": "#%% md\n"
    }
   }
  },
  {
   "cell_type": "code",
   "execution_count": 11,
   "outputs": [
    {
     "data": {
      "text/plain": "shape: (3, 3)\n┌──────────┬───────────┬──────────────┐\n│ name     ┆ total     ┆ instructions │\n│ ---      ┆ ---       ┆ ---          │\n│ str      ┆ f64       ┆ f64          │\n╞══════════╪═══════════╪══════════════╡\n│ pi       ┆ 6.779642  ┆ 4.0262e10    │\n├╌╌╌╌╌╌╌╌╌╌┼╌╌╌╌╌╌╌╌╌╌╌┼╌╌╌╌╌╌╌╌╌╌╌╌╌╌┤\n│ forkwait ┆ 45.659009 ┆ 1.5724e11    │\n├╌╌╌╌╌╌╌╌╌╌┼╌╌╌╌╌╌╌╌╌╌╌┼╌╌╌╌╌╌╌╌╌╌╌╌╌╌┤\n│ ddcopy   ┆ 9.957609  ┆ 6.7926e10    │\n└──────────┴───────────┴──────────────┘",
      "text/html": "<div>\n<style scoped>\n    .dataframe tbody tr th:only-of-type {\n        vertical-align: middle;\n    }\n\n    .dataframe tbody tr th {\n        vertical-align: top;\n    }\n\n    .dataframe thead th {\n        text-align: right;\n    }\n\n    .dataframe td {\n        white-space: pre;\n    }\n\n    .dataframe td {\n        padding-top: 0;\n    }\n\n    .dataframe td {\n        padding-bottom: 0;\n    }\n\n    .dataframe td {\n        line-height: 95%;\n    }\n</style>\n<table border=\"1\" class=\"dataframe\" >\n<small>shape: (3, 3)</small>\n<thead>\n<tr>\n<th>\nname\n</th>\n<th>\ntotal\n</th>\n<th>\ninstructions\n</th>\n</tr>\n<tr>\n<td>\nstr\n</td>\n<td>\nf64\n</td>\n<td>\nf64\n</td>\n</tr>\n</thead>\n<tbody>\n<tr>\n<td>\n\"pi\"\n</td>\n<td>\n6.779642\n</td>\n<td>\n4.0262e10\n</td>\n</tr>\n<tr>\n<td>\n\"forkwait\"\n</td>\n<td>\n45.659009\n</td>\n<td>\n1.5724e11\n</td>\n</tr>\n<tr>\n<td>\n\"ddcopy\"\n</td>\n<td>\n9.957609\n</td>\n<td>\n6.7926e10\n</td>\n</tr>\n</tbody>\n</table>\n</div>"
     },
     "execution_count": 11,
     "metadata": {},
     "output_type": "execute_result"
    }
   ],
   "source": [
    "binary_translation_avg_elapsed_time_and_instructions = avg_elapsed_time_and_instructions(\n",
    "    binary_translation.filter(\n",
    "        pl.col(util.NAME).str.contains(\"^sleep\").is_not()\n",
    "    ),\n",
    ")\n",
    "binary_translation_avg_elapsed_time_and_instructions"
   ],
   "metadata": {
    "collapsed": false,
    "pycharm": {
     "name": "#%%\n"
    }
   }
  },
  {
   "cell_type": "markdown",
   "source": [
    "## Table 2: Comparing overhead"
   ],
   "metadata": {
    "collapsed": false,
    "pycharm": {
     "name": "#%% md\n"
    }
   },
   "outputs": []
  },
  {
   "cell_type": "code",
   "execution_count": 12,
   "outputs": [],
   "source": [
    "def avg_elapsed_time_and_instructions_diff(df1, df2):\n",
    "    suffix = '_joined'\n",
    "    return df1.join(\n",
    "        df2,\n",
    "        on='name',\n",
    "        suffix=suffix\n",
    "    ).select(\n",
    "        [pl.col(util.NAME)] +\n",
    "        [\n",
    "            (pl.col(c + suffix) - pl.col(c)).alias(c)\n",
    "            for c in [util.TOTAL, util.INSTRUCTIONS]\n",
    "        ]\n",
    "    )"
   ],
   "metadata": {
    "collapsed": false,
    "pycharm": {
     "name": "#%%\n"
    }
   }
  },
  {
   "cell_type": "markdown",
   "source": [
    "### Host machine"
   ],
   "metadata": {
    "collapsed": false,
    "pycharm": {
     "name": "#%% md\n"
    }
   }
  },
  {
   "cell_type": "code",
   "execution_count": 13,
   "outputs": [
    {
     "data": {
      "text/plain": "shape: (3, 3)\n┌─────────┬───────────┬──────────────┐\n│ name    ┆ total     ┆ instructions │\n│ ---     ┆ ---       ┆ ---          │\n│ str     ┆ f64       ┆ f64          │\n╞═════════╪═══════════╪══════════════╡\n│ sleep5  ┆ 5.000995  ┆ 841229.3     │\n├╌╌╌╌╌╌╌╌╌┼╌╌╌╌╌╌╌╌╌╌╌┼╌╌╌╌╌╌╌╌╌╌╌╌╌╌┤\n│ sleep10 ┆ 10.000996 ┆ 834945.5     │\n├╌╌╌╌╌╌╌╌╌┼╌╌╌╌╌╌╌╌╌╌╌┼╌╌╌╌╌╌╌╌╌╌╌╌╌╌┤\n│ sleep1  ┆ 1.001089  ┆ 844409.0     │\n└─────────┴───────────┴──────────────┘",
      "text/html": "<div>\n<style scoped>\n    .dataframe tbody tr th:only-of-type {\n        vertical-align: middle;\n    }\n\n    .dataframe tbody tr th {\n        vertical-align: top;\n    }\n\n    .dataframe thead th {\n        text-align: right;\n    }\n\n    .dataframe td {\n        white-space: pre;\n    }\n\n    .dataframe td {\n        padding-top: 0;\n    }\n\n    .dataframe td {\n        padding-bottom: 0;\n    }\n\n    .dataframe td {\n        line-height: 95%;\n    }\n</style>\n<table border=\"1\" class=\"dataframe\" >\n<small>shape: (3, 3)</small>\n<thead>\n<tr>\n<th>\nname\n</th>\n<th>\ntotal\n</th>\n<th>\ninstructions\n</th>\n</tr>\n<tr>\n<td>\nstr\n</td>\n<td>\nf64\n</td>\n<td>\nf64\n</td>\n</tr>\n</thead>\n<tbody>\n<tr>\n<td>\n\"sleep5\"\n</td>\n<td>\n5.000995\n</td>\n<td>\n841229.3\n</td>\n</tr>\n<tr>\n<td>\n\"sleep10\"\n</td>\n<td>\n10.000996\n</td>\n<td>\n834945.5\n</td>\n</tr>\n<tr>\n<td>\n\"sleep1\"\n</td>\n<td>\n1.001089\n</td>\n<td>\n844409.0\n</td>\n</tr>\n</tbody>\n</table>\n</div>"
     },
     "execution_count": 13,
     "metadata": {},
     "output_type": "execute_result"
    }
   ],
   "source": [
    "host_df_elapsed_time_and_instructions = avg_elapsed_time_and_instructions(\n",
    "    host_df.filter(pl.col(util.NAME).str.contains(\"^sleep\"))\n",
    ")\n",
    "host_df_elapsed_time_and_instructions"
   ],
   "metadata": {
    "collapsed": false,
    "pycharm": {
     "name": "#%%\n"
    }
   }
  },
  {
   "cell_type": "markdown",
   "source": [
    "### Trap and emulate"
   ],
   "metadata": {
    "collapsed": false,
    "pycharm": {
     "name": "#%% md\n"
    }
   }
  },
  {
   "cell_type": "code",
   "execution_count": 14,
   "outputs": [
    {
     "data": {
      "text/plain": "shape: (3, 3)\n┌─────────┬──────────┬──────────────┐\n│ name    ┆ total    ┆ instructions │\n│ ---     ┆ ---      ┆ ---          │\n│ str     ┆ f64      ┆ f64          │\n╞═════════╪══════════╪══════════════╡\n│ sleep1  ┆ 0.0007   ┆ 1.0923e7     │\n├╌╌╌╌╌╌╌╌╌┼╌╌╌╌╌╌╌╌╌╌┼╌╌╌╌╌╌╌╌╌╌╌╌╌╌┤\n│ sleep10 ┆ 0.000791 ┆ 7.6617e7     │\n├╌╌╌╌╌╌╌╌╌┼╌╌╌╌╌╌╌╌╌╌┼╌╌╌╌╌╌╌╌╌╌╌╌╌╌┤\n│ sleep5  ┆ 0.0019   ┆ 3.8257e7     │\n└─────────┴──────────┴──────────────┘",
      "text/html": "<div>\n<style scoped>\n    .dataframe tbody tr th:only-of-type {\n        vertical-align: middle;\n    }\n\n    .dataframe tbody tr th {\n        vertical-align: top;\n    }\n\n    .dataframe thead th {\n        text-align: right;\n    }\n\n    .dataframe td {\n        white-space: pre;\n    }\n\n    .dataframe td {\n        padding-top: 0;\n    }\n\n    .dataframe td {\n        padding-bottom: 0;\n    }\n\n    .dataframe td {\n        line-height: 95%;\n    }\n</style>\n<table border=\"1\" class=\"dataframe\" >\n<small>shape: (3, 3)</small>\n<thead>\n<tr>\n<th>\nname\n</th>\n<th>\ntotal\n</th>\n<th>\ninstructions\n</th>\n</tr>\n<tr>\n<td>\nstr\n</td>\n<td>\nf64\n</td>\n<td>\nf64\n</td>\n</tr>\n</thead>\n<tbody>\n<tr>\n<td>\n\"sleep1\"\n</td>\n<td>\n0.0007\n</td>\n<td>\n1.0923e7\n</td>\n</tr>\n<tr>\n<td>\n\"sleep10\"\n</td>\n<td>\n0.000791\n</td>\n<td>\n7.6617e7\n</td>\n</tr>\n<tr>\n<td>\n\"sleep5\"\n</td>\n<td>\n0.0019\n</td>\n<td>\n3.8257e7\n</td>\n</tr>\n</tbody>\n</table>\n</div>"
     },
     "execution_count": 14,
     "metadata": {},
     "output_type": "execute_result"
    }
   ],
   "source": [
    "trap_emulate_elapsed_time_and_instructions = avg_elapsed_time_and_instructions(\n",
    "    trap_emulate.filter(pl.col(util.NAME).str.contains(\"^sleep\"))\n",
    ")\n",
    "avg_elapsed_time_and_instructions_diff(\n",
    "    host_df_elapsed_time_and_instructions,\n",
    "    trap_emulate_elapsed_time_and_instructions\n",
    ")"
   ],
   "metadata": {
    "collapsed": false,
    "pycharm": {
     "name": "#%%\n"
    }
   }
  },
  {
   "cell_type": "markdown",
   "source": [
    "### Binary translation"
   ],
   "metadata": {
    "collapsed": false,
    "pycharm": {
     "name": "#%% md\n"
    }
   }
  },
  {
   "cell_type": "code",
   "execution_count": 15,
   "outputs": [
    {
     "data": {
      "text/plain": "shape: (3, 3)\n┌─────────┬──────────┬──────────────┐\n│ name    ┆ total    ┆ instructions │\n│ ---     ┆ ---      ┆ ---          │\n│ str     ┆ f64      ┆ f64          │\n╞═════════╪══════════╪══════════════╡\n│ sleep10 ┆ 0.0181   ┆ 1.6303e8     │\n├╌╌╌╌╌╌╌╌╌┼╌╌╌╌╌╌╌╌╌╌┼╌╌╌╌╌╌╌╌╌╌╌╌╌╌┤\n│ sleep5  ┆ 0.021219 ┆ 1.0925e8     │\n├╌╌╌╌╌╌╌╌╌┼╌╌╌╌╌╌╌╌╌╌┼╌╌╌╌╌╌╌╌╌╌╌╌╌╌┤\n│ sleep1  ┆ 0.022688 ┆ 6.785679e7   │\n└─────────┴──────────┴──────────────┘",
      "text/html": "<div>\n<style scoped>\n    .dataframe tbody tr th:only-of-type {\n        vertical-align: middle;\n    }\n\n    .dataframe tbody tr th {\n        vertical-align: top;\n    }\n\n    .dataframe thead th {\n        text-align: right;\n    }\n\n    .dataframe td {\n        white-space: pre;\n    }\n\n    .dataframe td {\n        padding-top: 0;\n    }\n\n    .dataframe td {\n        padding-bottom: 0;\n    }\n\n    .dataframe td {\n        line-height: 95%;\n    }\n</style>\n<table border=\"1\" class=\"dataframe\" >\n<small>shape: (3, 3)</small>\n<thead>\n<tr>\n<th>\nname\n</th>\n<th>\ntotal\n</th>\n<th>\ninstructions\n</th>\n</tr>\n<tr>\n<td>\nstr\n</td>\n<td>\nf64\n</td>\n<td>\nf64\n</td>\n</tr>\n</thead>\n<tbody>\n<tr>\n<td>\n\"sleep10\"\n</td>\n<td>\n0.0181\n</td>\n<td>\n1.6303e8\n</td>\n</tr>\n<tr>\n<td>\n\"sleep5\"\n</td>\n<td>\n0.021219\n</td>\n<td>\n1.0925e8\n</td>\n</tr>\n<tr>\n<td>\n\"sleep1\"\n</td>\n<td>\n0.022688\n</td>\n<td>\n6.785679e7\n</td>\n</tr>\n</tbody>\n</table>\n</div>"
     },
     "execution_count": 15,
     "metadata": {},
     "output_type": "execute_result"
    }
   ],
   "source": [
    "binary_translation_elapsed_time_and_instructions = avg_elapsed_time_and_instructions(\n",
    "    binary_translation.filter(pl.col(util.NAME).str.contains(\"^sleep\"))\n",
    ")\n",
    "avg_elapsed_time_and_instructions_diff(\n",
    "    host_df_elapsed_time_and_instructions,\n",
    "    binary_translation_elapsed_time_and_instructions\n",
    ")"
   ],
   "metadata": {
    "collapsed": false,
    "pycharm": {
     "name": "#%%\n"
    }
   }
  },
  {
   "cell_type": "markdown",
   "source": [
    "## Table 2.2: Tau, Alpha and Beta"
   ],
   "metadata": {
    "collapsed": false,
    "pycharm": {
     "name": "#%% md\n"
    }
   },
   "outputs": []
  },
  {
   "cell_type": "code",
   "execution_count": 16,
   "outputs": [],
   "source": [
    "# From https://towardsdatascience.com/simple-linear-regression-in-python-numpy-only-130a988c0212\n",
    "def get_tau_alpha_and_beta(\n",
    "        df: pl.DataFrame,\n",
    "        host_mean: pl.DataFrame\n",
    ") -> pl.DataFrame:\n",
    "    \"\"\"\n",
    "    - Tau (time overhead)\n",
    "    - Alpha: Slope of the linear regression\n",
    "    - Beta: Intercept for the linear regression\n",
    "    :param df: x dataframe\n",
    "    :param host_mean: y dataframe\n",
    "    :return: tau, alpha and beta\n",
    "    \"\"\"\n",
    "    suffix = \"_joined\"\n",
    "    axis = df.join(host_mean, on=util.NAME, suffix=suffix).select([\n",
    "        pl.col(util.TOTAL + suffix).alias(\"x\"),\n",
    "        pl.col(util.INSTRUCTIONS).alias(\"y\")\n",
    "    ])\n",
    "    # Time overhead\n",
    "    tau = df.join(host_mean, on=util.NAME, suffix=suffix).select(\n",
    "        (pl.col(util.TOTAL) - pl.col(util.TOTAL + suffix)).alias(\"tau\")\n",
    "    ).mean()\n",
    "    # Slope\n",
    "    beta = axis.select([\n",
    "        (\n",
    "                (pl.col(\"x\") - pl.col(\"x\").mean()) * (\n",
    "                pl.col(\"y\") - pl.col(\"y\").mean())\n",
    "        ).alias(\"num\"),\n",
    "        (\n",
    "                (pl.col(\"x\") - pl.col(\"x\").mean()) ** 2\n",
    "        ).alias(\"den\")\n",
    "    ]).select(\n",
    "        (pl.col(\"num\").sum() / pl.col(\"den\").sum()).alias(\"beta\")\n",
    "    )\n",
    "    # Intercept\n",
    "    alpha = axis.select(\n",
    "        (pl.col(\"y\").mean() - (pl.col(\"x\").mean() * beta.to_series()[0])).alias(\n",
    "            \"alpha\")\n",
    "    )\n",
    "    return pl.concat([tau, alpha, beta], how='horizontal')"
   ],
   "metadata": {
    "collapsed": false,
    "pycharm": {
     "name": "#%%\n"
    }
   }
  },
  {
   "cell_type": "markdown",
   "source": [
    "### Trap and emulate"
   ],
   "metadata": {
    "collapsed": false,
    "pycharm": {
     "name": "#%% md\n"
    }
   }
  },
  {
   "cell_type": "code",
   "execution_count": 17,
   "outputs": [
    {
     "data": {
      "text/plain": "shape: (1, 3)\n┌────────┬──────────┬──────────┐\n│ tau    ┆ alpha    ┆ beta     │\n│ ---    ┆ ---      ┆ ---      │\n│ f64    ┆ f64      ┆ f64      │\n╞════════╪══════════╪══════════╡\n│ 0.0011 ┆ 3.7591e6 ┆ 7.3136e6 │\n└────────┴──────────┴──────────┘",
      "text/html": "<div>\n<style scoped>\n    .dataframe tbody tr th:only-of-type {\n        vertical-align: middle;\n    }\n\n    .dataframe tbody tr th {\n        vertical-align: top;\n    }\n\n    .dataframe thead th {\n        text-align: right;\n    }\n\n    .dataframe td {\n        white-space: pre;\n    }\n\n    .dataframe td {\n        padding-top: 0;\n    }\n\n    .dataframe td {\n        padding-bottom: 0;\n    }\n\n    .dataframe td {\n        line-height: 95%;\n    }\n</style>\n<table border=\"1\" class=\"dataframe\" >\n<small>shape: (1, 3)</small>\n<thead>\n<tr>\n<th>\ntau\n</th>\n<th>\nalpha\n</th>\n<th>\nbeta\n</th>\n</tr>\n<tr>\n<td>\nf64\n</td>\n<td>\nf64\n</td>\n<td>\nf64\n</td>\n</tr>\n</thead>\n<tbody>\n<tr>\n<td>\n0.0011\n</td>\n<td>\n3.7591e6\n</td>\n<td>\n7.3136e6\n</td>\n</tr>\n</tbody>\n</table>\n</div>"
     },
     "execution_count": 17,
     "metadata": {},
     "output_type": "execute_result"
    }
   ],
   "source": [
    "trap_emulate_tau_alpha_beta = get_tau_alpha_and_beta(\n",
    "    trap_emulate_elapsed_time_and_instructions,\n",
    "    host_df_elapsed_time_and_instructions\n",
    ")\n",
    "trap_emulate_tau_alpha_beta"
   ],
   "metadata": {
    "collapsed": false,
    "pycharm": {
     "name": "#%%\n"
    }
   }
  },
  {
   "cell_type": "markdown",
   "source": [
    "### Binary translation"
   ],
   "metadata": {
    "collapsed": false,
    "pycharm": {
     "name": "#%% md\n"
    }
   }
  },
  {
   "cell_type": "code",
   "execution_count": 18,
   "outputs": [
    {
     "data": {
      "text/plain": "shape: (1, 3)\n┌──────────┬──────────┬──────────┐\n│ tau      ┆ alpha    ┆ beta     │\n│ ---      ┆ ---      ┆ ---      │\n│ f64      ┆ f64      ┆ f64      │\n╞══════════╪══════════╪══════════╡\n│ 0.020672 ┆ 5.7775e7 ┆ 1.0581e7 │\n└──────────┴──────────┴──────────┘",
      "text/html": "<div>\n<style scoped>\n    .dataframe tbody tr th:only-of-type {\n        vertical-align: middle;\n    }\n\n    .dataframe tbody tr th {\n        vertical-align: top;\n    }\n\n    .dataframe thead th {\n        text-align: right;\n    }\n\n    .dataframe td {\n        white-space: pre;\n    }\n\n    .dataframe td {\n        padding-top: 0;\n    }\n\n    .dataframe td {\n        padding-bottom: 0;\n    }\n\n    .dataframe td {\n        line-height: 95%;\n    }\n</style>\n<table border=\"1\" class=\"dataframe\" >\n<small>shape: (1, 3)</small>\n<thead>\n<tr>\n<th>\ntau\n</th>\n<th>\nalpha\n</th>\n<th>\nbeta\n</th>\n</tr>\n<tr>\n<td>\nf64\n</td>\n<td>\nf64\n</td>\n<td>\nf64\n</td>\n</tr>\n</thead>\n<tbody>\n<tr>\n<td>\n0.020672\n</td>\n<td>\n5.7775e7\n</td>\n<td>\n1.0581e7\n</td>\n</tr>\n</tbody>\n</table>\n</div>"
     },
     "execution_count": 18,
     "metadata": {},
     "output_type": "execute_result"
    }
   ],
   "source": [
    "binary_translation_tau_alpha_beta = get_tau_alpha_and_beta(\n",
    "    binary_translation_elapsed_time_and_instructions,\n",
    "    host_df_elapsed_time_and_instructions\n",
    ")\n",
    "binary_translation_tau_alpha_beta"
   ],
   "metadata": {
    "collapsed": false,
    "pycharm": {
     "name": "#%%\n"
    }
   }
  },
  {
   "cell_type": "markdown",
   "source": [
    "## Table 2.2: Removing overhead"
   ],
   "metadata": {
    "collapsed": false,
    "pycharm": {
     "name": "#%% md\n"
    }
   }
  },
  {
   "cell_type": "code",
   "execution_count": 19,
   "outputs": [],
   "source": [
    "def remove_overhead(df: pl.DataFrame, overhead: pl.DataFrame) -> pl.DataFrame:\n",
    "    return df.select([\n",
    "        pl.col(util.NAME),\n",
    "        pl.col(util.TOTAL) - overhead[\"tau\"],\n",
    "        pl.col(util.INSTRUCTIONS) - (\n",
    "                overhead['alpha'] + overhead['beta'] * overhead['tau'])\n",
    "    ])"
   ],
   "metadata": {
    "collapsed": false,
    "pycharm": {
     "name": "#%%\n"
    }
   }
  },
  {
   "cell_type": "markdown",
   "source": [
    "### Trap and emulate"
   ],
   "metadata": {
    "collapsed": false,
    "pycharm": {
     "name": "#%% md\n"
    }
   }
  },
  {
   "cell_type": "code",
   "execution_count": 20,
   "outputs": [
    {
     "data": {
      "text/plain": "shape: (3, 3)\n┌──────────┬──────────┬──────────────┐\n│ name     ┆ total    ┆ instructions │\n│ ---      ┆ ---      ┆ ---          │\n│ str      ┆ f64      ┆ f64          │\n╞══════════╪══════════╪══════════════╡\n│ ddcopy   ┆ 9.834779 ┆ 5.9963e10    │\n├╌╌╌╌╌╌╌╌╌╌┼╌╌╌╌╌╌╌╌╌╌┼╌╌╌╌╌╌╌╌╌╌╌╌╌╌┤\n│ pi       ┆ 6.680607 ┆ 4.0118e10    │\n├╌╌╌╌╌╌╌╌╌╌┼╌╌╌╌╌╌╌╌╌╌┼╌╌╌╌╌╌╌╌╌╌╌╌╌╌┤\n│ forkwait ┆ 3.4305   ┆ 5.5649e9     │\n└──────────┴──────────┴──────────────┘",
      "text/html": "<div>\n<style scoped>\n    .dataframe tbody tr th:only-of-type {\n        vertical-align: middle;\n    }\n\n    .dataframe tbody tr th {\n        vertical-align: top;\n    }\n\n    .dataframe thead th {\n        text-align: right;\n    }\n\n    .dataframe td {\n        white-space: pre;\n    }\n\n    .dataframe td {\n        padding-top: 0;\n    }\n\n    .dataframe td {\n        padding-bottom: 0;\n    }\n\n    .dataframe td {\n        line-height: 95%;\n    }\n</style>\n<table border=\"1\" class=\"dataframe\" >\n<small>shape: (3, 3)</small>\n<thead>\n<tr>\n<th>\nname\n</th>\n<th>\ntotal\n</th>\n<th>\ninstructions\n</th>\n</tr>\n<tr>\n<td>\nstr\n</td>\n<td>\nf64\n</td>\n<td>\nf64\n</td>\n</tr>\n</thead>\n<tbody>\n<tr>\n<td>\n\"ddcopy\"\n</td>\n<td>\n9.834779\n</td>\n<td>\n5.9963e10\n</td>\n</tr>\n<tr>\n<td>\n\"pi\"\n</td>\n<td>\n6.680607\n</td>\n<td>\n4.0118e10\n</td>\n</tr>\n<tr>\n<td>\n\"forkwait\"\n</td>\n<td>\n3.4305\n</td>\n<td>\n5.5649e9\n</td>\n</tr>\n</tbody>\n</table>\n</div>"
     },
     "execution_count": 20,
     "metadata": {},
     "output_type": "execute_result"
    }
   ],
   "source": [
    "trap_emulate_no_overhead = remove_overhead(\n",
    "    trap_emulate_avg_elapsed_time_and_instructions,\n",
    "    trap_emulate_tau_alpha_beta\n",
    ")\n",
    "trap_emulate_no_overhead"
   ],
   "metadata": {
    "collapsed": false,
    "pycharm": {
     "name": "#%%\n"
    }
   }
  },
  {
   "cell_type": "markdown",
   "source": [
    "### Binary translation"
   ],
   "metadata": {
    "collapsed": false,
    "pycharm": {
     "name": "#%% md\n"
    }
   }
  },
  {
   "cell_type": "code",
   "execution_count": 21,
   "outputs": [
    {
     "data": {
      "text/plain": "shape: (3, 3)\n┌──────────┬───────────┬──────────────┐\n│ name     ┆ total     ┆ instructions │\n│ ---      ┆ ---       ┆ ---          │\n│ str      ┆ f64       ┆ f64          │\n╞══════════╪═══════════╪══════════════╡\n│ pi       ┆ 6.7589    ┆ 4.0204e10    │\n├╌╌╌╌╌╌╌╌╌╌┼╌╌╌╌╌╌╌╌╌╌╌┼╌╌╌╌╌╌╌╌╌╌╌╌╌╌┤\n│ forkwait ┆ 45.638337 ┆ 1.5718e11    │\n├╌╌╌╌╌╌╌╌╌╌┼╌╌╌╌╌╌╌╌╌╌╌┼╌╌╌╌╌╌╌╌╌╌╌╌╌╌┤\n│ ddcopy   ┆ 9.936936  ┆ 6.7868e10    │\n└──────────┴───────────┴──────────────┘",
      "text/html": "<div>\n<style scoped>\n    .dataframe tbody tr th:only-of-type {\n        vertical-align: middle;\n    }\n\n    .dataframe tbody tr th {\n        vertical-align: top;\n    }\n\n    .dataframe thead th {\n        text-align: right;\n    }\n\n    .dataframe td {\n        white-space: pre;\n    }\n\n    .dataframe td {\n        padding-top: 0;\n    }\n\n    .dataframe td {\n        padding-bottom: 0;\n    }\n\n    .dataframe td {\n        line-height: 95%;\n    }\n</style>\n<table border=\"1\" class=\"dataframe\" >\n<small>shape: (3, 3)</small>\n<thead>\n<tr>\n<th>\nname\n</th>\n<th>\ntotal\n</th>\n<th>\ninstructions\n</th>\n</tr>\n<tr>\n<td>\nstr\n</td>\n<td>\nf64\n</td>\n<td>\nf64\n</td>\n</tr>\n</thead>\n<tbody>\n<tr>\n<td>\n\"pi\"\n</td>\n<td>\n6.7589\n</td>\n<td>\n4.0204e10\n</td>\n</tr>\n<tr>\n<td>\n\"forkwait\"\n</td>\n<td>\n45.638337\n</td>\n<td>\n1.5718e11\n</td>\n</tr>\n<tr>\n<td>\n\"ddcopy\"\n</td>\n<td>\n9.936936\n</td>\n<td>\n6.7868e10\n</td>\n</tr>\n</tbody>\n</table>\n</div>"
     },
     "execution_count": 21,
     "metadata": {},
     "output_type": "execute_result"
    }
   ],
   "source": [
    "binary_translation_no_overhead = remove_overhead(\n",
    "    binary_translation_avg_elapsed_time_and_instructions,\n",
    "    binary_translation_tau_alpha_beta\n",
    ")\n",
    "binary_translation_no_overhead"
   ],
   "metadata": {
    "collapsed": false,
    "pycharm": {
     "name": "#%%\n"
    }
   }
  },
  {
   "cell_type": "markdown",
   "source": [
    "## Slow down"
   ],
   "metadata": {
    "collapsed": false,
    "pycharm": {
     "name": "#%% md\n"
    }
   }
  },
  {
   "cell_type": "code",
   "execution_count": 22,
   "outputs": [],
   "source": [
    "def slowdown(df: pl.DataFrame, host_avg: pl.DataFrame) -> pl.DataFrame:\n",
    "    suffix = '_host'\n",
    "    return df.join(host_avg, on=util.NAME, suffix=suffix).select([\n",
    "        pl.col(util.NAME),\n",
    "        (pl.col(util.TOTAL) / pl.col(util.TOTAL + suffix)).alias(\"slowdown\"),\n",
    "        pl.col(util.TOTAL).alias(\"t_virtual\"),\n",
    "        pl.col(util.TOTAL + suffix).alias(\"t_real\"),\n",
    "        pl.col(util.INSTRUCTIONS).alias(\"i_virtual\"),\n",
    "        pl.col(util.INSTRUCTIONS + suffix).alias(\"i_real\")\n",
    "    ]).select([\n",
    "        pl.col(util.NAME),\n",
    "        pl.col(\"slowdown\"),\n",
    "        # (i_real * t_real - i_real * t_virtual) / (2 * i_real * t_real - i_real * t_virtual - i_virtual*t_real)\n",
    "        (\n",
    "          ((pl.col(\"i_real\") * pl.col(\"t_real\")) - (pl.col(\"i_real\") * pl.col(\"t_virtual\"))) /\n",
    "            ((2 * pl.col(\"i_real\") * pl.col(\"t_real\")) - (pl.col(\"i_real\") * pl.col(\"t_virtual\")) - (pl.col(\"i_virtual\") * pl.col(\"t_real\")))\n",
    "        ).alias(\"Fp\"),\n",
    "        # ((i_real * t_virtual + i_virtual * t_real)/(i_real * t_real)) - 1\n",
    "        (\n",
    "                (\n",
    "                        (\n",
    "                                (pl.col(\"i_real\") * pl.col(\"t_virtual\")) +\n",
    "                                (pl.col(\"i_virtual\") * pl.col(\"t_real\"))\n",
    "                        ) / (pl.col(\"i_real\") * pl.col(\"t_real\"))\n",
    "                ) - 1\n",
    "        ).alias(\"Ne\"),\n",
    "    ])"
   ],
   "metadata": {
    "collapsed": false,
    "pycharm": {
     "name": "#%%\n"
    }
   }
  },
  {
   "cell_type": "markdown",
   "source": [
    "### Trap and emulate"
   ],
   "metadata": {
    "collapsed": false,
    "pycharm": {
     "name": "#%% md\n"
    }
   }
  },
  {
   "cell_type": "code",
   "execution_count": 23,
   "outputs": [
    {
     "data": {
      "text/plain": "shape: (3, 4)\n┌──────────┬───────────┬──────────┬────────────┐\n│ name     ┆ slowdown  ┆ Fp       ┆ Ne         │\n│ ---      ┆ ---       ┆ ---      ┆ ---        │\n│ str      ┆ f64       ┆ f64      ┆ f64        │\n╞══════════╪═══════════╪══════════╪════════════╡\n│ forkwait ┆ 0.220972  ┆ 0.601751 ┆ -0.294602  │\n├╌╌╌╌╌╌╌╌╌╌┼╌╌╌╌╌╌╌╌╌╌╌┼╌╌╌╌╌╌╌╌╌╌┼╌╌╌╌╌╌╌╌╌╌╌╌┤\n│ pi       ┆ 1.463704  ┆ 0.855284 ┆ 1.542164   │\n├╌╌╌╌╌╌╌╌╌╌┼╌╌╌╌╌╌╌╌╌╌╌┼╌╌╌╌╌╌╌╌╌╌┼╌╌╌╌╌╌╌╌╌╌╌╌┤\n│ ddcopy   ┆ 40.380839 ┆ 0.049073 ┆ 803.498351 │\n└──────────┴───────────┴──────────┴────────────┘",
      "text/html": "<div>\n<style scoped>\n    .dataframe tbody tr th:only-of-type {\n        vertical-align: middle;\n    }\n\n    .dataframe tbody tr th {\n        vertical-align: top;\n    }\n\n    .dataframe thead th {\n        text-align: right;\n    }\n\n    .dataframe td {\n        white-space: pre;\n    }\n\n    .dataframe td {\n        padding-top: 0;\n    }\n\n    .dataframe td {\n        padding-bottom: 0;\n    }\n\n    .dataframe td {\n        line-height: 95%;\n    }\n</style>\n<table border=\"1\" class=\"dataframe\" >\n<small>shape: (3, 4)</small>\n<thead>\n<tr>\n<th>\nname\n</th>\n<th>\nslowdown\n</th>\n<th>\nFp\n</th>\n<th>\nNe\n</th>\n</tr>\n<tr>\n<td>\nstr\n</td>\n<td>\nf64\n</td>\n<td>\nf64\n</td>\n<td>\nf64\n</td>\n</tr>\n</thead>\n<tbody>\n<tr>\n<td>\n\"forkwait\"\n</td>\n<td>\n0.220972\n</td>\n<td>\n0.601751\n</td>\n<td>\n-0.294602\n</td>\n</tr>\n<tr>\n<td>\n\"pi\"\n</td>\n<td>\n1.463704\n</td>\n<td>\n0.855284\n</td>\n<td>\n1.542164\n</td>\n</tr>\n<tr>\n<td>\n\"ddcopy\"\n</td>\n<td>\n40.380839\n</td>\n<td>\n0.049073\n</td>\n<td>\n803.498351\n</td>\n</tr>\n</tbody>\n</table>\n</div>"
     },
     "execution_count": 23,
     "metadata": {},
     "output_type": "execute_result"
    }
   ],
   "source": [
    "slowdown(\n",
    "    trap_emulate_no_overhead,\n",
    "    host_avg_elapsed_time_and_instructions\n",
    ")"
   ],
   "metadata": {
    "collapsed": false,
    "pycharm": {
     "name": "#%%\n"
    }
   }
  },
  {
   "cell_type": "markdown",
   "source": [
    "### Binary translation"
   ],
   "metadata": {
    "collapsed": false,
    "pycharm": {
     "name": "#%% md\n"
    }
   }
  },
  {
   "cell_type": "code",
   "execution_count": 24,
   "outputs": [
    {
     "data": {
      "text/plain": "shape: (3, 4)\n┌──────────┬───────────┬──────────┬────────────┐\n│ name     ┆ slowdown  ┆ Fp       ┆ Ne         │\n│ ---      ┆ ---       ┆ ---      ┆ ---        │\n│ str      ┆ f64       ┆ f64      ┆ f64        │\n╞══════════╪═══════════╪══════════╪════════════╡\n│ forkwait ┆ 2.939733  ┆ 0.132655 ┆ 15.622379  │\n├╌╌╌╌╌╌╌╌╌╌┼╌╌╌╌╌╌╌╌╌╌╌┼╌╌╌╌╌╌╌╌╌╌┼╌╌╌╌╌╌╌╌╌╌╌╌┤\n│ pi       ┆ 1.480873  ┆ 0.856178 ┆ 1.561651   │\n├╌╌╌╌╌╌╌╌╌╌┼╌╌╌╌╌╌╌╌╌╌╌┼╌╌╌╌╌╌╌╌╌╌┼╌╌╌╌╌╌╌╌╌╌╌╌┤\n│ ddcopy   ┆ 40.800288 ┆ 0.044044 ┆ 904.649906 │\n└──────────┴───────────┴──────────┴────────────┘",
      "text/html": "<div>\n<style scoped>\n    .dataframe tbody tr th:only-of-type {\n        vertical-align: middle;\n    }\n\n    .dataframe tbody tr th {\n        vertical-align: top;\n    }\n\n    .dataframe thead th {\n        text-align: right;\n    }\n\n    .dataframe td {\n        white-space: pre;\n    }\n\n    .dataframe td {\n        padding-top: 0;\n    }\n\n    .dataframe td {\n        padding-bottom: 0;\n    }\n\n    .dataframe td {\n        line-height: 95%;\n    }\n</style>\n<table border=\"1\" class=\"dataframe\" >\n<small>shape: (3, 4)</small>\n<thead>\n<tr>\n<th>\nname\n</th>\n<th>\nslowdown\n</th>\n<th>\nFp\n</th>\n<th>\nNe\n</th>\n</tr>\n<tr>\n<td>\nstr\n</td>\n<td>\nf64\n</td>\n<td>\nf64\n</td>\n<td>\nf64\n</td>\n</tr>\n</thead>\n<tbody>\n<tr>\n<td>\n\"forkwait\"\n</td>\n<td>\n2.939733\n</td>\n<td>\n0.132655\n</td>\n<td>\n15.622379\n</td>\n</tr>\n<tr>\n<td>\n\"pi\"\n</td>\n<td>\n1.480873\n</td>\n<td>\n0.856178\n</td>\n<td>\n1.561651\n</td>\n</tr>\n<tr>\n<td>\n\"ddcopy\"\n</td>\n<td>\n40.800288\n</td>\n<td>\n0.044044\n</td>\n<td>\n904.649906\n</td>\n</tr>\n</tbody>\n</table>\n</div>"
     },
     "execution_count": 24,
     "metadata": {},
     "output_type": "execute_result"
    }
   ],
   "source": [
    "slowdown(\n",
    "    binary_translation_no_overhead,\n",
    "    host_avg_elapsed_time_and_instructions\n",
    ")"
   ],
   "metadata": {
    "collapsed": false,
    "pycharm": {
     "name": "#%%\n"
    }
   }
  }
 ],
 "metadata": {
  "kernelspec": {
   "display_name": "Python 3",
   "language": "python",
   "name": "python3"
  },
  "language_info": {
   "codemirror_mode": {
    "name": "ipython",
    "version": 2
   },
   "file_extension": ".py",
   "mimetype": "text/x-python",
   "name": "python",
   "nbconvert_exporter": "python",
   "pygments_lexer": "ipython2",
   "version": "2.7.6"
  }
 },
 "nbformat": 4,
 "nbformat_minor": 0
}